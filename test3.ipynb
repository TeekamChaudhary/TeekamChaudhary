





<!DOCTYPE html>
<html lang="en" data-color-mode="auto" data-light-theme="light" data-dark-theme="dark"  data-a11y-animated-images="system" data-a11y-link-underlines="false">


  <head>
    <meta charset="utf-8">
  <link rel="dns-prefetch" href="https://github.githubassets.com">
  <link rel="dns-prefetch" href="https://avatars.githubusercontent.com">
  <link rel="dns-prefetch" href="https://github-cloud.s3.amazonaws.com">
  <link rel="dns-prefetch" href="https://user-images.githubusercontent.com/">
  <link rel="preconnect" href="https://github.githubassets.com" crossorigin>
  <link rel="preconnect" href="https://avatars.githubusercontent.com">

  


  <link crossorigin="anonymous" media="all" rel="stylesheet" href="https://github.githubassets.com/assets/light-a09cef873428.css" /><link crossorigin="anonymous" media="all" rel="stylesheet" href="https://github.githubassets.com/assets/dark-5d486a4ede8e.css" /><link data-color-theme="dark_dimmed" crossorigin="anonymous" media="all" rel="stylesheet" data-href="https://github.githubassets.com/assets/dark_dimmed-27c8d635e4e5.css" /><link data-color-theme="dark_high_contrast" crossorigin="anonymous" media="all" rel="stylesheet" data-href="https://github.githubassets.com/assets/dark_high_contrast-8438e75afd36.css" /><link data-color-theme="dark_colorblind" crossorigin="anonymous" media="all" rel="stylesheet" data-href="https://github.githubassets.com/assets/dark_colorblind-bf5665b96628.css" /><link data-color-theme="light_colorblind" crossorigin="anonymous" media="all" rel="stylesheet" data-href="https://github.githubassets.com/assets/light_colorblind-c414b5ba1dce.css" /><link data-color-theme="light_high_contrast" crossorigin="anonymous" media="all" rel="stylesheet" data-href="https://github.githubassets.com/assets/light_high_contrast-e5868b7374db.css" /><link data-color-theme="light_tritanopia" crossorigin="anonymous" media="all" rel="stylesheet" data-href="https://github.githubassets.com/assets/light_tritanopia-299ac9c64ec0.css" /><link data-color-theme="dark_tritanopia" crossorigin="anonymous" media="all" rel="stylesheet" data-href="https://github.githubassets.com/assets/dark_tritanopia-3a26e78ad0ff.css" />
  
    <link crossorigin="anonymous" media="all" rel="stylesheet" href="https://github.githubassets.com/assets/primer-primitives-6143c8f97ed1.css" />
    <link crossorigin="anonymous" media="all" rel="stylesheet" href="https://github.githubassets.com/assets/primer-d1f40f84ba6b.css" />
    <link crossorigin="anonymous" media="all" rel="stylesheet" href="https://github.githubassets.com/assets/global-dfd05fba5c39.css" />
    <link crossorigin="anonymous" media="all" rel="stylesheet" href="https://github.githubassets.com/assets/github-d91322381cec.css" />
  <link crossorigin="anonymous" media="all" rel="stylesheet" href="https://github.githubassets.com/assets/code-f7d9c60c14a8.css" />

  

  <script type="application/json" id="client-env">{"locale":"en","featureFlags":["copilot_conversational_ux_direct_connection","failbot_handle_non_errors","geojson_azure_maps","hovercard_show_on_focus","image_metric_tracking","turbo_experiment_risky","sample_network_conn_type","star_button_focus"]}</script>
<script crossorigin="anonymous" defer="defer" type="application/javascript" src="https://github.githubassets.com/assets/wp-runtime-2a41ac38665d.js"></script>
<script crossorigin="anonymous" defer="defer" type="application/javascript" src="https://github.githubassets.com/assets/vendors-node_modules_dompurify_dist_purify_js-64d590970fa6.js"></script>
<script crossorigin="anonymous" defer="defer" type="application/javascript" src="https://github.githubassets.com/assets/vendors-node_modules_stacktrace-parser_dist_stack-trace-parser_esm_js-node_modules_github_bro-a4c183-18bf85b8e9f4.js"></script>
<script crossorigin="anonymous" defer="defer" type="application/javascript" src="https://github.githubassets.com/assets/ui_packages_soft-nav_soft-nav_ts-df17d5597d8f.js"></script>
<script crossorigin="anonymous" defer="defer" type="application/javascript" src="https://github.githubassets.com/assets/environment-509b58e05b9f.js"></script>
<script crossorigin="anonymous" defer="defer" type="application/javascript" src="https://github.githubassets.com/assets/vendors-node_modules_github_selector-observer_dist_index_esm_js-2646a2c533e3.js"></script>
<script crossorigin="anonymous" defer="defer" type="application/javascript" src="https://github.githubassets.com/assets/vendors-node_modules_primer_behaviors_dist_esm_focus-zone_js-d55308df5023.js"></script>
<script crossorigin="anonymous" defer="defer" type="application/javascript" src="https://github.githubassets.com/assets/vendors-node_modules_github_relative-time-element_dist_index_js-99e288659d4f.js"></script>
<script crossorigin="anonymous" defer="defer" type="application/javascript" src="https://github.githubassets.com/assets/vendors-node_modules_delegated-events_dist_index_js-node_modules_github_auto-complete-element-5b3870-9b38c0812424.js"></script>
<script crossorigin="anonymous" defer="defer" type="application/javascript" src="https://github.githubassets.com/assets/vendors-node_modules_github_filter-input-element_dist_index_js-node_modules_github_remote-inp-b7d8f4-9cf7d828a39b.js"></script>
<script crossorigin="anonymous" defer="defer" type="application/javascript" src="https://github.githubassets.com/assets/vendors-node_modules_github_file-attachment-element_dist_index_js-node_modules_primer_view-co-821777-452e9e00fdfc.js"></script>
<script crossorigin="anonymous" defer="defer" type="application/javascript" src="https://github.githubassets.com/assets/github-elements-b51e48321de7.js"></script>
<script crossorigin="anonymous" defer="defer" type="application/javascript" src="https://github.githubassets.com/assets/element-registry-e9b061451a1e.js"></script>
<script crossorigin="anonymous" defer="defer" type="application/javascript" src="https://github.githubassets.com/assets/vendors-node_modules_lit-html_lit-html_js-9d9fe1859ce5.js"></script>
<script crossorigin="anonymous" defer="defer" type="application/javascript" src="https://github.githubassets.com/assets/vendors-node_modules_github_hydro-analytics-client_dist_analytics-client_js-node_modules_gith-f3aee1-fd3c22610e40.js"></script>
<script crossorigin="anonymous" defer="defer" type="application/javascript" src="https://github.githubassets.com/assets/vendors-node_modules_github_mini-throttle_dist_index_js-node_modules_github_alive-client_dist-bf5aa2-4aefce0fc3c8.js"></script>
<script crossorigin="anonymous" defer="defer" type="application/javascript" src="https://github.githubassets.com/assets/vendors-node_modules_morphdom_dist_morphdom-esm_js-b1fdd7158cf0.js"></script>
<script crossorigin="anonymous" defer="defer" type="application/javascript" src="https://github.githubassets.com/assets/vendors-node_modules_github_turbo_dist_turbo_es2017-esm_js-1f4793023fcd.js"></script>
<script crossorigin="anonymous" defer="defer" type="application/javascript" src="https://github.githubassets.com/assets/vendors-node_modules_github_remote-form_dist_index_js-node_modules_scroll-anchoring_dist_scro-52dc4b-e1e33bfc0b7e.js"></script>
<script crossorigin="anonymous" defer="defer" type="application/javascript" src="https://github.githubassets.com/assets/vendors-node_modules_color-convert_index_js-35b3ae68c408.js"></script>
<script crossorigin="anonymous" defer="defer" type="application/javascript" src="https://github.githubassets.com/assets/vendors-node_modules_github_paste-markdown_dist_index_esm_js-node_modules_github_quote-select-62bdd0-45e61d473912.js"></script>
<script crossorigin="anonymous" defer="defer" type="application/javascript" src="https://github.githubassets.com/assets/app_assets_modules_github_details-dialog_ts-app_assets_modules_github_fetch_ts-9ca164041015.js"></script>
<script crossorigin="anonymous" defer="defer" type="application/javascript" src="https://github.githubassets.com/assets/app_assets_modules_github_updatable-content_ts-ui_packages_hydro-analytics_hydro-analytics_ts-e4da304b75e7.js"></script>
<script crossorigin="anonymous" defer="defer" type="application/javascript" src="https://github.githubassets.com/assets/app_assets_modules_github_onfocus_ts-app_assets_modules_github_sticky-scroll-into-view_ts-b88dcdb1ae32.js"></script>
<script crossorigin="anonymous" defer="defer" type="application/javascript" src="https://github.githubassets.com/assets/app_assets_modules_github_behaviors_task-list_ts-app_assets_modules_github_sso_ts-ui_packages-7d50ad-9491f2be61ee.js"></script>
<script crossorigin="anonymous" defer="defer" type="application/javascript" src="https://github.githubassets.com/assets/app_assets_modules_github_behaviors_ajax-error_ts-app_assets_modules_github_behaviors_include-2e2258-f7b8ad0ef997.js"></script>
<script crossorigin="anonymous" defer="defer" type="application/javascript" src="https://github.githubassets.com/assets/app_assets_modules_github_behaviors_commenting_edit_ts-app_assets_modules_github_behaviors_ht-83c235-f22ac6b94445.js"></script>
<script crossorigin="anonymous" defer="defer" type="application/javascript" src="https://github.githubassets.com/assets/behaviors-00df034b33e7.js"></script>
<script crossorigin="anonymous" defer="defer" type="application/javascript" src="https://github.githubassets.com/assets/vendors-node_modules_delegated-events_dist_index_js-node_modules_github_catalyst_lib_index_js-06ff531-fe0b8ccc90a5.js"></script>
<script crossorigin="anonymous" defer="defer" type="application/javascript" src="https://github.githubassets.com/assets/notifications-global-f57687007bfc.js"></script>
<script crossorigin="anonymous" defer="defer" type="application/javascript" src="https://github.githubassets.com/assets/code-menu-c743a13234fc.js"></script>
  
  <script crossorigin="anonymous" defer="defer" type="application/javascript" src="https://github.githubassets.com/assets/react-lib-210c4b5934c3.js"></script>
<script crossorigin="anonymous" defer="defer" type="application/javascript" src="https://github.githubassets.com/assets/vendors-node_modules_primer_octicons-react_dist_index_esm_js-node_modules_primer_react_lib-es-3db9ab-258f1f04207a.js"></script>
<script crossorigin="anonymous" defer="defer" type="application/javascript" src="https://github.githubassets.com/assets/vendors-node_modules_primer_react_lib-esm_Box_Box_js-8d2713f90c9a.js"></script>
<script crossorigin="anonymous" defer="defer" type="application/javascript" src="https://github.githubassets.com/assets/vendors-node_modules_primer_react_lib-esm_Button_Button_js-node_modules_primer_react_lib-esm_-c2022e-88c4ecff094b.js"></script>
<script crossorigin="anonymous" defer="defer" type="application/javascript" src="https://github.githubassets.com/assets/vendors-node_modules_primer_react_lib-esm_Truncate_Truncate_js-node_modules_primer_react_lib--5d1957-6153f21fb087.js"></script>
<script crossorigin="anonymous" defer="defer" type="application/javascript" src="https://github.githubassets.com/assets/vendors-node_modules_primer_react_lib-esm_Button_index_js-node_modules_primer_react_lib-esm_O-279bf8-0c402a2a36ec.js"></script>
<script crossorigin="anonymous" defer="defer" type="application/javascript" src="https://github.githubassets.com/assets/vendors-node_modules_primer_react_lib-esm_Text_Text_js-node_modules_primer_react_lib-esm_Text-85a14b-a5a90a7c952d.js"></script>
<script crossorigin="anonymous" defer="defer" type="application/javascript" src="https://github.githubassets.com/assets/vendors-node_modules_primer_react_lib-esm_ActionList_index_js-2ef65721de15.js"></script>
<script crossorigin="anonymous" defer="defer" type="application/javascript" src="https://github.githubassets.com/assets/vendors-node_modules_primer_react_lib-esm_ActionMenu_ActionMenu_js-54f723818b04.js"></script>
<script crossorigin="anonymous" defer="defer" type="application/javascript" src="https://github.githubassets.com/assets/vendors-node_modules_primer_behaviors_dist_esm_scroll-into-view_js-node_modules_primer_react_-04bb1b-c16a26e8811a.js"></script>
<script crossorigin="anonymous" defer="defer" type="application/javascript" src="https://github.githubassets.com/assets/vendors-node_modules_primer_react_lib-esm_FormControl_FormControl_js-66072033b955.js"></script>
<script crossorigin="anonymous" defer="defer" type="application/javascript" src="https://github.githubassets.com/assets/vendors-node_modules_react-router-dom_dist_index_js-4a785319b497.js"></script>
<script crossorigin="anonymous" defer="defer" type="application/javascript" src="https://github.githubassets.com/assets/vendors-node_modules_primer_react_lib-esm_Heading_Heading_js-node_modules_primer_react_lib-es-20c766-165043afbacc.js"></script>
<script crossorigin="anonymous" defer="defer" type="application/javascript" src="https://github.githubassets.com/assets/vendors-node_modules_primer_react_lib-esm_Dialog_js-node_modules_primer_react_lib-esm_TabNav_-8321f5-b3cddef78a7e.js"></script>
<script crossorigin="anonymous" defer="defer" type="application/javascript" src="https://github.githubassets.com/assets/vendors-node_modules_primer_react_lib-esm_Flash_Flash_js-node_modules_primer_react_lib-esm_Un-980de7-cf35b53ad1f1.js"></script>
<script crossorigin="anonymous" defer="defer" type="application/javascript" src="https://github.githubassets.com/assets/vendors-node_modules_primer_react_lib-esm_TreeView_TreeView_js-838f9e6cacf9.js"></script>
<script crossorigin="anonymous" defer="defer" type="application/javascript" src="https://github.githubassets.com/assets/vendors-node_modules_primer_react_lib-esm_BranchName_BranchName_js-node_modules_primer_react_-af105c-b9c0e5017171.js"></script>
<script crossorigin="anonymous" defer="defer" type="application/javascript" src="https://github.githubassets.com/assets/vendors-node_modules_primer_react_lib-esm_AvatarStack_AvatarStack_js-node_modules_primer_reac-f43e7b-471c2e0f3bdc.js"></script>
<script crossorigin="anonymous" defer="defer" type="application/javascript" src="https://github.githubassets.com/assets/vendors-node_modules_primer_react_lib-esm_Checkbox_Checkbox_js-node_modules_primer_react_lib--d59a1c-b344218c5290.js"></script>
<script crossorigin="anonymous" defer="defer" type="application/javascript" src="https://github.githubassets.com/assets/ui_packages_react-core_create-browser-history_ts-ui_packages_react-core_deferred-registry_ts--ebbb92-f46ec58c6478.js"></script>
<script crossorigin="anonymous" defer="defer" type="application/javascript" src="https://github.githubassets.com/assets/ui_packages_react-core_register-app_ts-4c8aa7d9158e.js"></script>
<script crossorigin="anonymous" defer="defer" type="application/javascript" src="https://github.githubassets.com/assets/ui_packages_ref-selector_RefSelector_tsx-9cbaf85c5199.js"></script>
<script crossorigin="anonymous" defer="defer" type="application/javascript" src="https://github.githubassets.com/assets/app_assets_modules_github_blob-anchor_ts-app_assets_modules_github_filter-sort_ts-app_assets_-681869-290e85a161d0.js"></script>
<script crossorigin="anonymous" defer="defer" type="application/javascript" src="https://github.githubassets.com/assets/app_assets_modules_react-code-view_pages_CodeView_tsx-78f6ce4e1fa2.js"></script>
<script crossorigin="anonymous" defer="defer" type="application/javascript" src="https://github.githubassets.com/assets/react-code-view-b230044b3649.js"></script>


  <title>datavisualization1/test3.ipynb at master · itzmohanmadhav/datavisualization1</title>



  <meta name="route-pattern" content="/:user_id/:repository/blob/*name(/*path)">

    
  <meta name="current-catalog-service-hash" content="82c569b93da5c18ed649ebd4c2c79437db4611a6a1373e805a3cb001c64130b7">


  <meta name="request-id" content="C8B0:294A4F:9B5567:AFA7BB:65184128" data-turbo-transient="true" /><meta name="html-safe-nonce" content="85337c73b492e864014be50667850ab7a84a876984d8edcf5366145a7e083f25" data-turbo-transient="true" /><meta name="visitor-payload" content="eyJyZWZlcnJlciI6Imh0dHBzOi8vZ2l0aHViLmNvbS9pdHptb2hhbm1hZGhhdi9kYXRhdmlzdWFsaXphdGlvbjEiLCJyZXF1ZXN0X2lkIjoiQzhCMDoyOTRBNEY6OUI1NTY3OkFGQTdCQjo2NTE4NDEyOCIsInZpc2l0b3JfaWQiOiI4MjgxMTQ2NTcxMzI3MTA5MDg2IiwicmVnaW9uX2VkZ2UiOiJjZW50cmFsaW5kaWEiLCJyZWdpb25fcmVuZGVyIjoiaWFkIn0=" data-turbo-transient="true" /><meta name="visitor-hmac" content="e6239f7280bf033e25948a726dd3a21ea22af3880ee7e1a76061a36cb45df6e9" data-turbo-transient="true" />


    <meta name="hovercard-subject-tag" content="repository:684496603" data-turbo-transient>


  <meta name="github-keyboard-shortcuts" content="repository,source-code,file-tree" data-turbo-transient="true" />
  

  <meta name="selected-link" value="repo_source" data-turbo-transient>
  <link rel="assets" href="https://github.githubassets.com/">

    <meta name="google-site-verification" content="c1kuD-K2HIVF635lypcsWPoD4kilo5-jA_wBFyT4uMY">
  <meta name="google-site-verification" content="KT5gs8h0wvaagLKAVWq8bbeNwnZZK1r1XQysX3xurLU">
  <meta name="google-site-verification" content="ZzhVyEFwb7w3e0-uOTltm8Jsck2F5StVihD0exw2fsA">
  <meta name="google-site-verification" content="GXs5KoUUkNCoaAZn7wPN-t01Pywp9M3sEjnt_3_ZWPc">
  <meta name="google-site-verification" content="Apib7-x98H0j5cPqHWwSMm6dNU4GmODRoqxLiDzdx9I">

<meta name="octolytics-url" content="https://collector.github.com/github/collect" /><meta name="octolytics-actor-id" content="122473930" /><meta name="octolytics-actor-login" content="TeekamChaudhary" /><meta name="octolytics-actor-hash" content="7a65ea52ab405b109c438314e682483fa57395b819231ce19bf962aa88a8a0e1" />

  <meta name="analytics-location" content="/&lt;user-name&gt;/&lt;repo-name&gt;/blob/show" data-turbo-transient="true" />

  




  

    <meta name="user-login" content="TeekamChaudhary">

  <link rel="sudo-modal" href="/sessions/sudo_modal">

    <meta name="viewport" content="width=device-width">
    
      <meta name="description" content="learning data visualisation. Contribute to itzmohanmadhav/datavisualization1 development by creating an account on GitHub.">
      <link rel="search" type="application/opensearchdescription+xml" href="/opensearch.xml" title="GitHub">
    <link rel="fluid-icon" href="https://github.com/fluidicon.png" title="GitHub">
    <meta property="fb:app_id" content="1401488693436528">
    <meta name="apple-itunes-app" content="app-id=1477376905, app-argument=https://github.com/itzmohanmadhav/datavisualization1/blob/master/test3.ipynb" />
      <meta name="twitter:image:src" content="https://opengraph.githubassets.com/485df519bcd19fc901fd868aa99e0fa2bd866b609f87c3d311f94193f426aecb/itzmohanmadhav/datavisualization1" /><meta name="twitter:site" content="@github" /><meta name="twitter:card" content="summary_large_image" /><meta name="twitter:title" content="datavisualization1/test3.ipynb at master · itzmohanmadhav/datavisualization1" /><meta name="twitter:description" content="learning data visualisation. Contribute to itzmohanmadhav/datavisualization1 development by creating an account on GitHub." />
      <meta property="og:image" content="https://opengraph.githubassets.com/485df519bcd19fc901fd868aa99e0fa2bd866b609f87c3d311f94193f426aecb/itzmohanmadhav/datavisualization1" /><meta property="og:image:alt" content="learning data visualisation. Contribute to itzmohanmadhav/datavisualization1 development by creating an account on GitHub." /><meta property="og:image:width" content="1200" /><meta property="og:image:height" content="600" /><meta property="og:site_name" content="GitHub" /><meta property="og:type" content="object" /><meta property="og:title" content="datavisualization1/test3.ipynb at master · itzmohanmadhav/datavisualization1" /><meta property="og:url" content="https://github.com/itzmohanmadhav/datavisualization1/blob/master/test3.ipynb" /><meta property="og:description" content="learning data visualisation. Contribute to itzmohanmadhav/datavisualization1 development by creating an account on GitHub." />
      

      <link rel="shared-web-socket" href="wss://alive.github.com/_sockets/u/122473930/ws?session=eyJ2IjoiVjMiLCJ1IjoxMjI0NzM5MzAsInMiOjEyMTE3Njc0NTAsImMiOjMzMDgzNzE1MDIsInQiOjE2OTYwODgzNjd9--1c23c064f44a280cd9dad7f3c424e04cd521e10030d2f1322e6e741112ccfed3" data-refresh-url="/_alive" data-session-id="84921327d7c86dd47bb7f322e6061f68a979df49c117d0d4fcc9a4274440092c">
      <link rel="shared-web-socket-src" href="/assets-cdn/worker/socket-worker-cee473359cfe.js">


        <meta name="hostname" content="github.com">


      <meta name="keyboard-shortcuts-preference" content="all">

        <meta name="expected-hostname" content="github.com">


  <meta http-equiv="x-pjax-version" content="956d481279542d99827e6b4c5050fe7d2a2fe12924a290c9917a9ba4c1133b72" data-turbo-track="reload">
  <meta http-equiv="x-pjax-csp-version" content="ee14a7165914197d62e19f664bfb961fcfdfc1ec31939a5c7b137fbab1751c87" data-turbo-track="reload">
  <meta http-equiv="x-pjax-css-version" content="843ea44707e4f381577f85789d50429a12c58a01edee7ec33f176fce36437dbc" data-turbo-track="reload">
  <meta http-equiv="x-pjax-js-version" content="bf0e75fd8b94f97f8a6809596764939b75eddaa9170f9c1627f1059e4bac433f" data-turbo-track="reload">

  <meta name="turbo-cache-control" content="no-preview" data-turbo-transient="">

      <meta name="turbo-cache-control" content="no-cache" data-turbo-transient>
    <meta data-hydrostats="publish">

  <meta name="go-import" content="github.com/itzmohanmadhav/datavisualization1 git https://github.com/itzmohanmadhav/datavisualization1.git">

  <meta name="octolytics-dimension-user_id" content="143478131" /><meta name="octolytics-dimension-user_login" content="itzmohanmadhav" /><meta name="octolytics-dimension-repository_id" content="684496603" /><meta name="octolytics-dimension-repository_nwo" content="itzmohanmadhav/datavisualization1" /><meta name="octolytics-dimension-repository_public" content="true" /><meta name="octolytics-dimension-repository_is_fork" content="false" /><meta name="octolytics-dimension-repository_network_root_id" content="684496603" /><meta name="octolytics-dimension-repository_network_root_nwo" content="itzmohanmadhav/datavisualization1" />



  <meta name="turbo-body-classes" content="logged-in env-production page-responsive">


  <meta name="browser-stats-url" content="https://api.github.com/_private/browser/stats">

  <meta name="browser-errors-url" content="https://api.github.com/_private/browser/errors">

  <meta name="browser-optimizely-client-errors-url" content="https://api.github.com/_private/browser/optimizely_client/errors">

  <link rel="mask-icon" href="https://github.githubassets.com/pinned-octocat.svg" color="#000000">
  <link rel="alternate icon" class="js-site-favicon" type="image/png" href="https://github.githubassets.com/favicons/favicon.png">
  <link rel="icon" class="js-site-favicon" type="image/svg+xml" href="https://github.githubassets.com/favicons/favicon.svg">

<meta name="theme-color" content="#1e2327">
<meta name="color-scheme" content="light dark" />

  <meta name="msapplication-TileImage" content="/windows-tile.png">
  <meta name="msapplication-TileColor" content="#ffffff">

  <link rel="manifest" href="/manifest.json" crossOrigin="use-credentials">

  </head>

  <body class="logged-in env-production page-responsive" style="word-wrap: break-word;">
    <div data-turbo-body class="logged-in env-production page-responsive" style="word-wrap: break-word;">
      


    <div class="position-relative js-header-wrapper ">
      <a href="#start-of-content" class="p-3 color-bg-accent-emphasis color-fg-on-emphasis show-on-focus js-skip-to-content">Skip to content</a>
      <span data-view-component="true" class="progress-pjax-loader Progress position-fixed width-full">
    <span style="width: 0%;" data-view-component="true" class="Progress-item progress-pjax-loader-bar left-0 top-0 color-bg-accent-emphasis"></span>
</span>      
      


      

        <script crossorigin="anonymous" defer="defer" type="application/javascript" src="https://github.githubassets.com/assets/vendors-node_modules_allex_crc32_lib_crc32_esm_js-node_modules_github_clipboard-copy-element_-2da1d5-ca2e742c29fb.js"></script>
<script crossorigin="anonymous" defer="defer" type="application/javascript" src="https://github.githubassets.com/assets/app_assets_modules_github_command-palette_items_help-item_ts-app_assets_modules_github_comman-48ad9d-b83fa12e3a83.js"></script>
<script crossorigin="anonymous" defer="defer" type="application/javascript" src="https://github.githubassets.com/assets/command-palette-0ae4aa129961.js"></script>

            <header class="AppHeader">
    

    <div class="AppHeader-globalBar pb-2 js-global-bar">
      <div class="AppHeader-globalBar-start">
          <deferred-side-panel data-url="/_side-panels/global">
  <include-fragment data-target="deferred-side-panel.fragment">
      
  <button aria-label="Open global navigation menu" data-action="click:deferred-side-panel#loadPanel click:deferred-side-panel#panelOpened" data-show-dialog-id="dialog-e8bb7814-8cbf-4d18-8f96-22a6cd30db88" id="dialog-show-dialog-e8bb7814-8cbf-4d18-8f96-22a6cd30db88" type="button" data-view-component="true" class="Button Button--iconOnly Button--secondary Button--medium AppHeader-button color-bg-transparent p-0 color-fg-muted">    <svg aria-hidden="true" height="16" viewBox="0 0 16 16" version="1.1" width="16" data-view-component="true" class="octicon octicon-three-bars Button-visual">
    <path d="M1 2.75A.75.75 0 0 1 1.75 2h12.5a.75.75 0 0 1 0 1.5H1.75A.75.75 0 0 1 1 2.75Zm0 5A.75.75 0 0 1 1.75 7h12.5a.75.75 0 0 1 0 1.5H1.75A.75.75 0 0 1 1 7.75ZM1.75 12h12.5a.75.75 0 0 1 0 1.5H1.75a.75.75 0 0 1 0-1.5Z"></path>
</svg>
</button>  

<div class="Overlay--hidden Overlay-backdrop--side Overlay-backdrop--placement-left" data-modal-dialog-overlay>
  <modal-dialog data-target="deferred-side-panel.panel" role="dialog" id="dialog-e8bb7814-8cbf-4d18-8f96-22a6cd30db88" aria-modal="true" aria-disabled="true" aria-labelledby="dialog-e8bb7814-8cbf-4d18-8f96-22a6cd30db88-title" aria-describedby="dialog-e8bb7814-8cbf-4d18-8f96-22a6cd30db88-description" data-view-component="true" class="Overlay Overlay-whenNarrow Overlay--size-small-portrait Overlay--motion-scaleFade SidePanel">
    <div styles="flex-direction: row;" data-view-component="true" class="Overlay-header">
  <div class="Overlay-headerContentWrap">
    <div class="Overlay-titleWrap">
      <h1 class="Overlay-title sr-only" id="dialog-e8bb7814-8cbf-4d18-8f96-22a6cd30db88-title">
        Global navigation
      </h1>
            <div data-view-component="true" class="d-flex">
      <div data-view-component="true" class="AppHeader-logo position-relative">
        <svg aria-hidden="true" height="24" viewBox="0 0 16 16" version="1.1" width="24" data-view-component="true" class="octicon octicon-mark-github">
    <path d="M8 0c4.42 0 8 3.58 8 8a8.013 8.013 0 0 1-5.45 7.59c-.4.08-.55-.17-.55-.38 0-.27.01-1.13.01-2.2 0-.75-.25-1.23-.54-1.48 1.78-.2 3.65-.88 3.65-3.95 0-.88-.31-1.59-.82-2.15.08-.2.36-1.02-.08-2.12 0 0-.67-.22-2.2.82-.64-.18-1.32-.27-2-.27-.68 0-1.36.09-2 .27-1.53-1.03-2.2-.82-2.2-.82-.44 1.1-.16 1.92-.08 2.12-.51.56-.82 1.28-.82 2.15 0 3.06 1.86 3.75 3.64 3.95-.23.2-.44.55-.51 1.07-.46.21-1.61.55-2.33-.66-.15-.24-.6-.83-1.23-.82-.67.01-.27.38.01.53.34.19.73.9.82 1.13.16.45.68 1.31 2.69.94 0 .67.01 1.3.01 1.49 0 .21-.15.45-.55.38A7.995 7.995 0 0 1 0 8c0-4.42 3.58-8 8-8Z"></path>
</svg>
</div></div>
    </div>
    <div class="Overlay-actionWrap">
      <button data-close-dialog-id="dialog-e8bb7814-8cbf-4d18-8f96-22a6cd30db88" aria-label="Close" type="button" data-view-component="true" class="close-button Overlay-closeButton"><svg aria-hidden="true" height="16" viewBox="0 0 16 16" version="1.1" width="16" data-view-component="true" class="octicon octicon-x">
    <path d="M3.72 3.72a.75.75 0 0 1 1.06 0L8 6.94l3.22-3.22a.749.749 0 0 1 1.275.326.749.749 0 0 1-.215.734L9.06 8l3.22 3.22a.749.749 0 0 1-.326 1.275.749.749 0 0 1-.734-.215L8 9.06l-3.22 3.22a.751.751 0 0 1-1.042-.018.751.751 0 0 1-.018-1.042L6.94 8 3.72 4.78a.75.75 0 0 1 0-1.06Z"></path>
</svg></button>
    </div>
  </div>
</div>
      <div data-view-component="true" class="Overlay-body d-flex flex-column height-full px-2">      <nav aria-label="Site navigation" data-view-component="true" class="ActionList">
  
  <nav-list>
    <ul data-view-component="true" class="ActionListWrap">
        
          
<li item_id="general" data-item-id="" data-targets="nav-list.items" data-view-component="true" class="ActionListItem">
    
    <a data-hotkey="g d" data-analytics-event="{&quot;category&quot;:&quot;Global navigation&quot;,&quot;action&quot;:&quot;HOME&quot;,&quot;label&quot;:null}" id="item-f0411f80-7614-4ade-a215-4e1ec5145558" href="/dashboard" data-view-component="true" class="ActionListContent ActionListContent--visual16">
        <span class="ActionListItem-visual ActionListItem-visual--leading">
          <svg aria-hidden="true" height="16" viewBox="0 0 16 16" version="1.1" width="16" data-view-component="true" class="octicon octicon-home">
    <path d="M6.906.664a1.749 1.749 0 0 1 2.187 0l5.25 4.2c.415.332.657.835.657 1.367v7.019A1.75 1.75 0 0 1 13.25 15h-3.5a.75.75 0 0 1-.75-.75V9H7v5.25a.75.75 0 0 1-.75.75h-3.5A1.75 1.75 0 0 1 1 13.25V6.23c0-.531.242-1.034.657-1.366l5.25-4.2Zm1.25 1.171a.25.25 0 0 0-.312 0l-5.25 4.2a.25.25 0 0 0-.094.196v7.019c0 .138.112.25.25.25H5.5V8.25a.75.75 0 0 1 .75-.75h3.5a.75.75 0 0 1 .75.75v5.25h2.75a.25.25 0 0 0 .25-.25V6.23a.25.25 0 0 0-.094-.195Z"></path>
</svg>
        </span>
      
        <span data-view-component="true" class="ActionListItem-label">
          Home
</span></a>
  
  
</li>

        
          
<li item_id="personal_info" data-item-id="" data-targets="nav-list.items" data-view-component="true" class="ActionListItem">
    
    <a data-hotkey="g i" data-analytics-event="{&quot;category&quot;:&quot;Global navigation&quot;,&quot;action&quot;:&quot;ISSUES&quot;,&quot;label&quot;:null}" id="item-b7552425-2d81-4243-afec-39eebe75df16" href="/issues" data-view-component="true" class="ActionListContent ActionListContent--visual16">
        <span class="ActionListItem-visual ActionListItem-visual--leading">
          <svg aria-hidden="true" height="16" viewBox="0 0 16 16" version="1.1" width="16" data-view-component="true" class="octicon octicon-issue-opened">
    <path d="M8 9.5a1.5 1.5 0 1 0 0-3 1.5 1.5 0 0 0 0 3Z"></path><path d="M8 0a8 8 0 1 1 0 16A8 8 0 0 1 8 0ZM1.5 8a6.5 6.5 0 1 0 13 0 6.5 6.5 0 0 0-13 0Z"></path>
</svg>
        </span>
      
        <span data-view-component="true" class="ActionListItem-label">
          Issues
</span></a>
  
  
</li>

        
          
<li item_id="password" data-item-id="" data-targets="nav-list.items" data-view-component="true" class="ActionListItem">
    
    <a data-hotkey="g p" data-analytics-event="{&quot;category&quot;:&quot;Global navigation&quot;,&quot;action&quot;:&quot;PULL_REQUESTS&quot;,&quot;label&quot;:null}" id="item-944c37b2-7227-4ece-a4e9-ce52f82c7bf1" href="/pulls" data-view-component="true" class="ActionListContent ActionListContent--visual16">
        <span class="ActionListItem-visual ActionListItem-visual--leading">
          <svg aria-hidden="true" height="16" viewBox="0 0 16 16" version="1.1" width="16" data-view-component="true" class="octicon octicon-git-pull-request">
    <path d="M1.5 3.25a2.25 2.25 0 1 1 3 2.122v5.256a2.251 2.251 0 1 1-1.5 0V5.372A2.25 2.25 0 0 1 1.5 3.25Zm5.677-.177L9.573.677A.25.25 0 0 1 10 .854V2.5h1A2.5 2.5 0 0 1 13.5 5v5.628a2.251 2.251 0 1 1-1.5 0V5a1 1 0 0 0-1-1h-1v1.646a.25.25 0 0 1-.427.177L7.177 3.427a.25.25 0 0 1 0-.354ZM3.75 2.5a.75.75 0 1 0 0 1.5.75.75 0 0 0 0-1.5Zm0 9.5a.75.75 0 1 0 0 1.5.75.75 0 0 0 0-1.5Zm8.25.75a.75.75 0 1 0 1.5 0 .75.75 0 0 0-1.5 0Z"></path>
</svg>
        </span>
      
        <span data-view-component="true" class="ActionListItem-label">
          Pull requests
</span></a>
  
  
</li>

        
          
<li item_id="billing" data-item-id="" data-targets="nav-list.items" data-view-component="true" class="ActionListItem">
    
    <a data-analytics-event="{&quot;category&quot;:&quot;Global navigation&quot;,&quot;action&quot;:&quot;DISCUSSIONS&quot;,&quot;label&quot;:null}" id="item-3c53eb26-8b9e-4949-9e2b-ac21f4b3a074" href="/discussions" data-view-component="true" class="ActionListContent ActionListContent--visual16">
        <span class="ActionListItem-visual ActionListItem-visual--leading">
          <svg aria-hidden="true" height="16" viewBox="0 0 16 16" version="1.1" width="16" data-view-component="true" class="octicon octicon-comment-discussion">
    <path d="M1.75 1h8.5c.966 0 1.75.784 1.75 1.75v5.5A1.75 1.75 0 0 1 10.25 10H7.061l-2.574 2.573A1.458 1.458 0 0 1 2 11.543V10h-.25A1.75 1.75 0 0 1 0 8.25v-5.5C0 1.784.784 1 1.75 1ZM1.5 2.75v5.5c0 .138.112.25.25.25h1a.75.75 0 0 1 .75.75v2.19l2.72-2.72a.749.749 0 0 1 .53-.22h3.5a.25.25 0 0 0 .25-.25v-5.5a.25.25 0 0 0-.25-.25h-8.5a.25.25 0 0 0-.25.25Zm13 2a.25.25 0 0 0-.25-.25h-.5a.75.75 0 0 1 0-1.5h.5c.966 0 1.75.784 1.75 1.75v5.5A1.75 1.75 0 0 1 14.25 12H14v1.543a1.458 1.458 0 0 1-2.487 1.03L9.22 12.28a.749.749 0 0 1 .326-1.275.749.749 0 0 1 .734.215l2.22 2.22v-2.19a.75.75 0 0 1 .75-.75h1a.25.25 0 0 0 .25-.25Z"></path>
</svg>
        </span>
      
        <span data-view-component="true" class="ActionListItem-label">
          Discussions
</span></a>
  
  
</li>

</ul>  </nav-list>
</nav>

      <div data-view-component="true" class="my-3 d-flex flex-justify-center height-full">
        <svg style="box-sizing: content-box; color: var(--color-icon-primary);" width="16" height="16" viewBox="0 0 16 16" fill="none" data-view-component="true" class="anim-rotate">
  <circle cx="8" cy="8" r="7" stroke="currentColor" stroke-opacity="0.25" stroke-width="2" vector-effect="non-scaling-stroke" fill="none" />
  <path d="M15 8a7.002 7.002 0 00-7-7" stroke="currentColor" stroke-width="2" stroke-linecap="round" vector-effect="non-scaling-stroke" />
</svg>
</div>
</div>
      <div data-view-component="true" class="Overlay-footer Overlay-footer--alignEnd d-block pt-0">      <li role="presentation" aria-hidden="true" data-view-component="true" class="ActionList-sectionDivider mt-0 mb-1"></li>

        <nav aria-label="Additional navigation" data-view-component="true" class="ActionList px-0 flex-1">
  
  <nav-list>
    <ul data-view-component="true" class="ActionListWrap">
        
          
<li item_id="general" data-item-id="" data-targets="nav-list.items" data-view-component="true" class="ActionListItem">
    
    <a data-analytics-event="{&quot;category&quot;:&quot;Global navigation&quot;,&quot;action&quot;:&quot;EXPLORE&quot;,&quot;label&quot;:null}" id="item-9c5d08f9-8ca7-4342-90b7-277e11ac1232" href="/explore" data-view-component="true" class="ActionListContent ActionListContent--visual16">
        <span class="ActionListItem-visual ActionListItem-visual--leading">
          <svg aria-hidden="true" height="16" viewBox="0 0 16 16" version="1.1" width="16" data-view-component="true" class="octicon octicon-telescope">
    <path d="M14.184 1.143v-.001l1.422 2.464a1.75 1.75 0 0 1-.757 2.451L3.104 11.713a1.75 1.75 0 0 1-2.275-.702l-.447-.775a1.75 1.75 0 0 1 .53-2.32L11.682.573a1.748 1.748 0 0 1 2.502.57Zm-4.709 9.32h-.001l2.644 3.863a.75.75 0 1 1-1.238.848l-1.881-2.75v2.826a.75.75 0 0 1-1.5 0v-2.826l-1.881 2.75a.75.75 0 1 1-1.238-.848l2.049-2.992a.746.746 0 0 1 .293-.253l1.809-.87a.749.749 0 0 1 .944.252ZM9.436 3.92h-.001l-4.97 3.39.942 1.63 5.42-2.61Zm3.091-2.108h.001l-1.85 1.26 1.505 2.605 2.016-.97a.247.247 0 0 0 .13-.151.247.247 0 0 0-.022-.199l-1.422-2.464a.253.253 0 0 0-.161-.119.254.254 0 0 0-.197.038ZM1.756 9.157a.25.25 0 0 0-.075.33l.447.775a.25.25 0 0 0 .325.1l1.598-.769-.83-1.436-1.465 1Z"></path>
</svg>
        </span>
      
        <span data-view-component="true" class="ActionListItem-label">
          Explore
</span></a>
  
  
</li>

        
          
<li item_id="general" data-item-id="" data-targets="nav-list.items" data-view-component="true" class="ActionListItem">
    
    <a data-analytics-event="{&quot;category&quot;:&quot;Global navigation&quot;,&quot;action&quot;:&quot;MARKETPLACE&quot;,&quot;label&quot;:null}" id="item-03c14fe0-7f42-4eb2-9d3a-2c8d26064e05" href="/marketplace" data-view-component="true" class="ActionListContent ActionListContent--visual16">
        <span class="ActionListItem-visual ActionListItem-visual--leading">
          <svg aria-hidden="true" height="16" viewBox="0 0 16 16" version="1.1" width="16" data-view-component="true" class="octicon octicon-gift">
    <path d="M2 2.75A2.75 2.75 0 0 1 4.75 0c.983 0 1.873.42 2.57 1.232.268.318.497.668.68 1.042.183-.375.411-.725.68-1.044C9.376.42 10.266 0 11.25 0a2.75 2.75 0 0 1 2.45 4h.55c.966 0 1.75.784 1.75 1.75v2c0 .698-.409 1.301-1 1.582v4.918A1.75 1.75 0 0 1 13.25 16H2.75A1.75 1.75 0 0 1 1 14.25V9.332C.409 9.05 0 8.448 0 7.75v-2C0 4.784.784 4 1.75 4h.55c-.192-.375-.3-.8-.3-1.25ZM7.25 9.5H2.5v4.75c0 .138.112.25.25.25h4.5Zm1.5 0v5h4.5a.25.25 0 0 0 .25-.25V9.5Zm0-4V8h5.5a.25.25 0 0 0 .25-.25v-2a.25.25 0 0 0-.25-.25Zm-7 0a.25.25 0 0 0-.25.25v2c0 .138.112.25.25.25h5.5V5.5h-5.5Zm3-4a1.25 1.25 0 0 0 0 2.5h2.309c-.233-.818-.542-1.401-.878-1.793-.43-.502-.915-.707-1.431-.707ZM8.941 4h2.309a1.25 1.25 0 0 0 0-2.5c-.516 0-1 .205-1.43.707-.337.392-.646.975-.879 1.793Z"></path>
</svg>
        </span>
      
        <span data-view-component="true" class="ActionListItem-label">
          Marketplace
</span></a>
  
  
</li>

        
          
<li item_id="feedback" data-item-id="" data-targets="nav-list.items" data-view-component="true" class="ActionListItem">
    
    <a data-analytics-event="{&quot;category&quot;:&quot;Global navigation&quot;,&quot;action&quot;:&quot;FEEDBACK&quot;,&quot;label&quot;:null}" id="item-e99a2613-8905-4c07-9d1d-5ecc3ade7b19" href="https://gh.io/navigation-update" data-view-component="true" class="ActionListContent ActionListContent--visual16">
        <span class="ActionListItem-visual ActionListItem-visual--leading">
          <svg aria-hidden="true" height="16" viewBox="0 0 16 16" version="1.1" width="16" data-view-component="true" class="octicon octicon-comment-discussion">
    <path d="M1.75 1h8.5c.966 0 1.75.784 1.75 1.75v5.5A1.75 1.75 0 0 1 10.25 10H7.061l-2.574 2.573A1.458 1.458 0 0 1 2 11.543V10h-.25A1.75 1.75 0 0 1 0 8.25v-5.5C0 1.784.784 1 1.75 1ZM1.5 2.75v5.5c0 .138.112.25.25.25h1a.75.75 0 0 1 .75.75v2.19l2.72-2.72a.749.749 0 0 1 .53-.22h3.5a.25.25 0 0 0 .25-.25v-5.5a.25.25 0 0 0-.25-.25h-8.5a.25.25 0 0 0-.25.25Zm13 2a.25.25 0 0 0-.25-.25h-.5a.75.75 0 0 1 0-1.5h.5c.966 0 1.75.784 1.75 1.75v5.5A1.75 1.75 0 0 1 14.25 12H14v1.543a1.458 1.458 0 0 1-2.487 1.03L9.22 12.28a.749.749 0 0 1 .326-1.275.749.749 0 0 1 .734.215l2.22 2.22v-2.19a.75.75 0 0 1 .75-.75h1a.25.25 0 0 0 .25-.25Z"></path>
</svg>
        </span>
      
        <span data-view-component="true" class="ActionListItem-label">
          Give new navigation feedback
</span>        <span class="ActionListItem-visual ActionListItem-visual--trailing">
          <span title="Beta" data-view-component="true" class="Counter color-bg-default color-border-success-emphasis color-fg-success">Beta</span>
        </span>
</a>
  
  
</li>

</ul>  </nav-list>
</nav>

      <div data-view-component="true" class="px-2">      <p class="color-fg-subtle text-small text-light">&copy; 2023 GitHub, Inc.</p>

      <div data-view-component="true" class="d-flex text-small text-light">
          <a target="_blank" href="/about" data-view-component="true" class="Link mr-2">About</a>
          <a target="_blank" href="https://github.blog" data-view-component="true" class="Link mr-2">Blog</a>
          <a target="_blank" href="https://docs.github.com/site-policy/github-terms/github-terms-of-service" data-view-component="true" class="Link mr-2">Terms</a>
          <a target="_blank" href="https://docs.github.com/site-policy/privacy-policies/github-privacy-statement" data-view-component="true" class="Link mr-2">Privacy</a>
          <a target="_blank" href="/security" data-view-component="true" class="Link mr-2">Security</a>
        <a target="_blank" href="https://www.githubstatus.com/" data-view-component="true" class="Link mr-3">Status</a>
</div></div>
</div>
</modal-dialog></div>

  </include-fragment>
</deferred-side-panel>

        <a
          class="AppHeader-logo ml-2"
          href="https://github.com/"
          data-hotkey="g d"
          aria-label="Homepage "
          data-turbo="false"
          data-analytics-event="{&quot;category&quot;:&quot;Header&quot;,&quot;action&quot;:&quot;go to dashboard&quot;,&quot;label&quot;:&quot;icon:logo&quot;}"
        >
          <svg height="32" aria-hidden="true" viewBox="0 0 16 16" version="1.1" width="32" data-view-component="true" class="octicon octicon-mark-github v-align-middle color-fg-default">
    <path d="M8 0c4.42 0 8 3.58 8 8a8.013 8.013 0 0 1-5.45 7.59c-.4.08-.55-.17-.55-.38 0-.27.01-1.13.01-2.2 0-.75-.25-1.23-.54-1.48 1.78-.2 3.65-.88 3.65-3.95 0-.88-.31-1.59-.82-2.15.08-.2.36-1.02-.08-2.12 0 0-.67-.22-2.2.82-.64-.18-1.32-.27-2-.27-.68 0-1.36.09-2 .27-1.53-1.03-2.2-.82-2.2-.82-.44 1.1-.16 1.92-.08 2.12-.51.56-.82 1.28-.82 2.15 0 3.06 1.86 3.75 3.64 3.95-.23.2-.44.55-.51 1.07-.46.21-1.61.55-2.33-.66-.15-.24-.6-.83-1.23-.82-.67.01-.27.38.01.53.34.19.73.9.82 1.13.16.45.68 1.31 2.69.94 0 .67.01 1.3.01 1.49 0 .21-.15.45-.55.38A7.995 7.995 0 0 1 0 8c0-4.42 3.58-8 8-8Z"></path>
</svg>
        </a>

          <div class="AppHeader-context" >
  <div class="AppHeader-context-compact">
        <button aria-expanded="false" aria-haspopup="dialog" aria-label="Page context: itzmohanmadhav / datavisualization1" id="dialog-show-context-region-dialog" data-show-dialog-id="context-region-dialog" type="button" data-view-component="true" class="AppHeader-context-compact-trigger Truncate Button--secondary Button--medium Button box-shadow-none">    <span class="Button-content">
      <span class="Button-label"><span class="AppHeader-context-compact-lead">
                <span class="AppHeader-context-compact-parentItem">itzmohanmadhav</span>
                <span class="AppHeader-context-compact-separator">&nbsp;/</span>

            </span>

            <strong class="AppHeader-context-compact-mainItem d-flex flex-items-center Truncate" >
  <span class="Truncate-text ">datavisualization1</span>

</strong></span>
    </span>
</button>  

<div class="Overlay--hidden Overlay-backdrop--center" data-modal-dialog-overlay>
  <modal-dialog role="dialog" id="context-region-dialog" aria-modal="true" aria-disabled="true" aria-labelledby="context-region-dialog-title" aria-describedby="context-region-dialog-description" data-view-component="true" class="Overlay Overlay-whenNarrow Overlay--size-medium Overlay--motion-scaleFade">
    <div data-view-component="true" class="Overlay-header">
  <div class="Overlay-headerContentWrap">
    <div class="Overlay-titleWrap">
      <h1 class="Overlay-title " id="context-region-dialog-title">
        Navigate back to
      </h1>
    </div>
    <div class="Overlay-actionWrap">
      <button data-close-dialog-id="context-region-dialog" aria-label="Close" type="button" data-view-component="true" class="close-button Overlay-closeButton"><svg aria-hidden="true" height="16" viewBox="0 0 16 16" version="1.1" width="16" data-view-component="true" class="octicon octicon-x">
    <path d="M3.72 3.72a.75.75 0 0 1 1.06 0L8 6.94l3.22-3.22a.749.749 0 0 1 1.275.326.749.749 0 0 1-.215.734L9.06 8l3.22 3.22a.749.749 0 0 1-.326 1.275.749.749 0 0 1-.734-.215L8 9.06l-3.22 3.22a.751.751 0 0 1-1.042-.018.751.751 0 0 1-.018-1.042L6.94 8 3.72 4.78a.75.75 0 0 1 0-1.06Z"></path>
</svg></button>
    </div>
  </div>
</div>
      <div data-view-component="true" class="Overlay-body">          <ul role="list" class="list-style-none" >
    <li>
      <a data-analytics-event="{&quot;category&quot;:&quot;SiteHeaderComponent&quot;,&quot;action&quot;:&quot;context_region_crumb&quot;,&quot;label&quot;:&quot;itzmohanmadhav&quot;,&quot;screen_size&quot;:&quot;compact&quot;}" href="/itzmohanmadhav" data-view-component="true" class="Link--primary Truncate d-flex flex-items-center py-1">
        <span class="AppHeader-context-item-label Truncate-text ">
            <svg aria-hidden="true" height="12" viewBox="0 0 16 16" version="1.1" width="12" data-view-component="true" class="octicon octicon-person mr-1">
    <path d="M10.561 8.073a6.005 6.005 0 0 1 3.432 5.142.75.75 0 1 1-1.498.07 4.5 4.5 0 0 0-8.99 0 .75.75 0 0 1-1.498-.07 6.004 6.004 0 0 1 3.431-5.142 3.999 3.999 0 1 1 5.123 0ZM10.5 5a2.5 2.5 0 1 0-5 0 2.5 2.5 0 0 0 5 0Z"></path>
</svg>

          itzmohanmadhav
        </span>

</a>
    </li>
    <li>
      <a data-analytics-event="{&quot;category&quot;:&quot;SiteHeaderComponent&quot;,&quot;action&quot;:&quot;context_region_crumb&quot;,&quot;label&quot;:&quot;datavisualization1&quot;,&quot;screen_size&quot;:&quot;compact&quot;}" href="/itzmohanmadhav/datavisualization1" data-view-component="true" class="Link--primary Truncate d-flex flex-items-center py-1">
        <span class="AppHeader-context-item-label Truncate-text ">
            <svg aria-hidden="true" height="12" viewBox="0 0 16 16" version="1.1" width="12" data-view-component="true" class="octicon octicon-repo mr-1">
    <path d="M2 2.5A2.5 2.5 0 0 1 4.5 0h8.75a.75.75 0 0 1 .75.75v12.5a.75.75 0 0 1-.75.75h-2.5a.75.75 0 0 1 0-1.5h1.75v-2h-8a1 1 0 0 0-.714 1.7.75.75 0 1 1-1.072 1.05A2.495 2.495 0 0 1 2 11.5Zm10.5-1h-8a1 1 0 0 0-1 1v6.708A2.486 2.486 0 0 1 4.5 9h8ZM5 12.25a.25.25 0 0 1 .25-.25h3.5a.25.25 0 0 1 .25.25v3.25a.25.25 0 0 1-.4.2l-1.45-1.087a.249.249 0 0 0-.3 0L5.4 15.7a.25.25 0 0 1-.4-.2Z"></path>
</svg>

          datavisualization1
        </span>

</a>
    </li>
</ul>

</div>
      
</modal-dialog></div>
  </div>

  <div class="AppHeader-context-full">
    <nav role="navigation" aria-label="Page context">
      <ul role="list" class="list-style-none" >
    <li>
      <a data-analytics-event="{&quot;category&quot;:&quot;SiteHeaderComponent&quot;,&quot;action&quot;:&quot;context_region_crumb&quot;,&quot;label&quot;:&quot;itzmohanmadhav&quot;,&quot;screen_size&quot;:&quot;full&quot;}" data-hovercard-type="user" data-hovercard-url="/users/itzmohanmadhav/hovercard" data-octo-click="hovercard-link-click" data-octo-dimensions="link_type:self" href="/itzmohanmadhav" data-view-component="true" class="AppHeader-context-item">
        <span class="AppHeader-context-item-label  ">

          itzmohanmadhav
        </span>

</a>
        <span class="AppHeader-context-item-separator">/</span>
    </li>
    <li>
      <a data-analytics-event="{&quot;category&quot;:&quot;SiteHeaderComponent&quot;,&quot;action&quot;:&quot;context_region_crumb&quot;,&quot;label&quot;:&quot;datavisualization1&quot;,&quot;screen_size&quot;:&quot;full&quot;}" href="/itzmohanmadhav/datavisualization1" data-view-component="true" class="AppHeader-context-item">
        <span class="AppHeader-context-item-label  ">

          datavisualization1
        </span>

</a>
    </li>
</ul>

    </nav>
  </div>
</div>

      </div>
      <div class="AppHeader-globalBar-end">
          <div class="AppHeader-search" >
              


<qbsearch-input class="search-input" data-scope="repo:itzmohanmadhav/datavisualization1" data-custom-scopes-path="/search/custom_scopes" data-delete-custom-scopes-csrf="R0xmh8IIe6FJ6zYmeHwmPJOkk_soqsOjZIaLpwB07sSvyPSD8v91r-rj30yzDordn2kkzDaSVgmbdq1xvBBqSw" data-max-custom-scopes="10" data-header-redesign-enabled="true" data-initial-value="" data-blackbird-suggestions-path="/search/suggestions" data-jump-to-suggestions-path="/_graphql/GetSuggestedNavigationDestinations" data-current-repository="itzmohanmadhav/datavisualization1" data-current-org="" data-current-owner="itzmohanmadhav" data-logged-in="true">
  <div
    class="search-input-container search-with-dialog position-relative d-flex flex-row flex-items-center height-auto color-bg-transparent border-0 color-fg-subtle mx-0"
    data-action="click:qbsearch-input#searchInputContainerClicked"
  >
      
            <button type="button" data-action="click:qbsearch-input#handleExpand" class="AppHeader-button AppHeader-search-whenNarrow" aria-label="Search or jump to…" aria-expanded="false" aria-haspopup="dialog">
            <svg aria-hidden="true" height="16" viewBox="0 0 16 16" version="1.1" width="16" data-view-component="true" class="octicon octicon-search">
    <path d="M10.68 11.74a6 6 0 0 1-7.922-8.982 6 6 0 0 1 8.982 7.922l3.04 3.04a.749.749 0 0 1-.326 1.275.749.749 0 0 1-.734-.215ZM11.5 7a4.499 4.499 0 1 0-8.997 0A4.499 4.499 0 0 0 11.5 7Z"></path>
</svg>
          </button>


<div class="AppHeader-search-whenRegular">
  <div class="AppHeader-search-wrap AppHeader-search-wrap--hasTrailing">
    <div class="AppHeader-search-control">
      <label
        for="AppHeader-searchInput"
        aria-label="Search or jump to…"
        class="AppHeader-search-visual--leading"
      >
        <svg aria-hidden="true" height="16" viewBox="0 0 16 16" version="1.1" width="16" data-view-component="true" class="octicon octicon-search">
    <path d="M10.68 11.74a6 6 0 0 1-7.922-8.982 6 6 0 0 1 8.982 7.922l3.04 3.04a.749.749 0 0 1-.326 1.275.749.749 0 0 1-.734-.215ZM11.5 7a4.499 4.499 0 1 0-8.997 0A4.499 4.499 0 0 0 11.5 7Z"></path>
</svg>
      </label>

                <button
            type="button"
            data-target="qbsearch-input.inputButton"
            data-action="click:qbsearch-input#handleExpand"
            class="AppHeader-searchButton form-control input-contrast text-left color-fg-subtle no-wrap"
            data-hotkey="s,/"
            data-analytics-event="{&quot;category&quot;:&quot;Global navigation&quot;,&quot;action&quot;:&quot;SEARCH&quot;,&quot;label&quot;:null}"
          >
            <div class="overflow-hidden">
              <span id="qb-input-query" data-target="qbsearch-input.inputButtonText">
                  Type <kbd class="AppHeader-search-kbd">/</kbd> to search
              </span>
            </div>
          </button>

    </div>


      <button type="button" id="AppHeader-commandPalette-button" class="AppHeader-search-action--trailing js-activate-command-palette" data-analytics-event="{&quot;category&quot;:&quot;SiteHeaderComponent&quot;,&quot;action&quot;:&quot;command_palette&quot;,&quot;label&quot;:&quot;open command palette&quot;}">
        <svg aria-hidden="true" height="16" viewBox="0 0 16 16" version="1.1" width="16" data-view-component="true" class="octicon octicon-command-palette">
    <path d="m6.354 8.04-4.773 4.773a.75.75 0 1 0 1.061 1.06L7.945 8.57a.75.75 0 0 0 0-1.06L2.642 2.206a.75.75 0 0 0-1.06 1.061L6.353 8.04ZM8.75 11.5a.75.75 0 0 0 0 1.5h5.5a.75.75 0 0 0 0-1.5h-5.5Z"></path>
</svg>
      </button>

      <tool-tip id="tooltip-24c9fac2-86b4-4df0-8e09-58b70db1fd80" for="AppHeader-commandPalette-button" popover="manual" data-direction="s" data-type="label" data-view-component="true" class="sr-only position-absolute">Command palette</tool-tip>
  </div>
</div>

    <input type="hidden" name="type" class="js-site-search-type-field">

    
<div class="Overlay--hidden " data-modal-dialog-overlay>
  <modal-dialog data-action="close:qbsearch-input#handleClose cancel:qbsearch-input#handleClose" data-target="qbsearch-input.searchSuggestionsDialog" role="dialog" id="search-suggestions-dialog" aria-modal="true" aria-labelledby="search-suggestions-dialog-header" data-view-component="true" class="Overlay Overlay--width-medium Overlay--height-auto">
      <h1 id="search-suggestions-dialog-header" class="sr-only">Search code, repositories, users, issues, pull requests...</h1>
    <div class="Overlay-body Overlay-body--paddingNone">
      
          <div data-view-component="true">        <div class="search-suggestions position-absolute width-full color-shadow-large border color-fg-default color-bg-default overflow-hidden d-flex flex-column query-builder-container"
          style="border-radius: 12px;"
          data-target="qbsearch-input.queryBuilderContainer"
          hidden
        >
          <!-- '"` --><!-- </textarea></xmp> --></option></form><form id="query-builder-test-form" action="" accept-charset="UTF-8" method="get">
  <query-builder data-target="qbsearch-input.queryBuilder" id="query-builder-query-builder-test" data-filter-key=":" data-view-component="true" class="QueryBuilder search-query-builder">
    <div class="FormControl FormControl--fullWidth">
      <label id="query-builder-test-label" for="query-builder-test" class="FormControl-label sr-only">
        Search
      </label>
      <div
        class="QueryBuilder-StyledInput width-fit "
        data-target="query-builder.styledInput"
      >
          <span id="query-builder-test-leadingvisual-wrap" class="FormControl-input-leadingVisualWrap QueryBuilder-leadingVisualWrap">
            <svg aria-hidden="true" height="16" viewBox="0 0 16 16" version="1.1" width="16" data-view-component="true" class="octicon octicon-search FormControl-input-leadingVisual">
    <path d="M10.68 11.74a6 6 0 0 1-7.922-8.982 6 6 0 0 1 8.982 7.922l3.04 3.04a.749.749 0 0 1-.326 1.275.749.749 0 0 1-.734-.215ZM11.5 7a4.499 4.499 0 1 0-8.997 0A4.499 4.499 0 0 0 11.5 7Z"></path>
</svg>
          </span>
        <div data-target="query-builder.styledInputContainer" class="QueryBuilder-StyledInputContainer">
          <div
            aria-hidden="true"
            class="QueryBuilder-StyledInputContent"
            data-target="query-builder.styledInputContent"
          ></div>
          <div class="QueryBuilder-InputWrapper">
            <div aria-hidden="true" class="QueryBuilder-Sizer" data-target="query-builder.sizer"></div>
            <input id="query-builder-test" name="query-builder-test" value="" autocomplete="off" type="text" role="combobox" spellcheck="false" aria-expanded="false" aria-describedby="validation-ca41aedd-eb11-4491-b83d-ce031abebe28" data-target="query-builder.input" data-action="
          input:query-builder#inputChange
          blur:query-builder#inputBlur
          keydown:query-builder#inputKeydown
          focus:query-builder#inputFocus
        " data-view-component="true" class="FormControl-input QueryBuilder-Input FormControl-medium" />
          </div>
        </div>
          <span class="sr-only" id="query-builder-test-clear">Clear</span>
          
  <button role="button" id="query-builder-test-clear-button" aria-labelledby="query-builder-test-clear query-builder-test-label" data-target="query-builder.clearButton" data-action="
                click:query-builder#clear
                focus:query-builder#clearButtonFocus
                blur:query-builder#clearButtonBlur
              " variant="small" hidden="hidden" type="button" data-view-component="true" class="Button Button--iconOnly Button--invisible Button--medium mr-1 px-2 py-0 d-flex flex-items-center rounded-1 color-fg-muted">    <svg aria-hidden="true" height="16" viewBox="0 0 16 16" version="1.1" width="16" data-view-component="true" class="octicon octicon-x-circle-fill Button-visual">
    <path d="M2.343 13.657A8 8 0 1 1 13.658 2.343 8 8 0 0 1 2.343 13.657ZM6.03 4.97a.751.751 0 0 0-1.042.018.751.751 0 0 0-.018 1.042L6.94 8 4.97 9.97a.749.749 0 0 0 .326 1.275.749.749 0 0 0 .734-.215L8 9.06l1.97 1.97a.749.749 0 0 0 1.275-.326.749.749 0 0 0-.215-.734L9.06 8l1.97-1.97a.749.749 0 0 0-.326-1.275.749.749 0 0 0-.734.215L8 6.94Z"></path>
</svg>
</button>  

      </div>
      <template id="search-icon">
  <svg aria-hidden="true" height="16" viewBox="0 0 16 16" version="1.1" width="16" data-view-component="true" class="octicon octicon-search">
    <path d="M10.68 11.74a6 6 0 0 1-7.922-8.982 6 6 0 0 1 8.982 7.922l3.04 3.04a.749.749 0 0 1-.326 1.275.749.749 0 0 1-.734-.215ZM11.5 7a4.499 4.499 0 1 0-8.997 0A4.499 4.499 0 0 0 11.5 7Z"></path>
</svg>
</template>

<template id="code-icon">
  <svg aria-hidden="true" height="16" viewBox="0 0 16 16" version="1.1" width="16" data-view-component="true" class="octicon octicon-code">
    <path d="m11.28 3.22 4.25 4.25a.75.75 0 0 1 0 1.06l-4.25 4.25a.749.749 0 0 1-1.275-.326.749.749 0 0 1 .215-.734L13.94 8l-3.72-3.72a.749.749 0 0 1 .326-1.275.749.749 0 0 1 .734.215Zm-6.56 0a.751.751 0 0 1 1.042.018.751.751 0 0 1 .018 1.042L2.06 8l3.72 3.72a.749.749 0 0 1-.326 1.275.749.749 0 0 1-.734-.215L.47 8.53a.75.75 0 0 1 0-1.06Z"></path>
</svg>
</template>

<template id="file-code-icon">
  <svg aria-hidden="true" height="16" viewBox="0 0 16 16" version="1.1" width="16" data-view-component="true" class="octicon octicon-file-code">
    <path d="M4 1.75C4 .784 4.784 0 5.75 0h5.586c.464 0 .909.184 1.237.513l2.914 2.914c.329.328.513.773.513 1.237v8.586A1.75 1.75 0 0 1 14.25 15h-9a.75.75 0 0 1 0-1.5h9a.25.25 0 0 0 .25-.25V6h-2.75A1.75 1.75 0 0 1 10 4.25V1.5H5.75a.25.25 0 0 0-.25.25v2.5a.75.75 0 0 1-1.5 0Zm1.72 4.97a.75.75 0 0 1 1.06 0l2 2a.75.75 0 0 1 0 1.06l-2 2a.749.749 0 0 1-1.275-.326.749.749 0 0 1 .215-.734l1.47-1.47-1.47-1.47a.75.75 0 0 1 0-1.06ZM3.28 7.78 1.81 9.25l1.47 1.47a.751.751 0 0 1-.018 1.042.751.751 0 0 1-1.042.018l-2-2a.75.75 0 0 1 0-1.06l2-2a.751.751 0 0 1 1.042.018.751.751 0 0 1 .018 1.042Zm8.22-6.218V4.25c0 .138.112.25.25.25h2.688l-.011-.013-2.914-2.914-.013-.011Z"></path>
</svg>
</template>

<template id="history-icon">
  <svg aria-hidden="true" height="16" viewBox="0 0 16 16" version="1.1" width="16" data-view-component="true" class="octicon octicon-history">
    <path d="m.427 1.927 1.215 1.215a8.002 8.002 0 1 1-1.6 5.685.75.75 0 1 1 1.493-.154 6.5 6.5 0 1 0 1.18-4.458l1.358 1.358A.25.25 0 0 1 3.896 6H.25A.25.25 0 0 1 0 5.75V2.104a.25.25 0 0 1 .427-.177ZM7.75 4a.75.75 0 0 1 .75.75v2.992l2.028.812a.75.75 0 0 1-.557 1.392l-2.5-1A.751.751 0 0 1 7 8.25v-3.5A.75.75 0 0 1 7.75 4Z"></path>
</svg>
</template>

<template id="repo-icon">
  <svg aria-hidden="true" height="16" viewBox="0 0 16 16" version="1.1" width="16" data-view-component="true" class="octicon octicon-repo">
    <path d="M2 2.5A2.5 2.5 0 0 1 4.5 0h8.75a.75.75 0 0 1 .75.75v12.5a.75.75 0 0 1-.75.75h-2.5a.75.75 0 0 1 0-1.5h1.75v-2h-8a1 1 0 0 0-.714 1.7.75.75 0 1 1-1.072 1.05A2.495 2.495 0 0 1 2 11.5Zm10.5-1h-8a1 1 0 0 0-1 1v6.708A2.486 2.486 0 0 1 4.5 9h8ZM5 12.25a.25.25 0 0 1 .25-.25h3.5a.25.25 0 0 1 .25.25v3.25a.25.25 0 0 1-.4.2l-1.45-1.087a.249.249 0 0 0-.3 0L5.4 15.7a.25.25 0 0 1-.4-.2Z"></path>
</svg>
</template>

<template id="bookmark-icon">
  <svg aria-hidden="true" height="16" viewBox="0 0 16 16" version="1.1" width="16" data-view-component="true" class="octicon octicon-bookmark">
    <path d="M3 2.75C3 1.784 3.784 1 4.75 1h6.5c.966 0 1.75.784 1.75 1.75v11.5a.75.75 0 0 1-1.227.579L8 11.722l-3.773 3.107A.751.751 0 0 1 3 14.25Zm1.75-.25a.25.25 0 0 0-.25.25v9.91l3.023-2.489a.75.75 0 0 1 .954 0l3.023 2.49V2.75a.25.25 0 0 0-.25-.25Z"></path>
</svg>
</template>

<template id="plus-circle-icon">
  <svg aria-hidden="true" height="16" viewBox="0 0 16 16" version="1.1" width="16" data-view-component="true" class="octicon octicon-plus-circle">
    <path d="M8 0a8 8 0 1 1 0 16A8 8 0 0 1 8 0ZM1.5 8a6.5 6.5 0 1 0 13 0 6.5 6.5 0 0 0-13 0Zm7.25-3.25v2.5h2.5a.75.75 0 0 1 0 1.5h-2.5v2.5a.75.75 0 0 1-1.5 0v-2.5h-2.5a.75.75 0 0 1 0-1.5h2.5v-2.5a.75.75 0 0 1 1.5 0Z"></path>
</svg>
</template>

<template id="circle-icon">
  <svg aria-hidden="true" height="16" viewBox="0 0 16 16" version="1.1" width="16" data-view-component="true" class="octicon octicon-dot-fill">
    <path d="M8 4a4 4 0 1 1 0 8 4 4 0 0 1 0-8Z"></path>
</svg>
</template>

<template id="trash-icon">
  <svg aria-hidden="true" height="16" viewBox="0 0 16 16" version="1.1" width="16" data-view-component="true" class="octicon octicon-trash">
    <path d="M11 1.75V3h2.25a.75.75 0 0 1 0 1.5H2.75a.75.75 0 0 1 0-1.5H5V1.75C5 .784 5.784 0 6.75 0h2.5C10.216 0 11 .784 11 1.75ZM4.496 6.675l.66 6.6a.25.25 0 0 0 .249.225h5.19a.25.25 0 0 0 .249-.225l.66-6.6a.75.75 0 0 1 1.492.149l-.66 6.6A1.748 1.748 0 0 1 10.595 15h-5.19a1.75 1.75 0 0 1-1.741-1.575l-.66-6.6a.75.75 0 1 1 1.492-.15ZM6.5 1.75V3h3V1.75a.25.25 0 0 0-.25-.25h-2.5a.25.25 0 0 0-.25.25Z"></path>
</svg>
</template>

<template id="team-icon">
  <svg aria-hidden="true" height="16" viewBox="0 0 16 16" version="1.1" width="16" data-view-component="true" class="octicon octicon-people">
    <path d="M2 5.5a3.5 3.5 0 1 1 5.898 2.549 5.508 5.508 0 0 1 3.034 4.084.75.75 0 1 1-1.482.235 4 4 0 0 0-7.9 0 .75.75 0 0 1-1.482-.236A5.507 5.507 0 0 1 3.102 8.05 3.493 3.493 0 0 1 2 5.5ZM11 4a3.001 3.001 0 0 1 2.22 5.018 5.01 5.01 0 0 1 2.56 3.012.749.749 0 0 1-.885.954.752.752 0 0 1-.549-.514 3.507 3.507 0 0 0-2.522-2.372.75.75 0 0 1-.574-.73v-.352a.75.75 0 0 1 .416-.672A1.5 1.5 0 0 0 11 5.5.75.75 0 0 1 11 4Zm-5.5-.5a2 2 0 1 0-.001 3.999A2 2 0 0 0 5.5 3.5Z"></path>
</svg>
</template>

<template id="project-icon">
  <svg aria-hidden="true" height="16" viewBox="0 0 16 16" version="1.1" width="16" data-view-component="true" class="octicon octicon-project">
    <path d="M1.75 0h12.5C15.216 0 16 .784 16 1.75v12.5A1.75 1.75 0 0 1 14.25 16H1.75A1.75 1.75 0 0 1 0 14.25V1.75C0 .784.784 0 1.75 0ZM1.5 1.75v12.5c0 .138.112.25.25.25h12.5a.25.25 0 0 0 .25-.25V1.75a.25.25 0 0 0-.25-.25H1.75a.25.25 0 0 0-.25.25ZM11.75 3a.75.75 0 0 1 .75.75v7.5a.75.75 0 0 1-1.5 0v-7.5a.75.75 0 0 1 .75-.75Zm-8.25.75a.75.75 0 0 1 1.5 0v5.5a.75.75 0 0 1-1.5 0ZM8 3a.75.75 0 0 1 .75.75v3.5a.75.75 0 0 1-1.5 0v-3.5A.75.75 0 0 1 8 3Z"></path>
</svg>
</template>

<template id="pencil-icon">
  <svg aria-hidden="true" height="16" viewBox="0 0 16 16" version="1.1" width="16" data-view-component="true" class="octicon octicon-pencil">
    <path d="M11.013 1.427a1.75 1.75 0 0 1 2.474 0l1.086 1.086a1.75 1.75 0 0 1 0 2.474l-8.61 8.61c-.21.21-.47.364-.756.445l-3.251.93a.75.75 0 0 1-.927-.928l.929-3.25c.081-.286.235-.547.445-.758l8.61-8.61Zm.176 4.823L9.75 4.81l-6.286 6.287a.253.253 0 0 0-.064.108l-.558 1.953 1.953-.558a.253.253 0 0 0 .108-.064Zm1.238-3.763a.25.25 0 0 0-.354 0L10.811 3.75l1.439 1.44 1.263-1.263a.25.25 0 0 0 0-.354Z"></path>
</svg>
</template>

        <div class="position-relative">
                <ul
                  role="listbox"
                  class="ActionListWrap QueryBuilder-ListWrap"
                  aria-label="Suggestions"
                  data-action="
                    combobox-commit:query-builder#comboboxCommit
                    mousedown:query-builder#resultsMousedown
                  "
                  data-target="query-builder.resultsList"
                  data-persist-list=false
                  id="query-builder-test-results"
                ></ul>
        </div>
      <div class="FormControl-inlineValidation" id="validation-ca41aedd-eb11-4491-b83d-ce031abebe28" hidden="hidden">
        <span class="FormControl-inlineValidation--visual">
          <svg aria-hidden="true" height="12" viewBox="0 0 12 12" version="1.1" width="12" data-view-component="true" class="octicon octicon-alert-fill">
    <path d="M4.855.708c.5-.896 1.79-.896 2.29 0l4.675 8.351a1.312 1.312 0 0 1-1.146 1.954H1.33A1.313 1.313 0 0 1 .183 9.058ZM7 7V3H5v4Zm-1 3a1 1 0 1 0 0-2 1 1 0 0 0 0 2Z"></path>
</svg>
        </span>
        <span></span>
</div>    </div>
    <div data-target="query-builder.screenReaderFeedback" aria-live="polite" aria-atomic="true" class="sr-only"></div>
</query-builder></form>
          <div class="d-flex flex-row color-fg-muted px-3 text-small color-bg-default search-feedback-prompt">
            <a target="_blank" href="https://docs.github.com/en/search-github/github-code-search/understanding-github-code-search-syntax" data-view-component="true" class="Link color-fg-accent text-normal ml-2">
              Search syntax tips
</a>            <div class="d-flex flex-1"></div>
                <button data-action="click:qbsearch-input#showFeedbackDialog" type="button" data-view-component="true" class="Button--link Button--medium Button color-fg-accent text-normal ml-2">    <span class="Button-content">
      <span class="Button-label">Give feedback</span>
    </span>
</button>  
          </div>
        </div>
</div>

    </div>
</modal-dialog></div>
  </div>
  <div data-action="click:qbsearch-input#retract" class="dark-backdrop position-fixed" hidden data-target="qbsearch-input.darkBackdrop"></div>
  <div class="color-fg-default">
    
<div class="Overlay--hidden Overlay-backdrop--center" data-modal-dialog-overlay>
  <modal-dialog data-target="qbsearch-input.feedbackDialog" data-action="close:qbsearch-input#handleDialogClose cancel:qbsearch-input#handleDialogClose" role="dialog" id="feedback-dialog" aria-modal="true" aria-disabled="true" aria-labelledby="feedback-dialog-title" aria-describedby="feedback-dialog-description" data-view-component="true" class="Overlay Overlay-whenNarrow Overlay--size-medium Overlay--motion-scaleFade">
    <div data-view-component="true" class="Overlay-header">
  <div class="Overlay-headerContentWrap">
    <div class="Overlay-titleWrap">
      <h1 class="Overlay-title " id="feedback-dialog-title">
        Provide feedback
      </h1>
    </div>
    <div class="Overlay-actionWrap">
      <button data-close-dialog-id="feedback-dialog" aria-label="Close" type="button" data-view-component="true" class="close-button Overlay-closeButton"><svg aria-hidden="true" height="16" viewBox="0 0 16 16" version="1.1" width="16" data-view-component="true" class="octicon octicon-x">
    <path d="M3.72 3.72a.75.75 0 0 1 1.06 0L8 6.94l3.22-3.22a.749.749 0 0 1 1.275.326.749.749 0 0 1-.215.734L9.06 8l3.22 3.22a.749.749 0 0 1-.326 1.275.749.749 0 0 1-.734-.215L8 9.06l-3.22 3.22a.751.751 0 0 1-1.042-.018.751.751 0 0 1-.018-1.042L6.94 8 3.72 4.78a.75.75 0 0 1 0-1.06Z"></path>
</svg></button>
    </div>
  </div>
</div>
      <div data-view-component="true" class="Overlay-body">        <!-- '"` --><!-- </textarea></xmp> --></option></form><form id="code-search-feedback-form" data-turbo="false" action="/search/feedback" accept-charset="UTF-8" method="post"><input type="hidden" name="authenticity_token" value="okR7qL88ZOM7e92wXY2A7rb7HOOgBUVWV0m29usQ1CcljyOhAlBkoqvrLdYTmmUscjG5uV1hZq-k2gHIOJ3G_w" />
          <p>We read every piece of feedback, and take your input very seriously.</p>
          <textarea name="feedback" class="form-control width-full mb-2" style="height: 120px" id="feedback"></textarea>
          <input name="include_email" id="include_email" aria-label="Include my email address so I can be contacted" class="form-control mr-2" type="checkbox">
          <label for="include_email" style="font-weight: normal">Include my email address so I can be contacted</label>
</form></div>
      <div data-view-component="true" class="Overlay-footer Overlay-footer--alignEnd">          <button data-close-dialog-id="feedback-dialog" type="button" data-view-component="true" class="btn">    Cancel
</button>
          <button form="code-search-feedback-form" data-action="click:qbsearch-input#submitFeedback" type="submit" data-view-component="true" class="btn-primary btn">    Submit feedback
</button>
</div>
</modal-dialog></div>

    <custom-scopes data-target="qbsearch-input.customScopesManager">
    
<div class="Overlay--hidden Overlay-backdrop--center" data-modal-dialog-overlay>
  <modal-dialog data-target="custom-scopes.customScopesModalDialog" data-action="close:qbsearch-input#handleDialogClose cancel:qbsearch-input#handleDialogClose" role="dialog" id="custom-scopes-dialog" aria-modal="true" aria-disabled="true" aria-labelledby="custom-scopes-dialog-title" aria-describedby="custom-scopes-dialog-description" data-view-component="true" class="Overlay Overlay-whenNarrow Overlay--size-medium Overlay--motion-scaleFade">
    <div data-view-component="true" class="Overlay-header Overlay-header--divided">
  <div class="Overlay-headerContentWrap">
    <div class="Overlay-titleWrap">
      <h1 class="Overlay-title " id="custom-scopes-dialog-title">
        Saved searches
      </h1>
        <h2 id="custom-scopes-dialog-description" class="Overlay-description">Use saved searches to filter your results more quickly</h2>
    </div>
    <div class="Overlay-actionWrap">
      <button data-close-dialog-id="custom-scopes-dialog" aria-label="Close" type="button" data-view-component="true" class="close-button Overlay-closeButton"><svg aria-hidden="true" height="16" viewBox="0 0 16 16" version="1.1" width="16" data-view-component="true" class="octicon octicon-x">
    <path d="M3.72 3.72a.75.75 0 0 1 1.06 0L8 6.94l3.22-3.22a.749.749 0 0 1 1.275.326.749.749 0 0 1-.215.734L9.06 8l3.22 3.22a.749.749 0 0 1-.326 1.275.749.749 0 0 1-.734-.215L8 9.06l-3.22 3.22a.751.751 0 0 1-1.042-.018.751.751 0 0 1-.018-1.042L6.94 8 3.72 4.78a.75.75 0 0 1 0-1.06Z"></path>
</svg></button>
    </div>
  </div>
</div>
      <div data-view-component="true" class="Overlay-body">        <div data-target="custom-scopes.customScopesModalDialogFlash"></div>

        <div hidden class="create-custom-scope-form" data-target="custom-scopes.createCustomScopeForm">
        <!-- '"` --><!-- </textarea></xmp> --></option></form><form id="custom-scopes-dialog-form" data-turbo="false" action="/search/custom_scopes" accept-charset="UTF-8" method="post"><input type="hidden" name="authenticity_token" value="L8U4nhwTVorING935IQ2JqnMxrNB_3ASF1vCJp46KJjRefSrgp-OZCV6Jrhruhz0dGPXPArduj359SrMjcqbLg" />
          <div data-target="custom-scopes.customScopesModalDialogFlash"></div>

          <input type="hidden" id="custom_scope_id" name="custom_scope_id" data-target="custom-scopes.customScopesIdField">

          <div class="form-group">
            <label for="custom_scope_name">Name</label>
            <auto-check src="/search/custom_scopes/check_name" required>
              <input
                type="text"
                name="custom_scope_name"
                id="custom_scope_name"
                data-target="custom-scopes.customScopesNameField"
                class="form-control"
                autocomplete="off"
                placeholder="github-ruby"
                required
                maxlength="50">
              <input type="hidden" value="kUj636n-DLcc0eFH7S629wdcelJ2TI79ABBF5fq2dWKvmGM5L9c3cd-hRYunS6QYOiVPF6WarlEvCvUOfdtJ7w" data-csrf="true" />
            </auto-check>
          </div>

          <div class="form-group">
            <label for="custom_scope_query">Query</label>
            <input
              type="text"
              name="custom_scope_query"
              id="custom_scope_query"
              data-target="custom-scopes.customScopesQueryField"
              class="form-control"
              autocomplete="off"
              placeholder="(repo:mona/a OR repo:mona/b) AND lang:python"
              required
              maxlength="500">
          </div>

          <p class="text-small color-fg-muted">
            To see all available qualifiers, see our <a class="Link--inTextBlock" href="https://docs.github.com/en/search-github/github-code-search/understanding-github-code-search-syntax">documentation</a>.
          </p>
</form>        </div>

        <div data-target="custom-scopes.manageCustomScopesForm">
          <div data-target="custom-scopes.list"></div>
        </div>

</div>
      <div data-view-component="true" class="Overlay-footer Overlay-footer--alignEnd Overlay-footer--divided">          <button data-action="click:custom-scopes#customScopesCancel" type="button" data-view-component="true" class="btn">    Cancel
</button>
          <button form="custom-scopes-dialog-form" data-action="click:custom-scopes#customScopesSubmit" data-target="custom-scopes.customScopesSubmitButton" type="submit" data-view-component="true" class="btn-primary btn">    Create saved search
</button>
</div>
</modal-dialog></div>
    </custom-scopes>
  </div>
</qbsearch-input><input type="hidden" value="di_dLmigvniogcfT7YxhQSeLRHgZIBtccoDhloFBZByIfNC8UTrG90qj0eDqhdLHad0AAMpP5StEu6vUcW55Ug" data-csrf="true" class="js-data-jump-to-suggestions-path-csrf" />

          </div>

        <div class="AppHeader-actions">
          <action-menu data-select-variant="none" data-view-component="true">
  <focus-group direction="vertical" mnemonics retain>
    <div data-view-component="true" class="Button-withTooltip">  <button id="global-create-menu-button" popovertarget="global-create-menu-overlay" aria-label="Create something new" aria-controls="global-create-menu-list" aria-haspopup="true" type="button" data-view-component="true" class="AppHeader-button Button--secondary Button--small Button width-auto color-fg-muted">    <span class="Button-content">
        <span class="Button-visual Button-leadingVisual">
          <svg aria-hidden="true" height="16" viewBox="0 0 16 16" version="1.1" width="16" data-view-component="true" class="octicon octicon-plus">
    <path d="M7.75 2a.75.75 0 0 1 .75.75V7h4.25a.75.75 0 0 1 0 1.5H8.5v4.25a.75.75 0 0 1-1.5 0V8.5H2.75a.75.75 0 0 1 0-1.5H7V2.75A.75.75 0 0 1 7.75 2Z"></path>
</svg>
        </span>
      <span class="Button-label"><svg aria-hidden="true" height="16" viewBox="0 0 16 16" version="1.1" width="16" data-view-component="true" class="octicon octicon-triangle-down">
    <path d="m4.427 7.427 3.396 3.396a.25.25 0 0 0 .354 0l3.396-3.396A.25.25 0 0 0 11.396 7H4.604a.25.25 0 0 0-.177.427Z"></path>
</svg></span>
    </span>
</button>  <tool-tip id="tooltip-cfcba8c4-e9f0-4202-acf8-93a78792666c" for="global-create-menu-button" popover="manual" data-direction="s" data-type="description" data-view-component="true" class="sr-only position-absolute">Create new...</tool-tip>
</div>

<anchored-position id="global-create-menu-overlay" anchor="global-create-menu-button" align="end" side="outside-bottom" anchor-offset="normal" popover="auto" data-view-component="true">
  <div data-view-component="true" class="Overlay Overlay--size-auto">
    
      
        <div data-view-component="true">
  <ul aria-labelledby="global-create-menu-button" id="global-create-menu-list" role="menu" data-view-component="true" class="ActionListWrap--inset ActionListWrap">
      <li data-analytics-event="{&quot;category&quot;:&quot;SiteHeaderComponent&quot;,&quot;action&quot;:&quot;add_dropdown&quot;,&quot;label&quot;:&quot;new repository&quot;}" data-targets="action-list.items" role="none" data-view-component="true" class="ActionListItem">
    
    <a href="/new" tabindex="-1" id="item-8a1d453c-3e17-4c62-beb3-e496fc6c2bbc" role="menuitem" data-view-component="true" class="ActionListContent ActionListContent--visual16">
        <span class="ActionListItem-visual ActionListItem-visual--leading">
          <svg aria-hidden="true" height="16" viewBox="0 0 16 16" version="1.1" width="16" data-view-component="true" class="octicon octicon-repo">
    <path d="M2 2.5A2.5 2.5 0 0 1 4.5 0h8.75a.75.75 0 0 1 .75.75v12.5a.75.75 0 0 1-.75.75h-2.5a.75.75 0 0 1 0-1.5h1.75v-2h-8a1 1 0 0 0-.714 1.7.75.75 0 1 1-1.072 1.05A2.495 2.495 0 0 1 2 11.5Zm10.5-1h-8a1 1 0 0 0-1 1v6.708A2.486 2.486 0 0 1 4.5 9h8ZM5 12.25a.25.25 0 0 1 .25-.25h3.5a.25.25 0 0 1 .25.25v3.25a.25.25 0 0 1-.4.2l-1.45-1.087a.249.249 0 0 0-.3 0L5.4 15.7a.25.25 0 0 1-.4-.2Z"></path>
</svg>
        </span>
      
        <span data-view-component="true" class="ActionListItem-label">
              New repository

</span></a>
  
  
</li>
      <li data-analytics-event="{&quot;category&quot;:&quot;SiteHeaderComponent&quot;,&quot;action&quot;:&quot;add_dropdown&quot;,&quot;label&quot;:&quot;import repository&quot;}" data-targets="action-list.items" role="none" data-view-component="true" class="ActionListItem">
    
    <a href="/new/import" tabindex="-1" id="item-17b48eaa-93f6-425e-94ac-250d427de3c2" role="menuitem" data-view-component="true" class="ActionListContent ActionListContent--visual16">
        <span class="ActionListItem-visual ActionListItem-visual--leading">
          <svg aria-hidden="true" height="16" viewBox="0 0 16 16" version="1.1" width="16" data-view-component="true" class="octicon octicon-repo-push">
    <path d="M1 2.5A2.5 2.5 0 0 1 3.5 0h8.75a.75.75 0 0 1 .75.75v3.5a.75.75 0 0 1-1.5 0V1.5h-8a1 1 0 0 0-1 1v6.708A2.493 2.493 0 0 1 3.5 9h3.25a.75.75 0 0 1 0 1.5H3.5a1 1 0 0 0 0 2h5.75a.75.75 0 0 1 0 1.5H3.5A2.5 2.5 0 0 1 1 11.5Zm13.23 7.79h-.001l-1.224-1.224v6.184a.75.75 0 0 1-1.5 0V9.066L10.28 10.29a.75.75 0 0 1-1.06-1.061l2.505-2.504a.75.75 0 0 1 1.06 0L15.29 9.23a.751.751 0 0 1-.018 1.042.751.751 0 0 1-1.042.018Z"></path>
</svg>
        </span>
      
        <span data-view-component="true" class="ActionListItem-label">
                Import repository

</span></a>
  
  
</li>
      <li role="presentation" aria-hidden="true" data-view-component="true" class="ActionList-sectionDivider"></li>
      <li data-analytics-event="{&quot;category&quot;:&quot;SiteHeaderComponent&quot;,&quot;action&quot;:&quot;add_dropdown&quot;,&quot;label&quot;:&quot;new codespace&quot;}" data-targets="action-list.items" role="none" data-view-component="true" class="ActionListItem">
    
    <a href="/codespaces/new" tabindex="-1" id="item-26621102-6bb5-4956-86ab-771ea08784cc" role="menuitem" data-view-component="true" class="ActionListContent ActionListContent--visual16">
        <span class="ActionListItem-visual ActionListItem-visual--leading">
          <svg aria-hidden="true" height="16" viewBox="0 0 16 16" version="1.1" width="16" data-view-component="true" class="octicon octicon-codespaces">
    <path d="M0 11.25c0-.966.784-1.75 1.75-1.75h12.5c.966 0 1.75.784 1.75 1.75v3A1.75 1.75 0 0 1 14.25 16H1.75A1.75 1.75 0 0 1 0 14.25Zm2-9.5C2 .784 2.784 0 3.75 0h8.5C13.216 0 14 .784 14 1.75v5a1.75 1.75 0 0 1-1.75 1.75h-8.5A1.75 1.75 0 0 1 2 6.75Zm1.75-.25a.25.25 0 0 0-.25.25v5c0 .138.112.25.25.25h8.5a.25.25 0 0 0 .25-.25v-5a.25.25 0 0 0-.25-.25Zm-2 9.5a.25.25 0 0 0-.25.25v3c0 .138.112.25.25.25h12.5a.25.25 0 0 0 .25-.25v-3a.25.25 0 0 0-.25-.25Z"></path><path d="M7 12.75a.75.75 0 0 1 .75-.75h4.5a.75.75 0 0 1 0 1.5h-4.5a.75.75 0 0 1-.75-.75Zm-4 0a.75.75 0 0 1 .75-.75h.5a.75.75 0 0 1 0 1.5h-.5a.75.75 0 0 1-.75-.75Z"></path>
</svg>
        </span>
      
        <span data-view-component="true" class="ActionListItem-label">
                New codespace

</span></a>
  
  
</li>
      <li data-analytics-event="{&quot;category&quot;:&quot;SiteHeaderComponent&quot;,&quot;action&quot;:&quot;add_dropdown&quot;,&quot;label&quot;:&quot;new gist&quot;}" data-targets="action-list.items" role="none" data-view-component="true" class="ActionListItem">
    
    <a href="https://gist.github.com/" tabindex="-1" id="item-c7ca65c4-286f-4bf8-94db-9bc7e5dad801" role="menuitem" data-view-component="true" class="ActionListContent ActionListContent--visual16">
        <span class="ActionListItem-visual ActionListItem-visual--leading">
          <svg aria-hidden="true" height="16" viewBox="0 0 16 16" version="1.1" width="16" data-view-component="true" class="octicon octicon-code">
    <path d="m11.28 3.22 4.25 4.25a.75.75 0 0 1 0 1.06l-4.25 4.25a.749.749 0 0 1-1.275-.326.749.749 0 0 1 .215-.734L13.94 8l-3.72-3.72a.749.749 0 0 1 .326-1.275.749.749 0 0 1 .734.215Zm-6.56 0a.751.751 0 0 1 1.042.018.751.751 0 0 1 .018 1.042L2.06 8l3.72 3.72a.749.749 0 0 1-.326 1.275.749.749 0 0 1-.734-.215L.47 8.53a.75.75 0 0 1 0-1.06Z"></path>
</svg>
        </span>
      
        <span data-view-component="true" class="ActionListItem-label">
              New gist

</span></a>
  
  
</li>
      <li role="presentation" aria-hidden="true" data-view-component="true" class="ActionList-sectionDivider"></li>
      <li data-analytics-event="{&quot;category&quot;:&quot;SiteHeaderComponent&quot;,&quot;action&quot;:&quot;add_dropdown&quot;,&quot;label&quot;:&quot;new organization&quot;}" data-targets="action-list.items" role="none" data-view-component="true" class="ActionListItem">
    
    <a href="/account/organizations/new" tabindex="-1" id="item-02809279-7f0a-4e3c-a45e-5fef176ff807" role="menuitem" data-view-component="true" class="ActionListContent ActionListContent--visual16">
        <span class="ActionListItem-visual ActionListItem-visual--leading">
          <svg aria-hidden="true" height="16" viewBox="0 0 16 16" version="1.1" width="16" data-view-component="true" class="octicon octicon-organization">
    <path d="M1.75 16A1.75 1.75 0 0 1 0 14.25V1.75C0 .784.784 0 1.75 0h8.5C11.216 0 12 .784 12 1.75v12.5c0 .085-.006.168-.018.25h2.268a.25.25 0 0 0 .25-.25V8.285a.25.25 0 0 0-.111-.208l-1.055-.703a.749.749 0 1 1 .832-1.248l1.055.703c.487.325.779.871.779 1.456v5.965A1.75 1.75 0 0 1 14.25 16h-3.5a.766.766 0 0 1-.197-.026c-.099.017-.2.026-.303.026h-3a.75.75 0 0 1-.75-.75V14h-1v1.25a.75.75 0 0 1-.75.75Zm-.25-1.75c0 .138.112.25.25.25H4v-1.25a.75.75 0 0 1 .75-.75h2.5a.75.75 0 0 1 .75.75v1.25h2.25a.25.25 0 0 0 .25-.25V1.75a.25.25 0 0 0-.25-.25h-8.5a.25.25 0 0 0-.25.25ZM3.75 6h.5a.75.75 0 0 1 0 1.5h-.5a.75.75 0 0 1 0-1.5ZM3 3.75A.75.75 0 0 1 3.75 3h.5a.75.75 0 0 1 0 1.5h-.5A.75.75 0 0 1 3 3.75Zm4 3A.75.75 0 0 1 7.75 6h.5a.75.75 0 0 1 0 1.5h-.5A.75.75 0 0 1 7 6.75ZM7.75 3h.5a.75.75 0 0 1 0 1.5h-.5a.75.75 0 0 1 0-1.5ZM3 9.75A.75.75 0 0 1 3.75 9h.5a.75.75 0 0 1 0 1.5h-.5A.75.75 0 0 1 3 9.75ZM7.75 9h.5a.75.75 0 0 1 0 1.5h-.5a.75.75 0 0 1 0-1.5Z"></path>
</svg>
        </span>
      
        <span data-view-component="true" class="ActionListItem-label">
                New organization

</span></a>
  
  
</li>
</ul>  
</div>

</div></anchored-position>  </focus-group>
</action-menu>

            <div data-view-component="true" class="Button-withTooltip">
  <a href="/issues" data-analytics-event="{&quot;category&quot;:&quot;Global navigation&quot;,&quot;action&quot;:&quot;ISSUES_HEADER&quot;,&quot;label&quot;:null}" id="icon-button-65899153-556f-426a-b603-c2d92f0e8e6b" aria-labelledby="tooltip-c0362d31-d573-4282-892b-44426b617725" data-view-component="true" class="Button Button--iconOnly Button--secondary Button--medium AppHeader-button color-fg-muted">    <svg aria-hidden="true" height="16" viewBox="0 0 16 16" version="1.1" width="16" data-view-component="true" class="octicon octicon-issue-opened Button-visual">
    <path d="M8 9.5a1.5 1.5 0 1 0 0-3 1.5 1.5 0 0 0 0 3Z"></path><path d="M8 0a8 8 0 1 1 0 16A8 8 0 0 1 8 0ZM1.5 8a6.5 6.5 0 1 0 13 0 6.5 6.5 0 0 0-13 0Z"></path>
</svg>
</a>  <tool-tip id="tooltip-c0362d31-d573-4282-892b-44426b617725" for="icon-button-65899153-556f-426a-b603-c2d92f0e8e6b" popover="manual" data-direction="s" data-type="label" data-view-component="true" class="sr-only position-absolute">Issues</tool-tip>
</div>
            <div data-view-component="true" class="Button-withTooltip">
  <a href="/pulls" data-analytics-event="{&quot;category&quot;:&quot;Global navigation&quot;,&quot;action&quot;:&quot;PULL_REQUESTS_HEADER&quot;,&quot;label&quot;:null}" id="icon-button-44b6c509-f65b-4f35-9f29-535c11e5e890" aria-labelledby="tooltip-28a2b0b7-1445-4c4f-9e22-6f997410e815" data-view-component="true" class="Button Button--iconOnly Button--secondary Button--medium AppHeader-button color-fg-muted">    <svg aria-hidden="true" height="16" viewBox="0 0 16 16" version="1.1" width="16" data-view-component="true" class="octicon octicon-git-pull-request Button-visual">
    <path d="M1.5 3.25a2.25 2.25 0 1 1 3 2.122v5.256a2.251 2.251 0 1 1-1.5 0V5.372A2.25 2.25 0 0 1 1.5 3.25Zm5.677-.177L9.573.677A.25.25 0 0 1 10 .854V2.5h1A2.5 2.5 0 0 1 13.5 5v5.628a2.251 2.251 0 1 1-1.5 0V5a1 1 0 0 0-1-1h-1v1.646a.25.25 0 0 1-.427.177L7.177 3.427a.25.25 0 0 1 0-.354ZM3.75 2.5a.75.75 0 1 0 0 1.5.75.75 0 0 0 0-1.5Zm0 9.5a.75.75 0 1 0 0 1.5.75.75 0 0 0 0-1.5Zm8.25.75a.75.75 0 1 0 1.5 0 .75.75 0 0 0-1.5 0Z"></path>
</svg>
</a>  <tool-tip id="tooltip-28a2b0b7-1445-4c4f-9e22-6f997410e815" for="icon-button-44b6c509-f65b-4f35-9f29-535c11e5e890" popover="manual" data-direction="s" data-type="label" data-view-component="true" class="sr-only position-absolute">Pull requests</tool-tip>
</div>
        </div>

        

<notification-indicator data-channel="eyJjIjoibm90aWZpY2F0aW9uLWNoYW5nZWQ6MTIyNDczOTMwIiwidCI6MTY5NjA4ODM2N30=--93d58d01a9d2ebe757a9139f2d74c6011e996212ab3ba3021982bd4a9078b3d6" data-indicator-mode="none" data-tooltip-global="You have unread notifications" data-tooltip-unavailable="Notifications are unavailable at the moment." data-tooltip-none="You have no unread notifications" data-header-redesign-enabled="true" data-fetch-indicator-src="/notifications/indicator" data-fetch-indicator-enabled="true" data-view-component="true" class="js-socket-channel">
  <a id="AppHeader-notifications-button" href="/notifications"
    class="AppHeader-button Button--secondary"

    style="width:32px;height:32px;"

    data-hotkey="g n"
    data-target="notification-indicator.link"
    aria-label="Notifications"

      data-analytics-event="{&quot;category&quot;:&quot;SiteHeaderComponent&quot;,&quot;action&quot;:&quot;notifications&quot;,&quot;label&quot;:null}"
  >

    <span
      data-target="notification-indicator.badge"
      class="mail-status unread d-none" hidden>
    </span>

      <svg aria-hidden="true" height="16" viewBox="0 0 16 16" version="1.1" width="16" data-view-component="true" class="octicon octicon-inbox color-fg-muted mr-0">
    <path d="M2.8 2.06A1.75 1.75 0 0 1 4.41 1h7.18c.7 0 1.333.417 1.61 1.06l2.74 6.395c.04.093.06.194.06.295v4.5A1.75 1.75 0 0 1 14.25 15H1.75A1.75 1.75 0 0 1 0 13.25v-4.5c0-.101.02-.202.06-.295Zm1.61.44a.25.25 0 0 0-.23.152L1.887 8H4.75a.75.75 0 0 1 .6.3L6.625 10h2.75l1.275-1.7a.75.75 0 0 1 .6-.3h2.863L11.82 2.652a.25.25 0 0 0-.23-.152Zm10.09 7h-2.875l-1.275 1.7a.75.75 0 0 1-.6.3h-3.5a.75.75 0 0 1-.6-.3L4.375 9.5H1.5v3.75c0 .138.112.25.25.25h12.5a.25.25 0 0 0 .25-.25Z"></path>
</svg>
  </a>

    <tool-tip data-target="notification-indicator.tooltip" id="tooltip-32e80e68-9db1-4bc2-9520-1d7c79b9309a" for="AppHeader-notifications-button" popover="manual" data-direction="s" data-type="description" data-view-component="true" class="sr-only position-absolute">Notifications</tool-tip>
</notification-indicator>

        

        <div class="AppHeader-user">
          <deferred-side-panel data-url="/_side-panels/user?memex_enabled=true&amp;repository=datavisualization1&amp;user=TeekamChaudhary&amp;user_can_create_organizations=true&amp;user_id=122473930">
  <include-fragment data-target="deferred-side-panel.fragment">
      <user-drawer-side-panel>
      <button aria-label="Open user account menu" data-action="click:deferred-side-panel#loadPanel click:deferred-side-panel#panelOpened" data-show-dialog-id="dialog-2e6ce41d-98b4-43ef-b614-981c8845f78f" id="dialog-show-dialog-2e6ce41d-98b4-43ef-b614-981c8845f78f" type="button" data-view-component="true" class="AppHeader-logo Button--invisible Button--medium Button Button--invisible-noVisuals color-bg-transparent p-0">    <span class="Button-content">
      <span class="Button-label"><img src="https://avatars.githubusercontent.com/u/122473930?v=4" alt="" size="32" height="32" width="32" data-view-component="true" class="avatar circle" /></span>
    </span>
</button>  

<div class="Overlay--hidden Overlay-backdrop--side Overlay-backdrop--placement-right" data-modal-dialog-overlay>
  <modal-dialog data-target="deferred-side-panel.panel" role="dialog" id="dialog-2e6ce41d-98b4-43ef-b614-981c8845f78f" aria-modal="true" aria-disabled="true" aria-labelledby="dialog-2e6ce41d-98b4-43ef-b614-981c8845f78f-title" aria-describedby="dialog-2e6ce41d-98b4-43ef-b614-981c8845f78f-description" data-view-component="true" class="Overlay Overlay-whenNarrow Overlay--size-small-portrait Overlay--motion-scaleFade SidePanel">
    <div styles="flex-direction: row;" data-view-component="true" class="Overlay-header">
  <div class="Overlay-headerContentWrap">
    <div class="Overlay-titleWrap">
      <h1 class="Overlay-title sr-only" id="dialog-2e6ce41d-98b4-43ef-b614-981c8845f78f-title">
        Account menu
      </h1>
            <div data-view-component="true" class="d-flex">
      <div data-view-component="true" class="AppHeader-logo position-relative">
        <img src="https://avatars.githubusercontent.com/u/122473930?v=4" alt="" size="32" height="32" width="32" data-view-component="true" class="avatar circle" />
</div>        <div data-view-component="true" class="overflow-hidden d-flex width-full">        <div data-view-component="true" class="lh-condensed overflow-hidden d-flex flex-column flex-justify-center ml-2 f5 mr-auto width-full">
          <span data-view-component="true" class="Truncate text-bold">
    <span data-view-component="true" class="Truncate-text">
            TeekamChaudhary
</span>
</span>          <span data-view-component="true" class="Truncate color-fg-subtle">
    <span data-view-component="true" class="Truncate-text">
            Teekam Chaudhary (티캄 차우다리)
</span>
</span></div>
</div>
</div>
    </div>
    <div class="Overlay-actionWrap">
      <button data-close-dialog-id="dialog-2e6ce41d-98b4-43ef-b614-981c8845f78f" aria-label="Close" type="button" data-view-component="true" class="close-button Overlay-closeButton"><svg aria-hidden="true" height="16" viewBox="0 0 16 16" version="1.1" width="16" data-view-component="true" class="octicon octicon-x">
    <path d="M3.72 3.72a.75.75 0 0 1 1.06 0L8 6.94l3.22-3.22a.749.749 0 0 1 1.275.326.749.749 0 0 1-.215.734L9.06 8l3.22 3.22a.749.749 0 0 1-.326 1.275.749.749 0 0 1-.734-.215L8 9.06l-3.22 3.22a.751.751 0 0 1-1.042-.018.751.751 0 0 1-.018-1.042L6.94 8 3.72 4.78a.75.75 0 0 1 0-1.06Z"></path>
</svg></button>
    </div>
  </div>
</div>
      <div data-view-component="true" class="Overlay-body d-flex flex-column height-full px-2">      <nav aria-label="User navigation" data-view-component="true" class="ActionList">
  
  <nav-list>
    <ul data-view-component="true" class="ActionListWrap">
        
          
<li data-item-id="" data-targets="nav-list.items" data-view-component="true" class="ActionListItem">
    
    <button id="item-f5a78b15-a82a-4c86-adfb-e53b236a16e7" type="button" data-view-component="true" class="ActionListContent ActionListContent--visual16">
        <span class="ActionListItem-visual ActionListItem-visual--leading">
          <span data-view-component="true" class="d-flex flex-items-center">    <svg style="box-sizing: content-box; color: var(--color-icon-primary);" width="16" height="16" viewBox="0 0 16 16" fill="none" data-view-component="true" class="anim-rotate">
  <circle cx="8" cy="8" r="7" stroke="currentColor" stroke-opacity="0.25" stroke-width="2" vector-effect="non-scaling-stroke" fill="none" />
  <path d="M15 8a7.002 7.002 0 00-7-7" stroke="currentColor" stroke-width="2" stroke-linecap="round" vector-effect="non-scaling-stroke" />
</svg>
</span>
        </span>
      
        <span data-view-component="true" class="ActionListItem-label">
          

  <span class="color-fg-muted">
    Loading...
  </span>

</span></button>
  
  
</li>

        
          <li role="presentation" aria-hidden="true" data-view-component="true" class="ActionList-sectionDivider"></li>
        
          
<li data-item-id="" data-targets="nav-list.items" data-view-component="true" class="ActionListItem">
    
    <a data-analytics-event="{&quot;category&quot;:&quot;Global navigation&quot;,&quot;action&quot;:&quot;PROFILE&quot;,&quot;label&quot;:null}" id="item-1ed9d07b-7b94-4dd9-95f1-001bd7b23a89" href="https://github.com/TeekamChaudhary" data-view-component="true" class="ActionListContent ActionListContent--visual16">
        <span class="ActionListItem-visual ActionListItem-visual--leading">
          <svg aria-hidden="true" height="16" viewBox="0 0 16 16" version="1.1" width="16" data-view-component="true" class="octicon octicon-person">
    <path d="M10.561 8.073a6.005 6.005 0 0 1 3.432 5.142.75.75 0 1 1-1.498.07 4.5 4.5 0 0 0-8.99 0 .75.75 0 0 1-1.498-.07 6.004 6.004 0 0 1 3.431-5.142 3.999 3.999 0 1 1 5.123 0ZM10.5 5a2.5 2.5 0 1 0-5 0 2.5 2.5 0 0 0 5 0Z"></path>
</svg>
        </span>
      
        <span data-view-component="true" class="ActionListItem-label">
          Your profile
</span></a>
  
  
</li>

        
          <li role="presentation" aria-hidden="true" data-view-component="true" class="ActionList-sectionDivider"></li>
        
          
<li data-item-id="" data-targets="nav-list.items" data-view-component="true" class="ActionListItem">
    
    <a data-analytics-event="{&quot;category&quot;:&quot;Global navigation&quot;,&quot;action&quot;:&quot;YOUR_REPOSITORIES&quot;,&quot;label&quot;:null}" id="item-322b41c0-1abe-4d75-a1db-2e2c8c8754c2" href="/TeekamChaudhary?tab=repositories" data-view-component="true" class="ActionListContent ActionListContent--visual16">
        <span class="ActionListItem-visual ActionListItem-visual--leading">
          <svg aria-hidden="true" height="16" viewBox="0 0 16 16" version="1.1" width="16" data-view-component="true" class="octicon octicon-repo">
    <path d="M2 2.5A2.5 2.5 0 0 1 4.5 0h8.75a.75.75 0 0 1 .75.75v12.5a.75.75 0 0 1-.75.75h-2.5a.75.75 0 0 1 0-1.5h1.75v-2h-8a1 1 0 0 0-.714 1.7.75.75 0 1 1-1.072 1.05A2.495 2.495 0 0 1 2 11.5Zm10.5-1h-8a1 1 0 0 0-1 1v6.708A2.486 2.486 0 0 1 4.5 9h8ZM5 12.25a.25.25 0 0 1 .25-.25h3.5a.25.25 0 0 1 .25.25v3.25a.25.25 0 0 1-.4.2l-1.45-1.087a.249.249 0 0 0-.3 0L5.4 15.7a.25.25 0 0 1-.4-.2Z"></path>
</svg>
        </span>
      
        <span data-view-component="true" class="ActionListItem-label">
          Your repositories
</span></a>
  
  
</li>

        
          
<li data-item-id="" data-targets="nav-list.items" data-view-component="true" class="ActionListItem">
    
    <a data-analytics-event="{&quot;category&quot;:&quot;Global navigation&quot;,&quot;action&quot;:&quot;YOUR_PROJECTS&quot;,&quot;label&quot;:null}" id="item-93beac47-b49b-4db1-bdbe-82206403a9e6" href="/TeekamChaudhary?tab=projects" data-view-component="true" class="ActionListContent ActionListContent--visual16">
        <span class="ActionListItem-visual ActionListItem-visual--leading">
          <svg aria-hidden="true" height="16" viewBox="0 0 16 16" version="1.1" width="16" data-view-component="true" class="octicon octicon-project">
    <path d="M1.75 0h12.5C15.216 0 16 .784 16 1.75v12.5A1.75 1.75 0 0 1 14.25 16H1.75A1.75 1.75 0 0 1 0 14.25V1.75C0 .784.784 0 1.75 0ZM1.5 1.75v12.5c0 .138.112.25.25.25h12.5a.25.25 0 0 0 .25-.25V1.75a.25.25 0 0 0-.25-.25H1.75a.25.25 0 0 0-.25.25ZM11.75 3a.75.75 0 0 1 .75.75v7.5a.75.75 0 0 1-1.5 0v-7.5a.75.75 0 0 1 .75-.75Zm-8.25.75a.75.75 0 0 1 1.5 0v5.5a.75.75 0 0 1-1.5 0ZM8 3a.75.75 0 0 1 .75.75v3.5a.75.75 0 0 1-1.5 0v-3.5A.75.75 0 0 1 8 3Z"></path>
</svg>
        </span>
      
        <span data-view-component="true" class="ActionListItem-label">
          Your projects
</span></a>
  
  
</li>

        
          
<li data-item-id="" data-targets="nav-list.items" data-view-component="true" class="ActionListItem">
    
    <a data-analytics-event="{&quot;category&quot;:&quot;Global navigation&quot;,&quot;action&quot;:&quot;YOUR_CODESPACES&quot;,&quot;label&quot;:null}" id="item-5dc41e61-d3c5-4d7d-849b-1e06278405d7" href="/codespaces" data-view-component="true" class="ActionListContent ActionListContent--visual16">
        <span class="ActionListItem-visual ActionListItem-visual--leading">
          <svg aria-hidden="true" height="16" viewBox="0 0 16 16" version="1.1" width="16" data-view-component="true" class="octicon octicon-codespaces">
    <path d="M0 11.25c0-.966.784-1.75 1.75-1.75h12.5c.966 0 1.75.784 1.75 1.75v3A1.75 1.75 0 0 1 14.25 16H1.75A1.75 1.75 0 0 1 0 14.25Zm2-9.5C2 .784 2.784 0 3.75 0h8.5C13.216 0 14 .784 14 1.75v5a1.75 1.75 0 0 1-1.75 1.75h-8.5A1.75 1.75 0 0 1 2 6.75Zm1.75-.25a.25.25 0 0 0-.25.25v5c0 .138.112.25.25.25h8.5a.25.25 0 0 0 .25-.25v-5a.25.25 0 0 0-.25-.25Zm-2 9.5a.25.25 0 0 0-.25.25v3c0 .138.112.25.25.25h12.5a.25.25 0 0 0 .25-.25v-3a.25.25 0 0 0-.25-.25Z"></path><path d="M7 12.75a.75.75 0 0 1 .75-.75h4.5a.75.75 0 0 1 0 1.5h-4.5a.75.75 0 0 1-.75-.75Zm-4 0a.75.75 0 0 1 .75-.75h.5a.75.75 0 0 1 0 1.5h-.5a.75.75 0 0 1-.75-.75Z"></path>
</svg>
        </span>
      
        <span data-view-component="true" class="ActionListItem-label">
          Your codespaces
</span></a>
  
  
</li>

        
          
<li data-item-id="" data-targets="nav-list.items" data-view-component="true" class="ActionListItem">
    
    <button id="item-ca0c22b4-ffdc-482d-a7e4-cd9ab01c12e4" type="button" data-view-component="true" class="ActionListContent ActionListContent--visual16">
        <span class="ActionListItem-visual ActionListItem-visual--leading">
          <span data-view-component="true" class="d-flex flex-items-center">    <svg style="box-sizing: content-box; color: var(--color-icon-primary);" width="16" height="16" viewBox="0 0 16 16" fill="none" data-view-component="true" class="anim-rotate">
  <circle cx="8" cy="8" r="7" stroke="currentColor" stroke-opacity="0.25" stroke-width="2" vector-effect="non-scaling-stroke" fill="none" />
  <path d="M15 8a7.002 7.002 0 00-7-7" stroke="currentColor" stroke-width="2" stroke-linecap="round" vector-effect="non-scaling-stroke" />
</svg>
</span>
        </span>
      
        <span data-view-component="true" class="ActionListItem-label">
          

  <span class="color-fg-muted">
    Loading...
  </span>

</span></button>
  
  
</li>

        
          
<li data-item-id="" data-targets="nav-list.items" data-view-component="true" class="ActionListItem">
    
    <a data-analytics-event="{&quot;category&quot;:&quot;Global navigation&quot;,&quot;action&quot;:&quot;YOUR_STARS&quot;,&quot;label&quot;:null}" id="item-7fe6ce1f-bfe2-4f86-a07f-91a96c0ae539" href="/TeekamChaudhary?tab=stars" data-view-component="true" class="ActionListContent ActionListContent--visual16">
        <span class="ActionListItem-visual ActionListItem-visual--leading">
          <svg aria-hidden="true" height="16" viewBox="0 0 16 16" version="1.1" width="16" data-view-component="true" class="octicon octicon-star">
    <path d="M8 .25a.75.75 0 0 1 .673.418l1.882 3.815 4.21.612a.75.75 0 0 1 .416 1.279l-3.046 2.97.719 4.192a.751.751 0 0 1-1.088.791L8 12.347l-3.766 1.98a.75.75 0 0 1-1.088-.79l.72-4.194L.818 6.374a.75.75 0 0 1 .416-1.28l4.21-.611L7.327.668A.75.75 0 0 1 8 .25Zm0 2.445L6.615 5.5a.75.75 0 0 1-.564.41l-3.097.45 2.24 2.184a.75.75 0 0 1 .216.664l-.528 3.084 2.769-1.456a.75.75 0 0 1 .698 0l2.77 1.456-.53-3.084a.75.75 0 0 1 .216-.664l2.24-2.183-3.096-.45a.75.75 0 0 1-.564-.41L8 2.694Z"></path>
</svg>
        </span>
      
        <span data-view-component="true" class="ActionListItem-label">
          Your stars
</span></a>
  
  
</li>

        
          
<li data-item-id="" data-targets="nav-list.items" data-view-component="true" class="ActionListItem">
    
    <a data-analytics-event="{&quot;category&quot;:&quot;Global navigation&quot;,&quot;action&quot;:&quot;SPONSORS&quot;,&quot;label&quot;:null}" id="item-bde50a8d-a4f0-4494-ab6b-7c6a104ee32d" href="/sponsors/accounts" data-view-component="true" class="ActionListContent ActionListContent--visual16">
        <span class="ActionListItem-visual ActionListItem-visual--leading">
          <svg aria-hidden="true" height="16" viewBox="0 0 16 16" version="1.1" width="16" data-view-component="true" class="octicon octicon-heart">
    <path d="m8 14.25.345.666a.75.75 0 0 1-.69 0l-.008-.004-.018-.01a7.152 7.152 0 0 1-.31-.17 22.055 22.055 0 0 1-3.434-2.414C2.045 10.731 0 8.35 0 5.5 0 2.836 2.086 1 4.25 1 5.797 1 7.153 1.802 8 3.02 8.847 1.802 10.203 1 11.75 1 13.914 1 16 2.836 16 5.5c0 2.85-2.045 5.231-3.885 6.818a22.066 22.066 0 0 1-3.744 2.584l-.018.01-.006.003h-.002ZM4.25 2.5c-1.336 0-2.75 1.164-2.75 3 0 2.15 1.58 4.144 3.365 5.682A20.58 20.58 0 0 0 8 13.393a20.58 20.58 0 0 0 3.135-2.211C12.92 9.644 14.5 7.65 14.5 5.5c0-1.836-1.414-3-2.75-3-1.373 0-2.609.986-3.029 2.456a.749.749 0 0 1-1.442 0C6.859 3.486 5.623 2.5 4.25 2.5Z"></path>
</svg>
        </span>
      
        <span data-view-component="true" class="ActionListItem-label">
          Your sponsors
</span></a>
  
  
</li>

        
          
<li data-item-id="" data-targets="nav-list.items" data-view-component="true" class="ActionListItem">
    
    <a data-analytics-event="{&quot;category&quot;:&quot;Global navigation&quot;,&quot;action&quot;:&quot;YOUR_GISTS&quot;,&quot;label&quot;:null}" id="item-266d0b34-e7fd-4574-9c68-47636df537ee" href="https://gist.github.com/mine" data-view-component="true" class="ActionListContent ActionListContent--visual16">
        <span class="ActionListItem-visual ActionListItem-visual--leading">
          <svg aria-hidden="true" height="16" viewBox="0 0 16 16" version="1.1" width="16" data-view-component="true" class="octicon octicon-code-square">
    <path d="M0 1.75C0 .784.784 0 1.75 0h12.5C15.216 0 16 .784 16 1.75v12.5A1.75 1.75 0 0 1 14.25 16H1.75A1.75 1.75 0 0 1 0 14.25Zm1.75-.25a.25.25 0 0 0-.25.25v12.5c0 .138.112.25.25.25h12.5a.25.25 0 0 0 .25-.25V1.75a.25.25 0 0 0-.25-.25Zm7.47 3.97a.75.75 0 0 1 1.06 0l2 2a.75.75 0 0 1 0 1.06l-2 2a.749.749 0 0 1-1.275-.326.749.749 0 0 1 .215-.734L10.69 8 9.22 6.53a.75.75 0 0 1 0-1.06ZM6.78 6.53 5.31 8l1.47 1.47a.749.749 0 0 1-.326 1.275.749.749 0 0 1-.734-.215l-2-2a.75.75 0 0 1 0-1.06l2-2a.751.751 0 0 1 1.042.018.751.751 0 0 1 .018 1.042Z"></path>
</svg>
        </span>
      
        <span data-view-component="true" class="ActionListItem-label">
          Your gists
</span></a>
  
  
</li>

        
          <li role="presentation" aria-hidden="true" data-view-component="true" class="ActionList-sectionDivider"></li>
        
          
<li data-item-id="" data-targets="nav-list.items" data-view-component="true" class="ActionListItem">
    
    <button id="item-e1cd656a-e6cf-4f98-8f56-ae41acbd62da" type="button" data-view-component="true" class="ActionListContent ActionListContent--visual16">
        <span class="ActionListItem-visual ActionListItem-visual--leading">
          <span data-view-component="true" class="d-flex flex-items-center">    <svg style="box-sizing: content-box; color: var(--color-icon-primary);" width="16" height="16" viewBox="0 0 16 16" fill="none" data-view-component="true" class="anim-rotate">
  <circle cx="8" cy="8" r="7" stroke="currentColor" stroke-opacity="0.25" stroke-width="2" vector-effect="non-scaling-stroke" fill="none" />
  <path d="M15 8a7.002 7.002 0 00-7-7" stroke="currentColor" stroke-width="2" stroke-linecap="round" vector-effect="non-scaling-stroke" />
</svg>
</span>
        </span>
      
        <span data-view-component="true" class="ActionListItem-label">
          

  <span class="color-fg-muted">
    Loading...
  </span>

</span></button>
  
  
</li>

        
          
<li data-item-id="" data-targets="nav-list.items" data-view-component="true" class="ActionListItem">
    
    <button id="item-f170f306-f4d3-493b-a68d-6fdbcdd6ec6a" type="button" data-view-component="true" class="ActionListContent ActionListContent--visual16">
        <span class="ActionListItem-visual ActionListItem-visual--leading">
          <span data-view-component="true" class="d-flex flex-items-center">    <svg style="box-sizing: content-box; color: var(--color-icon-primary);" width="16" height="16" viewBox="0 0 16 16" fill="none" data-view-component="true" class="anim-rotate">
  <circle cx="8" cy="8" r="7" stroke="currentColor" stroke-opacity="0.25" stroke-width="2" vector-effect="non-scaling-stroke" fill="none" />
  <path d="M15 8a7.002 7.002 0 00-7-7" stroke="currentColor" stroke-width="2" stroke-linecap="round" vector-effect="non-scaling-stroke" />
</svg>
</span>
        </span>
      
        <span data-view-component="true" class="ActionListItem-label">
          

  <span class="color-fg-muted">
    Loading...
  </span>

</span></button>
  
  
</li>

        
          
<li data-item-id="" data-targets="nav-list.items" data-view-component="true" class="ActionListItem">
    
    <button id="item-dd5513f3-d6ed-4e8e-b098-4fa7b6190b03" type="button" data-view-component="true" class="ActionListContent ActionListContent--visual16">
        <span class="ActionListItem-visual ActionListItem-visual--leading">
          <span data-view-component="true" class="d-flex flex-items-center">    <svg style="box-sizing: content-box; color: var(--color-icon-primary);" width="16" height="16" viewBox="0 0 16 16" fill="none" data-view-component="true" class="anim-rotate">
  <circle cx="8" cy="8" r="7" stroke="currentColor" stroke-opacity="0.25" stroke-width="2" vector-effect="non-scaling-stroke" fill="none" />
  <path d="M15 8a7.002 7.002 0 00-7-7" stroke="currentColor" stroke-width="2" stroke-linecap="round" vector-effect="non-scaling-stroke" />
</svg>
</span>
        </span>
      
        <span data-view-component="true" class="ActionListItem-label">
          

  <span class="color-fg-muted">
    Loading...
  </span>

</span></button>
  
  
</li>

        
          
<li data-item-id="" data-targets="nav-list.items" data-view-component="true" class="ActionListItem">
    
    <a data-analytics-event="{&quot;category&quot;:&quot;Global navigation&quot;,&quot;action&quot;:&quot;SETTINGS&quot;,&quot;label&quot;:null}" id="item-2c23e58e-6aac-4a6c-a754-8b6d677433fe" href="/settings/profile" data-view-component="true" class="ActionListContent ActionListContent--visual16">
        <span class="ActionListItem-visual ActionListItem-visual--leading">
          <svg aria-hidden="true" height="16" viewBox="0 0 16 16" version="1.1" width="16" data-view-component="true" class="octicon octicon-gear">
    <path d="M8 0a8.2 8.2 0 0 1 .701.031C9.444.095 9.99.645 10.16 1.29l.288 1.107c.018.066.079.158.212.224.231.114.454.243.668.386.123.082.233.09.299.071l1.103-.303c.644-.176 1.392.021 1.82.63.27.385.506.792.704 1.218.315.675.111 1.422-.364 1.891l-.814.806c-.049.048-.098.147-.088.294.016.257.016.515 0 .772-.01.147.038.246.088.294l.814.806c.475.469.679 1.216.364 1.891a7.977 7.977 0 0 1-.704 1.217c-.428.61-1.176.807-1.82.63l-1.102-.302c-.067-.019-.177-.011-.3.071a5.909 5.909 0 0 1-.668.386c-.133.066-.194.158-.211.224l-.29 1.106c-.168.646-.715 1.196-1.458 1.26a8.006 8.006 0 0 1-1.402 0c-.743-.064-1.289-.614-1.458-1.26l-.289-1.106c-.018-.066-.079-.158-.212-.224a5.738 5.738 0 0 1-.668-.386c-.123-.082-.233-.09-.299-.071l-1.103.303c-.644.176-1.392-.021-1.82-.63a8.12 8.12 0 0 1-.704-1.218c-.315-.675-.111-1.422.363-1.891l.815-.806c.05-.048.098-.147.088-.294a6.214 6.214 0 0 1 0-.772c.01-.147-.038-.246-.088-.294l-.815-.806C.635 6.045.431 5.298.746 4.623a7.92 7.92 0 0 1 .704-1.217c.428-.61 1.176-.807 1.82-.63l1.102.302c.067.019.177.011.3-.071.214-.143.437-.272.668-.386.133-.066.194-.158.211-.224l.29-1.106C6.009.645 6.556.095 7.299.03 7.53.01 7.764 0 8 0Zm-.571 1.525c-.036.003-.108.036-.137.146l-.289 1.105c-.147.561-.549.967-.998 1.189-.173.086-.34.183-.5.29-.417.278-.97.423-1.529.27l-1.103-.303c-.109-.03-.175.016-.195.045-.22.312-.412.644-.573.99-.014.031-.021.11.059.19l.815.806c.411.406.562.957.53 1.456a4.709 4.709 0 0 0 0 .582c.032.499-.119 1.05-.53 1.456l-.815.806c-.081.08-.073.159-.059.19.162.346.353.677.573.989.02.03.085.076.195.046l1.102-.303c.56-.153 1.113-.008 1.53.27.161.107.328.204.501.29.447.222.85.629.997 1.189l.289 1.105c.029.109.101.143.137.146a6.6 6.6 0 0 0 1.142 0c.036-.003.108-.036.137-.146l.289-1.105c.147-.561.549-.967.998-1.189.173-.086.34-.183.5-.29.417-.278.97-.423 1.529-.27l1.103.303c.109.029.175-.016.195-.045.22-.313.411-.644.573-.99.014-.031.021-.11-.059-.19l-.815-.806c-.411-.406-.562-.957-.53-1.456a4.709 4.709 0 0 0 0-.582c-.032-.499.119-1.05.53-1.456l.815-.806c.081-.08.073-.159.059-.19a6.464 6.464 0 0 0-.573-.989c-.02-.03-.085-.076-.195-.046l-1.102.303c-.56.153-1.113.008-1.53-.27a4.44 4.44 0 0 0-.501-.29c-.447-.222-.85-.629-.997-1.189l-.289-1.105c-.029-.11-.101-.143-.137-.146a6.6 6.6 0 0 0-1.142 0ZM11 8a3 3 0 1 1-6 0 3 3 0 0 1 6 0ZM9.5 8a1.5 1.5 0 1 0-3.001.001A1.5 1.5 0 0 0 9.5 8Z"></path>
</svg>
        </span>
      
        <span data-view-component="true" class="ActionListItem-label">
          Settings
</span></a>
  
  
</li>

        
          <li role="presentation" aria-hidden="true" data-view-component="true" class="ActionList-sectionDivider"></li>
        
          
<li data-item-id="" data-targets="nav-list.items" data-view-component="true" class="ActionListItem">
    
    <a data-analytics-event="{&quot;category&quot;:&quot;Global navigation&quot;,&quot;action&quot;:&quot;DOCS&quot;,&quot;label&quot;:null}" id="item-507bdc91-4709-4f0f-b92a-665254ba006c" href="https://docs.github.com" data-view-component="true" class="ActionListContent ActionListContent--visual16">
        <span class="ActionListItem-visual ActionListItem-visual--leading">
          <svg aria-hidden="true" height="16" viewBox="0 0 16 16" version="1.1" width="16" data-view-component="true" class="octicon octicon-book">
    <path d="M0 1.75A.75.75 0 0 1 .75 1h4.253c1.227 0 2.317.59 3 1.501A3.743 3.743 0 0 1 11.006 1h4.245a.75.75 0 0 1 .75.75v10.5a.75.75 0 0 1-.75.75h-4.507a2.25 2.25 0 0 0-1.591.659l-.622.621a.75.75 0 0 1-1.06 0l-.622-.621A2.25 2.25 0 0 0 5.258 13H.75a.75.75 0 0 1-.75-.75Zm7.251 10.324.004-5.073-.002-2.253A2.25 2.25 0 0 0 5.003 2.5H1.5v9h3.757a3.75 3.75 0 0 1 1.994.574ZM8.755 4.75l-.004 7.322a3.752 3.752 0 0 1 1.992-.572H14.5v-9h-3.495a2.25 2.25 0 0 0-2.25 2.25Z"></path>
</svg>
        </span>
      
        <span data-view-component="true" class="ActionListItem-label">
          GitHub Docs
</span></a>
  
  
</li>

        
          
<li data-item-id="" data-targets="nav-list.items" data-view-component="true" class="ActionListItem">
    
    <a data-analytics-event="{&quot;category&quot;:&quot;Global navigation&quot;,&quot;action&quot;:&quot;SUPPORT&quot;,&quot;label&quot;:null}" id="item-2f267c4b-2e35-47dc-91c1-5ed15983411c" href="https://support.github.com" data-view-component="true" class="ActionListContent ActionListContent--visual16">
        <span class="ActionListItem-visual ActionListItem-visual--leading">
          <svg aria-hidden="true" height="16" viewBox="0 0 16 16" version="1.1" width="16" data-view-component="true" class="octicon octicon-people">
    <path d="M2 5.5a3.5 3.5 0 1 1 5.898 2.549 5.508 5.508 0 0 1 3.034 4.084.75.75 0 1 1-1.482.235 4 4 0 0 0-7.9 0 .75.75 0 0 1-1.482-.236A5.507 5.507 0 0 1 3.102 8.05 3.493 3.493 0 0 1 2 5.5ZM11 4a3.001 3.001 0 0 1 2.22 5.018 5.01 5.01 0 0 1 2.56 3.012.749.749 0 0 1-.885.954.752.752 0 0 1-.549-.514 3.507 3.507 0 0 0-2.522-2.372.75.75 0 0 1-.574-.73v-.352a.75.75 0 0 1 .416-.672A1.5 1.5 0 0 0 11 5.5.75.75 0 0 1 11 4Zm-5.5-.5a2 2 0 1 0-.001 3.999A2 2 0 0 0 5.5 3.5Z"></path>
</svg>
        </span>
      
        <span data-view-component="true" class="ActionListItem-label">
          GitHub Support
</span></a>
  
  
</li>

        
          <li role="presentation" aria-hidden="true" data-view-component="true" class="ActionList-sectionDivider"></li>
        
          
<li data-item-id="" data-targets="nav-list.items" data-view-component="true" class="ActionListItem">
    
    <a data-analytics-event="{&quot;category&quot;:&quot;Global navigation&quot;,&quot;action&quot;:&quot;LOGOUT&quot;,&quot;label&quot;:null}" id="item-80baac8b-adfb-43c1-9b93-ab77cb9d5e44" href="/logout" data-view-component="true" class="ActionListContent">
      
        <span data-view-component="true" class="ActionListItem-label">
          Sign out
</span></a>
  
  
</li>

</ul>  </nav-list>
</nav>


</div>
      
</modal-dialog></div>
  </user-drawer-side-panel>

  </include-fragment>
</deferred-side-panel>
        </div>

        <div class="position-absolute mt-2">
            
<site-header-logged-in-user-menu>

</site-header-logged-in-user-menu>

        </div>
      </div>
    </div>


      <div class="AppHeader-localBar" >
        <nav data-pjax="#js-repo-pjax-container" aria-label="Repository" data-view-component="true" class="js-repo-nav js-sidenav-container-pjax js-responsive-underlinenav overflow-hidden UnderlineNav">

  <ul data-view-component="true" class="UnderlineNav-body list-style-none">
      <li data-view-component="true" class="d-inline-flex">
  <a id="code-tab" href="/itzmohanmadhav/datavisualization1" data-tab-item="i0code-tab" data-selected-links="repo_source repo_downloads repo_commits repo_releases repo_tags repo_branches repo_packages repo_deployments /itzmohanmadhav/datavisualization1" data-pjax="#repo-content-pjax-container" data-turbo-frame="repo-content-turbo-frame" data-hotkey="g c" data-analytics-event="{&quot;category&quot;:&quot;Underline navbar&quot;,&quot;action&quot;:&quot;Click tab&quot;,&quot;label&quot;:&quot;Code&quot;,&quot;target&quot;:&quot;UNDERLINE_NAV.TAB&quot;}" data-view-component="true" class="UnderlineNav-item no-wrap js-responsive-underlinenav-item js-selected-navigation-item">
    
              <svg aria-hidden="true" height="16" viewBox="0 0 16 16" version="1.1" width="16" data-view-component="true" class="octicon octicon-code UnderlineNav-octicon d-none d-sm-inline">
    <path d="m11.28 3.22 4.25 4.25a.75.75 0 0 1 0 1.06l-4.25 4.25a.749.749 0 0 1-1.275-.326.749.749 0 0 1 .215-.734L13.94 8l-3.72-3.72a.749.749 0 0 1 .326-1.275.749.749 0 0 1 .734.215Zm-6.56 0a.751.751 0 0 1 1.042.018.751.751 0 0 1 .018 1.042L2.06 8l3.72 3.72a.749.749 0 0 1-.326 1.275.749.749 0 0 1-.734-.215L.47 8.53a.75.75 0 0 1 0-1.06Z"></path>
</svg>
        <span data-content="Code">Code</span>
          <span id="code-repo-tab-count" data-pjax-replace="" data-turbo-replace="" title="Not available" data-view-component="true" class="Counter"></span>


    
</a></li>
      <li data-view-component="true" class="d-inline-flex">
  <a id="issues-tab" href="/itzmohanmadhav/datavisualization1/issues" data-tab-item="i1issues-tab" data-selected-links="repo_issues repo_labels repo_milestones /itzmohanmadhav/datavisualization1/issues" data-pjax="#repo-content-pjax-container" data-turbo-frame="repo-content-turbo-frame" data-hotkey="g i" data-analytics-event="{&quot;category&quot;:&quot;Underline navbar&quot;,&quot;action&quot;:&quot;Click tab&quot;,&quot;label&quot;:&quot;Issues&quot;,&quot;target&quot;:&quot;UNDERLINE_NAV.TAB&quot;}" data-view-component="true" class="UnderlineNav-item no-wrap js-responsive-underlinenav-item js-selected-navigation-item">
    
              <svg aria-hidden="true" height="16" viewBox="0 0 16 16" version="1.1" width="16" data-view-component="true" class="octicon octicon-issue-opened UnderlineNav-octicon d-none d-sm-inline">
    <path d="M8 9.5a1.5 1.5 0 1 0 0-3 1.5 1.5 0 0 0 0 3Z"></path><path d="M8 0a8 8 0 1 1 0 16A8 8 0 0 1 8 0ZM1.5 8a6.5 6.5 0 1 0 13 0 6.5 6.5 0 0 0-13 0Z"></path>
</svg>
        <span data-content="Issues">Issues</span>
          <span id="issues-repo-tab-count" data-pjax-replace="" data-turbo-replace="" title="0" hidden="hidden" data-view-component="true" class="Counter">0</span>


    
</a></li>
      <li data-view-component="true" class="d-inline-flex">
  <a id="pull-requests-tab" href="/itzmohanmadhav/datavisualization1/pulls" data-tab-item="i2pull-requests-tab" data-selected-links="repo_pulls checks /itzmohanmadhav/datavisualization1/pulls" data-pjax="#repo-content-pjax-container" data-turbo-frame="repo-content-turbo-frame" data-hotkey="g p" data-analytics-event="{&quot;category&quot;:&quot;Underline navbar&quot;,&quot;action&quot;:&quot;Click tab&quot;,&quot;label&quot;:&quot;Pull requests&quot;,&quot;target&quot;:&quot;UNDERLINE_NAV.TAB&quot;}" data-view-component="true" class="UnderlineNav-item no-wrap js-responsive-underlinenav-item js-selected-navigation-item">
    
              <svg aria-hidden="true" height="16" viewBox="0 0 16 16" version="1.1" width="16" data-view-component="true" class="octicon octicon-git-pull-request UnderlineNav-octicon d-none d-sm-inline">
    <path d="M1.5 3.25a2.25 2.25 0 1 1 3 2.122v5.256a2.251 2.251 0 1 1-1.5 0V5.372A2.25 2.25 0 0 1 1.5 3.25Zm5.677-.177L9.573.677A.25.25 0 0 1 10 .854V2.5h1A2.5 2.5 0 0 1 13.5 5v5.628a2.251 2.251 0 1 1-1.5 0V5a1 1 0 0 0-1-1h-1v1.646a.25.25 0 0 1-.427.177L7.177 3.427a.25.25 0 0 1 0-.354ZM3.75 2.5a.75.75 0 1 0 0 1.5.75.75 0 0 0 0-1.5Zm0 9.5a.75.75 0 1 0 0 1.5.75.75 0 0 0 0-1.5Zm8.25.75a.75.75 0 1 0 1.5 0 .75.75 0 0 0-1.5 0Z"></path>
</svg>
        <span data-content="Pull requests">Pull requests</span>
          <span id="pull-requests-repo-tab-count" data-pjax-replace="" data-turbo-replace="" title="0" hidden="hidden" data-view-component="true" class="Counter">0</span>


    
</a></li>
      <li data-view-component="true" class="d-inline-flex">
  <a id="actions-tab" href="/itzmohanmadhav/datavisualization1/actions" data-tab-item="i3actions-tab" data-selected-links="repo_actions /itzmohanmadhav/datavisualization1/actions" data-pjax="#repo-content-pjax-container" data-turbo-frame="repo-content-turbo-frame" data-hotkey="g a" data-analytics-event="{&quot;category&quot;:&quot;Underline navbar&quot;,&quot;action&quot;:&quot;Click tab&quot;,&quot;label&quot;:&quot;Actions&quot;,&quot;target&quot;:&quot;UNDERLINE_NAV.TAB&quot;}" data-view-component="true" class="UnderlineNav-item no-wrap js-responsive-underlinenav-item js-selected-navigation-item">
    
              <svg aria-hidden="true" height="16" viewBox="0 0 16 16" version="1.1" width="16" data-view-component="true" class="octicon octicon-play UnderlineNav-octicon d-none d-sm-inline">
    <path d="M8 0a8 8 0 1 1 0 16A8 8 0 0 1 8 0ZM1.5 8a6.5 6.5 0 1 0 13 0 6.5 6.5 0 0 0-13 0Zm4.879-2.773 4.264 2.559a.25.25 0 0 1 0 .428l-4.264 2.559A.25.25 0 0 1 6 10.559V5.442a.25.25 0 0 1 .379-.215Z"></path>
</svg>
        <span data-content="Actions">Actions</span>
          <span id="actions-repo-tab-count" data-pjax-replace="" data-turbo-replace="" title="Not available" data-view-component="true" class="Counter"></span>


    
</a></li>
      <li data-view-component="true" class="d-inline-flex">
  <a id="projects-tab" href="/itzmohanmadhav/datavisualization1/projects" data-tab-item="i4projects-tab" data-selected-links="repo_projects new_repo_project repo_project /itzmohanmadhav/datavisualization1/projects" data-pjax="#repo-content-pjax-container" data-turbo-frame="repo-content-turbo-frame" data-hotkey="g b" data-analytics-event="{&quot;category&quot;:&quot;Underline navbar&quot;,&quot;action&quot;:&quot;Click tab&quot;,&quot;label&quot;:&quot;Projects&quot;,&quot;target&quot;:&quot;UNDERLINE_NAV.TAB&quot;}" data-view-component="true" class="UnderlineNav-item no-wrap js-responsive-underlinenav-item js-selected-navigation-item">
    
              <svg aria-hidden="true" height="16" viewBox="0 0 16 16" version="1.1" width="16" data-view-component="true" class="octicon octicon-table UnderlineNav-octicon d-none d-sm-inline">
    <path d="M0 1.75C0 .784.784 0 1.75 0h12.5C15.216 0 16 .784 16 1.75v12.5A1.75 1.75 0 0 1 14.25 16H1.75A1.75 1.75 0 0 1 0 14.25ZM6.5 6.5v8h7.75a.25.25 0 0 0 .25-.25V6.5Zm8-1.5V1.75a.25.25 0 0 0-.25-.25H6.5V5Zm-13 1.5v7.75c0 .138.112.25.25.25H5v-8ZM5 5V1.5H1.75a.25.25 0 0 0-.25.25V5Z"></path>
</svg>
        <span data-content="Projects">Projects</span>
          <span id="projects-repo-tab-count" data-pjax-replace="" data-turbo-replace="" title="0" hidden="hidden" data-view-component="true" class="Counter">0</span>


    
</a></li>
      <li data-view-component="true" class="d-inline-flex">
  <a id="security-tab" href="/itzmohanmadhav/datavisualization1/security" data-tab-item="i5security-tab" data-selected-links="security overview alerts policy token_scanning code_scanning /itzmohanmadhav/datavisualization1/security" data-pjax="#repo-content-pjax-container" data-turbo-frame="repo-content-turbo-frame" data-hotkey="g s" data-analytics-event="{&quot;category&quot;:&quot;Underline navbar&quot;,&quot;action&quot;:&quot;Click tab&quot;,&quot;label&quot;:&quot;Security&quot;,&quot;target&quot;:&quot;UNDERLINE_NAV.TAB&quot;}" data-view-component="true" class="UnderlineNav-item no-wrap js-responsive-underlinenav-item js-selected-navigation-item">
    
              <svg aria-hidden="true" height="16" viewBox="0 0 16 16" version="1.1" width="16" data-view-component="true" class="octicon octicon-shield UnderlineNav-octicon d-none d-sm-inline">
    <path d="M7.467.133a1.748 1.748 0 0 1 1.066 0l5.25 1.68A1.75 1.75 0 0 1 15 3.48V7c0 1.566-.32 3.182-1.303 4.682-.983 1.498-2.585 2.813-5.032 3.855a1.697 1.697 0 0 1-1.33 0c-2.447-1.042-4.049-2.357-5.032-3.855C1.32 10.182 1 8.566 1 7V3.48a1.75 1.75 0 0 1 1.217-1.667Zm.61 1.429a.25.25 0 0 0-.153 0l-5.25 1.68a.25.25 0 0 0-.174.238V7c0 1.358.275 2.666 1.057 3.86.784 1.194 2.121 2.34 4.366 3.297a.196.196 0 0 0 .154 0c2.245-.956 3.582-2.104 4.366-3.298C13.225 9.666 13.5 8.36 13.5 7V3.48a.251.251 0 0 0-.174-.237l-5.25-1.68ZM8.75 4.75v3a.75.75 0 0 1-1.5 0v-3a.75.75 0 0 1 1.5 0ZM9 10.5a1 1 0 1 1-2 0 1 1 0 0 1 2 0Z"></path>
</svg>
        <span data-content="Security">Security</span>
          <include-fragment src="/itzmohanmadhav/datavisualization1/security/overall-count" accept="text/fragment+html"></include-fragment>

    
</a></li>
      <li data-view-component="true" class="d-inline-flex">
  <a id="insights-tab" href="/itzmohanmadhav/datavisualization1/pulse" data-tab-item="i6insights-tab" data-selected-links="repo_graphs repo_contributors dependency_graph dependabot_updates pulse people community /itzmohanmadhav/datavisualization1/pulse" data-pjax="#repo-content-pjax-container" data-turbo-frame="repo-content-turbo-frame" data-analytics-event="{&quot;category&quot;:&quot;Underline navbar&quot;,&quot;action&quot;:&quot;Click tab&quot;,&quot;label&quot;:&quot;Insights&quot;,&quot;target&quot;:&quot;UNDERLINE_NAV.TAB&quot;}" data-view-component="true" class="UnderlineNav-item no-wrap js-responsive-underlinenav-item js-selected-navigation-item">
    
              <svg aria-hidden="true" height="16" viewBox="0 0 16 16" version="1.1" width="16" data-view-component="true" class="octicon octicon-graph UnderlineNav-octicon d-none d-sm-inline">
    <path d="M1.5 1.75V13.5h13.75a.75.75 0 0 1 0 1.5H.75a.75.75 0 0 1-.75-.75V1.75a.75.75 0 0 1 1.5 0Zm14.28 2.53-5.25 5.25a.75.75 0 0 1-1.06 0L7 7.06 4.28 9.78a.751.751 0 0 1-1.042-.018.751.751 0 0 1-.018-1.042l3.25-3.25a.75.75 0 0 1 1.06 0L10 7.94l4.72-4.72a.751.751 0 0 1 1.042.018.751.751 0 0 1 .018 1.042Z"></path>
</svg>
        <span data-content="Insights">Insights</span>
          <span id="insights-repo-tab-count" data-pjax-replace="" data-turbo-replace="" title="Not available" data-view-component="true" class="Counter"></span>


    
</a></li>
</ul>
    <div style="visibility:hidden;" data-view-component="true" class="UnderlineNav-actions js-responsive-underlinenav-overflow position-absolute pr-3 pr-md-4 pr-lg-5 right-0">        <details data-view-component="true" class="details-overlay details-reset position-relative">
    <summary role="button" data-view-component="true">          <div class="UnderlineNav-item mr-0 border-0">
            <svg aria-hidden="true" height="16" viewBox="0 0 16 16" version="1.1" width="16" data-view-component="true" class="octicon octicon-kebab-horizontal">
    <path d="M8 9a1.5 1.5 0 1 0 0-3 1.5 1.5 0 0 0 0 3ZM1.5 9a1.5 1.5 0 1 0 0-3 1.5 1.5 0 0 0 0 3Zm13 0a1.5 1.5 0 1 0 0-3 1.5 1.5 0 0 0 0 3Z"></path>
</svg>
            <span class="sr-only">More</span>
          </div>
</summary>
    <details-menu role="menu" data-view-component="true" class="dropdown-menu dropdown-menu-sw">
          <ul>
              <li data-menu-item="i0code-tab" hidden>
                <a role="menuitem" class="js-selected-navigation-item dropdown-item" data-selected-links="repo_source repo_downloads repo_commits repo_releases repo_tags repo_branches repo_packages repo_deployments /itzmohanmadhav/datavisualization1" href="/itzmohanmadhav/datavisualization1">
                  Code
</a>              </li>
              <li data-menu-item="i1issues-tab" hidden>
                <a role="menuitem" class="js-selected-navigation-item dropdown-item" data-selected-links="repo_issues repo_labels repo_milestones /itzmohanmadhav/datavisualization1/issues" href="/itzmohanmadhav/datavisualization1/issues">
                  Issues
</a>              </li>
              <li data-menu-item="i2pull-requests-tab" hidden>
                <a role="menuitem" class="js-selected-navigation-item dropdown-item" data-selected-links="repo_pulls checks /itzmohanmadhav/datavisualization1/pulls" href="/itzmohanmadhav/datavisualization1/pulls">
                  Pull requests
</a>              </li>
              <li data-menu-item="i3actions-tab" hidden>
                <a role="menuitem" class="js-selected-navigation-item dropdown-item" data-selected-links="repo_actions /itzmohanmadhav/datavisualization1/actions" href="/itzmohanmadhav/datavisualization1/actions">
                  Actions
</a>              </li>
              <li data-menu-item="i4projects-tab" hidden>
                <a role="menuitem" class="js-selected-navigation-item dropdown-item" data-selected-links="repo_projects new_repo_project repo_project /itzmohanmadhav/datavisualization1/projects" href="/itzmohanmadhav/datavisualization1/projects">
                  Projects
</a>              </li>
              <li data-menu-item="i5security-tab" hidden>
                <a role="menuitem" class="js-selected-navigation-item dropdown-item" data-selected-links="security overview alerts policy token_scanning code_scanning /itzmohanmadhav/datavisualization1/security" href="/itzmohanmadhav/datavisualization1/security">
                  Security
</a>              </li>
              <li data-menu-item="i6insights-tab" hidden>
                <a role="menuitem" class="js-selected-navigation-item dropdown-item" data-selected-links="repo_graphs repo_contributors dependency_graph dependabot_updates pulse people community /itzmohanmadhav/datavisualization1/pulse" href="/itzmohanmadhav/datavisualization1/pulse">
                  Insights
</a>              </li>
          </ul>
</details-menu>
</details></div>
</nav>
      </div>
</header>


      <div hidden="hidden" data-view-component="true" class="js-stale-session-flash stale-session-flash flash flash-warn mb-3">
  
        <svg aria-hidden="true" height="16" viewBox="0 0 16 16" version="1.1" width="16" data-view-component="true" class="octicon octicon-alert">
    <path d="M6.457 1.047c.659-1.234 2.427-1.234 3.086 0l6.082 11.378A1.75 1.75 0 0 1 14.082 15H1.918a1.75 1.75 0 0 1-1.543-2.575Zm1.763.707a.25.25 0 0 0-.44 0L1.698 13.132a.25.25 0 0 0 .22.368h12.164a.25.25 0 0 0 .22-.368Zm.53 3.996v2.5a.75.75 0 0 1-1.5 0v-2.5a.75.75 0 0 1 1.5 0ZM9 11a1 1 0 1 1-2 0 1 1 0 0 1 2 0Z"></path>
</svg>
        <span class="js-stale-session-flash-signed-in" hidden>You signed in with another tab or window. <a class="Link--inTextBlock" href="">Reload</a> to refresh your session.</span>
        <span class="js-stale-session-flash-signed-out" hidden>You signed out in another tab or window. <a class="Link--inTextBlock" href="">Reload</a> to refresh your session.</span>
        <span class="js-stale-session-flash-switched" hidden>You switched accounts on another tab or window. <a class="Link--inTextBlock" href="">Reload</a> to refresh your session.</span>

    <div data-view-component="true" class="flash-close">
  <button id="icon-button-cf1e148e-99ed-443c-8df0-ee7685ebee75" aria-labelledby="tooltip-4ce30dee-1f68-44a2-b089-e5f84397e893" type="button" data-view-component="true" class="Button Button--iconOnly Button--invisible Button--medium js-flash-close">    <svg aria-hidden="true" height="16" viewBox="0 0 16 16" version="1.1" width="16" data-view-component="true" class="octicon octicon-x Button-visual">
    <path d="M3.72 3.72a.75.75 0 0 1 1.06 0L8 6.94l3.22-3.22a.749.749 0 0 1 1.275.326.749.749 0 0 1-.215.734L9.06 8l3.22 3.22a.749.749 0 0 1-.326 1.275.749.749 0 0 1-.734-.215L8 9.06l-3.22 3.22a.751.751 0 0 1-1.042-.018.751.751 0 0 1-.018-1.042L6.94 8 3.72 4.78a.75.75 0 0 1 0-1.06Z"></path>
</svg>
</button>  <tool-tip id="tooltip-4ce30dee-1f68-44a2-b089-e5f84397e893" for="icon-button-cf1e148e-99ed-443c-8df0-ee7685ebee75" popover="manual" data-direction="s" data-type="label" data-view-component="true" class="sr-only position-absolute">Dismiss alert</tool-tip>
</div>

  
</div>
          
    </div>

  <div id="start-of-content" class="show-on-focus"></div>








    <div id="js-flash-container" data-turbo-replace>





  <template class="js-flash-template">
    
<div class="flash flash-full   {{ className }}">
  <div class="px-2" >
    <button autofocus class="flash-close js-flash-close" type="button" aria-label="Dismiss this message">
      <svg aria-hidden="true" height="16" viewBox="0 0 16 16" version="1.1" width="16" data-view-component="true" class="octicon octicon-x">
    <path d="M3.72 3.72a.75.75 0 0 1 1.06 0L8 6.94l3.22-3.22a.749.749 0 0 1 1.275.326.749.749 0 0 1-.215.734L9.06 8l3.22 3.22a.749.749 0 0 1-.326 1.275.749.749 0 0 1-.734-.215L8 9.06l-3.22 3.22a.751.751 0 0 1-1.042-.018.751.751 0 0 1-.018-1.042L6.94 8 3.72 4.78a.75.75 0 0 1 0-1.06Z"></path>
</svg>
    </button>
    <div aria-atomic="true" role="alert" class="js-flash-alert">
      
      <div>{{ message }}</div>

    </div>
  </div>
</div>
  </template>
</div>


    
    <notification-shelf-watcher data-base-url="https://github.com/notifications/beta/shelf" data-channel="eyJjIjoibm90aWZpY2F0aW9uLWNoYW5nZWQ6MTIyNDczOTMwIiwidCI6MTY5NjA4ODM2N30=--93d58d01a9d2ebe757a9139f2d74c6011e996212ab3ba3021982bd4a9078b3d6" data-view-component="true" class="js-socket-channel"></notification-shelf-watcher>
  <div hidden data-initial data-target="notification-shelf-watcher.placeholder"></div>






      <details
  class="details-reset details-overlay details-overlay-dark js-command-palette-dialog"
  id="command-palette-pjax-container"
  data-turbo-replace
>
  <summary aria-label="Command palette trigger" tabindex="-1"></summary>
  <details-dialog class="command-palette-details-dialog d-flex flex-column flex-justify-center height-fit" aria-label="Command palette">
    <command-palette
      class="command-palette color-bg-default rounded-3 border color-shadow-small"
      return-to=/itzmohanmadhav/datavisualization1/blob/master/test3.ipynb
      user-id="122473930"
      activation-hotkey="Mod+k,Mod+Alt+k"
      command-mode-hotkey="Mod+Shift+k"
      data-action="
        command-palette-input-ready:command-palette#inputReady
        command-palette-page-stack-updated:command-palette#updateInputScope
        itemsUpdated:command-palette#itemsUpdated
        keydown:command-palette#onKeydown
        loadingStateChanged:command-palette#loadingStateChanged
        selectedItemChanged:command-palette#selectedItemChanged
        pageFetchError:command-palette#pageFetchError
      ">

        <command-palette-mode
          data-char="#"
            data-scope-types="[&quot;&quot;]"
            data-placeholder="Search issues and pull requests"
        ></command-palette-mode>
        <command-palette-mode
          data-char="#"
            data-scope-types="[&quot;owner&quot;,&quot;repository&quot;]"
            data-placeholder="Search issues, pull requests, discussions, and projects"
        ></command-palette-mode>
        <command-palette-mode
          data-char="!"
            data-scope-types="[&quot;owner&quot;,&quot;repository&quot;]"
            data-placeholder="Search projects"
        ></command-palette-mode>
        <command-palette-mode
          data-char="@"
            data-scope-types="[&quot;&quot;]"
            data-placeholder="Search or jump to a user, organization, or repository"
        ></command-palette-mode>
        <command-palette-mode
          data-char="@"
            data-scope-types="[&quot;owner&quot;]"
            data-placeholder="Search or jump to a repository"
        ></command-palette-mode>
        <command-palette-mode
          data-char="/"
            data-scope-types="[&quot;repository&quot;]"
            data-placeholder="Search files"
        ></command-palette-mode>
        <command-palette-mode
          data-char="?"
        ></command-palette-mode>
        <command-palette-mode
          data-char="&gt;"
            data-placeholder="Run a command"
        ></command-palette-mode>
        <command-palette-mode
          data-char=""
            data-scope-types="[&quot;&quot;]"
            data-placeholder="Search or jump to..."
        ></command-palette-mode>
        <command-palette-mode
          data-char=""
            data-scope-types="[&quot;owner&quot;]"
            data-placeholder="Search or jump to..."
        ></command-palette-mode>
      <command-palette-mode
        class="js-command-palette-default-mode"
        data-char=""
        data-placeholder="Search or jump to..."
      ></command-palette-mode>

      <command-palette-input placeholder="Search or jump to..."

        data-action="
          command-palette-input:command-palette#onInput
          command-palette-select:command-palette#onSelect
          command-palette-descope:command-palette#onDescope
          command-palette-cleared:command-palette#onInputClear
        "
      >
        <div class="js-search-icon d-flex flex-items-center mr-2" style="height: 26px">
          <svg aria-hidden="true" height="16" viewBox="0 0 16 16" version="1.1" width="16" data-view-component="true" class="octicon octicon-search color-fg-muted">
    <path d="M10.68 11.74a6 6 0 0 1-7.922-8.982 6 6 0 0 1 8.982 7.922l3.04 3.04a.749.749 0 0 1-.326 1.275.749.749 0 0 1-.734-.215ZM11.5 7a4.499 4.499 0 1 0-8.997 0A4.499 4.499 0 0 0 11.5 7Z"></path>
</svg>
        </div>
        <div class="js-spinner d-flex flex-items-center mr-2 color-fg-muted" hidden>
          <svg aria-label="Loading" class="anim-rotate" viewBox="0 0 16 16" fill="none" width="16" height="16">
            <circle
              cx="8"
              cy="8"
              r="7"
              stroke="currentColor"
              stroke-opacity="0.25"
              stroke-width="2"
              vector-effect="non-scaling-stroke"
            ></circle>
            <path
              d="M15 8a7.002 7.002 0 00-7-7"
              stroke="currentColor"
              stroke-width="2"
              stroke-linecap="round"
              vector-effect="non-scaling-stroke"
            ></path>
          </svg>
        </div>
        <command-palette-scope >
          <div data-target="command-palette-scope.placeholder" hidden class="color-fg-subtle">/&nbsp;&nbsp;<span class="text-semibold color-fg-default">...</span>&nbsp;&nbsp;/&nbsp;&nbsp;</div>
              <command-palette-token
                data-text="itzmohanmadhav"
                data-id="U_kgDOCI1Ncw"
                data-type="owner"
                data-value="itzmohanmadhav"
                data-targets="command-palette-scope.tokens"
                class="color-fg-default text-semibold"
                style="white-space:nowrap;line-height:20px;"
                >itzmohanmadhav<span class="color-fg-subtle text-normal">&nbsp;&nbsp;/&nbsp;&nbsp;</span></command-palette-token>
              <command-palette-token
                data-text="datavisualization1"
                data-id="R_kgDOKMyW2w"
                data-type="repository"
                data-value="datavisualization1"
                data-targets="command-palette-scope.tokens"
                class="color-fg-default text-semibold"
                style="white-space:nowrap;line-height:20px;"
                >datavisualization1<span class="color-fg-subtle text-normal">&nbsp;&nbsp;/&nbsp;&nbsp;</span></command-palette-token>
        </command-palette-scope>
        <div class="command-palette-input-group flex-1 form-control border-0 box-shadow-none" style="z-index: 0">
          <div class="command-palette-typeahead position-absolute d-flex flex-items-center Truncate">
            <span class="typeahead-segment input-mirror" data-target="command-palette-input.mirror"></span>
            <span class="Truncate-text" data-target="command-palette-input.typeaheadText"></span>
            <span class="typeahead-segment" data-target="command-palette-input.typeaheadPlaceholder"></span>
          </div>
          <input
            class="js-overlay-input typeahead-input d-none"
            disabled
            tabindex="-1"
            aria-label="Hidden input for typeahead"
          >
          <input
            type="text"
            autocomplete="off"
            autocorrect="off"
            autocapitalize="off"
            spellcheck="false"
            class="js-input typeahead-input form-control border-0 box-shadow-none input-block width-full no-focus-indicator"
            aria-label="Command palette input"
            aria-haspopup="listbox"
            aria-expanded="false"
            aria-autocomplete="list"
            aria-controls="command-palette-page-stack"
            role="combobox"
            data-action="
              input:command-palette-input#onInput
              keydown:command-palette-input#onKeydown
            "
          >
        </div>
          <div data-view-component="true" class="position-relative d-inline-block">
    <button aria-keyshortcuts="Control+Backspace" data-action="click:command-palette-input#onClear keypress:command-palette-input#onClear" data-target="command-palette-input.clearButton" id="command-palette-clear-button" hidden="hidden" type="button" data-view-component="true" class="btn-octicon command-palette-input-clear-button">      <svg aria-hidden="true" height="16" viewBox="0 0 16 16" version="1.1" width="16" data-view-component="true" class="octicon octicon-x-circle-fill">
    <path d="M2.343 13.657A8 8 0 1 1 13.658 2.343 8 8 0 0 1 2.343 13.657ZM6.03 4.97a.751.751 0 0 0-1.042.018.751.751 0 0 0-.018 1.042L6.94 8 4.97 9.97a.749.749 0 0 0 .326 1.275.749.749 0 0 0 .734-.215L8 9.06l1.97 1.97a.749.749 0 0 0 1.275-.326.749.749 0 0 0-.215-.734L9.06 8l1.97-1.97a.749.749 0 0 0-.326-1.275.749.749 0 0 0-.734.215L8 6.94Z"></path>
</svg>
</button>    <tool-tip id="tooltip-5c46ee50-6c32-4b01-a52b-0f2d49108994" for="command-palette-clear-button" popover="manual" data-direction="w" data-type="label" data-view-component="true" class="sr-only position-absolute">Clear Command Palette</tool-tip>
</div>
      </command-palette-input>

      <command-palette-page-stack
        data-default-scope-id="R_kgDOKMyW2w"
        data-default-scope-type="Repository"
        data-action="command-palette-page-octicons-cached:command-palette-page-stack#cacheOcticons"
      >
          <command-palette-tip
            class="color-fg-muted f6 px-3 py-1 my-2"
              data-scope-types="[&quot;&quot;,&quot;owner&quot;,&quot;repository&quot;]"
            data-mode=""
            data-value="">
            <div class="d-flex flex-items-start flex-justify-between">
              <div>
                <span class="text-bold">Tip:</span>
                  Type <kbd class="hx_kbd">#</kbd> to search pull requests
              </div>
              <div class="ml-2 flex-shrink-0">
                Type <kbd class="hx_kbd">?</kbd> for help and tips
              </div>
            </div>
          </command-palette-tip>
          <command-palette-tip
            class="color-fg-muted f6 px-3 py-1 my-2"
              data-scope-types="[&quot;&quot;,&quot;owner&quot;,&quot;repository&quot;]"
            data-mode=""
            data-value="">
            <div class="d-flex flex-items-start flex-justify-between">
              <div>
                <span class="text-bold">Tip:</span>
                  Type <kbd class="hx_kbd">#</kbd> to search issues
              </div>
              <div class="ml-2 flex-shrink-0">
                Type <kbd class="hx_kbd">?</kbd> for help and tips
              </div>
            </div>
          </command-palette-tip>
          <command-palette-tip
            class="color-fg-muted f6 px-3 py-1 my-2"
              data-scope-types="[&quot;owner&quot;,&quot;repository&quot;]"
            data-mode=""
            data-value="">
            <div class="d-flex flex-items-start flex-justify-between">
              <div>
                <span class="text-bold">Tip:</span>
                  Type <kbd class="hx_kbd">#</kbd> to search discussions
              </div>
              <div class="ml-2 flex-shrink-0">
                Type <kbd class="hx_kbd">?</kbd> for help and tips
              </div>
            </div>
          </command-palette-tip>
          <command-palette-tip
            class="color-fg-muted f6 px-3 py-1 my-2"
              data-scope-types="[&quot;owner&quot;,&quot;repository&quot;]"
            data-mode=""
            data-value="">
            <div class="d-flex flex-items-start flex-justify-between">
              <div>
                <span class="text-bold">Tip:</span>
                  Type <kbd class="hx_kbd">!</kbd> to search projects
              </div>
              <div class="ml-2 flex-shrink-0">
                Type <kbd class="hx_kbd">?</kbd> for help and tips
              </div>
            </div>
          </command-palette-tip>
          <command-palette-tip
            class="color-fg-muted f6 px-3 py-1 my-2"
              data-scope-types="[&quot;owner&quot;]"
            data-mode=""
            data-value="">
            <div class="d-flex flex-items-start flex-justify-between">
              <div>
                <span class="text-bold">Tip:</span>
                  Type <kbd class="hx_kbd">@</kbd> to search teams
              </div>
              <div class="ml-2 flex-shrink-0">
                Type <kbd class="hx_kbd">?</kbd> for help and tips
              </div>
            </div>
          </command-palette-tip>
          <command-palette-tip
            class="color-fg-muted f6 px-3 py-1 my-2"
              data-scope-types="[&quot;&quot;]"
            data-mode=""
            data-value="">
            <div class="d-flex flex-items-start flex-justify-between">
              <div>
                <span class="text-bold">Tip:</span>
                  Type <kbd class="hx_kbd">@</kbd> to search people and organizations
              </div>
              <div class="ml-2 flex-shrink-0">
                Type <kbd class="hx_kbd">?</kbd> for help and tips
              </div>
            </div>
          </command-palette-tip>
          <command-palette-tip
            class="color-fg-muted f6 px-3 py-1 my-2"
              data-scope-types="[&quot;&quot;,&quot;owner&quot;,&quot;repository&quot;]"
            data-mode=""
            data-value="">
            <div class="d-flex flex-items-start flex-justify-between">
              <div>
                <span class="text-bold">Tip:</span>
                  Type <kbd class="hx_kbd">&gt;</kbd> to activate command mode
              </div>
              <div class="ml-2 flex-shrink-0">
                Type <kbd class="hx_kbd">?</kbd> for help and tips
              </div>
            </div>
          </command-palette-tip>
          <command-palette-tip
            class="color-fg-muted f6 px-3 py-1 my-2"
              data-scope-types="[&quot;&quot;,&quot;owner&quot;,&quot;repository&quot;]"
            data-mode=""
            data-value="">
            <div class="d-flex flex-items-start flex-justify-between">
              <div>
                <span class="text-bold">Tip:</span>
                  Go to your accessibility settings to change your keyboard shortcuts
              </div>
              <div class="ml-2 flex-shrink-0">
                Type <kbd class="hx_kbd">?</kbd> for help and tips
              </div>
            </div>
          </command-palette-tip>
          <command-palette-tip
            class="color-fg-muted f6 px-3 py-1 my-2"
              data-scope-types="[&quot;&quot;,&quot;owner&quot;,&quot;repository&quot;]"
            data-mode="#"
            data-value="">
            <div class="d-flex flex-items-start flex-justify-between">
              <div>
                <span class="text-bold">Tip:</span>
                  Type author:@me to search your content
              </div>
              <div class="ml-2 flex-shrink-0">
                Type <kbd class="hx_kbd">?</kbd> for help and tips
              </div>
            </div>
          </command-palette-tip>
          <command-palette-tip
            class="color-fg-muted f6 px-3 py-1 my-2"
              data-scope-types="[&quot;&quot;,&quot;owner&quot;,&quot;repository&quot;]"
            data-mode="#"
            data-value="">
            <div class="d-flex flex-items-start flex-justify-between">
              <div>
                <span class="text-bold">Tip:</span>
                  Type is:pr to filter to pull requests
              </div>
              <div class="ml-2 flex-shrink-0">
                Type <kbd class="hx_kbd">?</kbd> for help and tips
              </div>
            </div>
          </command-palette-tip>
          <command-palette-tip
            class="color-fg-muted f6 px-3 py-1 my-2"
              data-scope-types="[&quot;&quot;,&quot;owner&quot;,&quot;repository&quot;]"
            data-mode="#"
            data-value="">
            <div class="d-flex flex-items-start flex-justify-between">
              <div>
                <span class="text-bold">Tip:</span>
                  Type is:issue to filter to issues
              </div>
              <div class="ml-2 flex-shrink-0">
                Type <kbd class="hx_kbd">?</kbd> for help and tips
              </div>
            </div>
          </command-palette-tip>
          <command-palette-tip
            class="color-fg-muted f6 px-3 py-1 my-2"
              data-scope-types="[&quot;owner&quot;,&quot;repository&quot;]"
            data-mode="#"
            data-value="">
            <div class="d-flex flex-items-start flex-justify-between">
              <div>
                <span class="text-bold">Tip:</span>
                  Type is:project to filter to projects
              </div>
              <div class="ml-2 flex-shrink-0">
                Type <kbd class="hx_kbd">?</kbd> for help and tips
              </div>
            </div>
          </command-palette-tip>
          <command-palette-tip
            class="color-fg-muted f6 px-3 py-1 my-2"
              data-scope-types="[&quot;&quot;,&quot;owner&quot;,&quot;repository&quot;]"
            data-mode="#"
            data-value="">
            <div class="d-flex flex-items-start flex-justify-between">
              <div>
                <span class="text-bold">Tip:</span>
                  Type is:open to filter to open content
              </div>
              <div class="ml-2 flex-shrink-0">
                Type <kbd class="hx_kbd">?</kbd> for help and tips
              </div>
            </div>
          </command-palette-tip>
        <command-palette-tip class="mx-3 my-2 flash flash-error d-flex flex-items-center" data-scope-types="*" data-on-error>
          <div>
            <svg aria-hidden="true" height="16" viewBox="0 0 16 16" version="1.1" width="16" data-view-component="true" class="octicon octicon-alert">
    <path d="M6.457 1.047c.659-1.234 2.427-1.234 3.086 0l6.082 11.378A1.75 1.75 0 0 1 14.082 15H1.918a1.75 1.75 0 0 1-1.543-2.575Zm1.763.707a.25.25 0 0 0-.44 0L1.698 13.132a.25.25 0 0 0 .22.368h12.164a.25.25 0 0 0 .22-.368Zm.53 3.996v2.5a.75.75 0 0 1-1.5 0v-2.5a.75.75 0 0 1 1.5 0ZM9 11a1 1 0 1 1-2 0 1 1 0 0 1 2 0Z"></path>
</svg>
          </div>
          <div class="px-2">
            We’ve encountered an error and some results aren't available at this time. Type a new search or try again later.
          </div>
        </command-palette-tip>
        <command-palette-tip class="h4 color-fg-default pl-3 pb-2 pt-3" data-on-empty data-scope-types="*" data-match-mode="[^?]|^$">
          No results matched your search
        </command-palette-tip>

        <div hidden>

            <div data-targets="command-palette-page-stack.localOcticons" data-octicon-id="arrow-right-color-fg-muted">
              <svg height="16" class="octicon octicon-arrow-right color-fg-muted" viewBox="0 0 16 16" version="1.1" width="16" aria-hidden="true"><path d="M8.22 2.97a.75.75 0 0 1 1.06 0l4.25 4.25a.75.75 0 0 1 0 1.06l-4.25 4.25a.751.751 0 0 1-1.042-.018.751.751 0 0 1-.018-1.042l2.97-2.97H3.75a.75.75 0 0 1 0-1.5h7.44L8.22 4.03a.75.75 0 0 1 0-1.06Z"></path></svg>
            </div>
            <div data-targets="command-palette-page-stack.localOcticons" data-octicon-id="arrow-right-color-fg-default">
              <svg height="16" class="octicon octicon-arrow-right color-fg-default" viewBox="0 0 16 16" version="1.1" width="16" aria-hidden="true"><path d="M8.22 2.97a.75.75 0 0 1 1.06 0l4.25 4.25a.75.75 0 0 1 0 1.06l-4.25 4.25a.751.751 0 0 1-1.042-.018.751.751 0 0 1-.018-1.042l2.97-2.97H3.75a.75.75 0 0 1 0-1.5h7.44L8.22 4.03a.75.75 0 0 1 0-1.06Z"></path></svg>
            </div>
            <div data-targets="command-palette-page-stack.localOcticons" data-octicon-id="codespaces-color-fg-muted">
              <svg height="16" class="octicon octicon-codespaces color-fg-muted" viewBox="0 0 16 16" version="1.1" width="16" aria-hidden="true"><path d="M0 11.25c0-.966.784-1.75 1.75-1.75h12.5c.966 0 1.75.784 1.75 1.75v3A1.75 1.75 0 0 1 14.25 16H1.75A1.75 1.75 0 0 1 0 14.25Zm2-9.5C2 .784 2.784 0 3.75 0h8.5C13.216 0 14 .784 14 1.75v5a1.75 1.75 0 0 1-1.75 1.75h-8.5A1.75 1.75 0 0 1 2 6.75Zm1.75-.25a.25.25 0 0 0-.25.25v5c0 .138.112.25.25.25h8.5a.25.25 0 0 0 .25-.25v-5a.25.25 0 0 0-.25-.25Zm-2 9.5a.25.25 0 0 0-.25.25v3c0 .138.112.25.25.25h12.5a.25.25 0 0 0 .25-.25v-3a.25.25 0 0 0-.25-.25Z"></path><path d="M7 12.75a.75.75 0 0 1 .75-.75h4.5a.75.75 0 0 1 0 1.5h-4.5a.75.75 0 0 1-.75-.75Zm-4 0a.75.75 0 0 1 .75-.75h.5a.75.75 0 0 1 0 1.5h-.5a.75.75 0 0 1-.75-.75Z"></path></svg>
            </div>
            <div data-targets="command-palette-page-stack.localOcticons" data-octicon-id="copy-color-fg-muted">
              <svg height="16" class="octicon octicon-copy color-fg-muted" viewBox="0 0 16 16" version="1.1" width="16" aria-hidden="true"><path d="M0 6.75C0 5.784.784 5 1.75 5h1.5a.75.75 0 0 1 0 1.5h-1.5a.25.25 0 0 0-.25.25v7.5c0 .138.112.25.25.25h7.5a.25.25 0 0 0 .25-.25v-1.5a.75.75 0 0 1 1.5 0v1.5A1.75 1.75 0 0 1 9.25 16h-7.5A1.75 1.75 0 0 1 0 14.25Z"></path><path d="M5 1.75C5 .784 5.784 0 6.75 0h7.5C15.216 0 16 .784 16 1.75v7.5A1.75 1.75 0 0 1 14.25 11h-7.5A1.75 1.75 0 0 1 5 9.25Zm1.75-.25a.25.25 0 0 0-.25.25v7.5c0 .138.112.25.25.25h7.5a.25.25 0 0 0 .25-.25v-7.5a.25.25 0 0 0-.25-.25Z"></path></svg>
            </div>
            <div data-targets="command-palette-page-stack.localOcticons" data-octicon-id="dash-color-fg-muted">
              <svg height="16" class="octicon octicon-dash color-fg-muted" viewBox="0 0 16 16" version="1.1" width="16" aria-hidden="true"><path d="M2 7.75A.75.75 0 0 1 2.75 7h10a.75.75 0 0 1 0 1.5h-10A.75.75 0 0 1 2 7.75Z"></path></svg>
            </div>
            <div data-targets="command-palette-page-stack.localOcticons" data-octicon-id="file-color-fg-muted">
              <svg height="16" class="octicon octicon-file color-fg-muted" viewBox="0 0 16 16" version="1.1" width="16" aria-hidden="true"><path d="M2 1.75C2 .784 2.784 0 3.75 0h6.586c.464 0 .909.184 1.237.513l2.914 2.914c.329.328.513.773.513 1.237v9.586A1.75 1.75 0 0 1 13.25 16h-9.5A1.75 1.75 0 0 1 2 14.25Zm1.75-.25a.25.25 0 0 0-.25.25v12.5c0 .138.112.25.25.25h9.5a.25.25 0 0 0 .25-.25V6h-2.75A1.75 1.75 0 0 1 9 4.25V1.5Zm6.75.062V4.25c0 .138.112.25.25.25h2.688l-.011-.013-2.914-2.914-.013-.011Z"></path></svg>
            </div>
            <div data-targets="command-palette-page-stack.localOcticons" data-octicon-id="gear-color-fg-muted">
              <svg height="16" class="octicon octicon-gear color-fg-muted" viewBox="0 0 16 16" version="1.1" width="16" aria-hidden="true"><path d="M8 0a8.2 8.2 0 0 1 .701.031C9.444.095 9.99.645 10.16 1.29l.288 1.107c.018.066.079.158.212.224.231.114.454.243.668.386.123.082.233.09.299.071l1.103-.303c.644-.176 1.392.021 1.82.63.27.385.506.792.704 1.218.315.675.111 1.422-.364 1.891l-.814.806c-.049.048-.098.147-.088.294.016.257.016.515 0 .772-.01.147.038.246.088.294l.814.806c.475.469.679 1.216.364 1.891a7.977 7.977 0 0 1-.704 1.217c-.428.61-1.176.807-1.82.63l-1.102-.302c-.067-.019-.177-.011-.3.071a5.909 5.909 0 0 1-.668.386c-.133.066-.194.158-.211.224l-.29 1.106c-.168.646-.715 1.196-1.458 1.26a8.006 8.006 0 0 1-1.402 0c-.743-.064-1.289-.614-1.458-1.26l-.289-1.106c-.018-.066-.079-.158-.212-.224a5.738 5.738 0 0 1-.668-.386c-.123-.082-.233-.09-.299-.071l-1.103.303c-.644.176-1.392-.021-1.82-.63a8.12 8.12 0 0 1-.704-1.218c-.315-.675-.111-1.422.363-1.891l.815-.806c.05-.048.098-.147.088-.294a6.214 6.214 0 0 1 0-.772c.01-.147-.038-.246-.088-.294l-.815-.806C.635 6.045.431 5.298.746 4.623a7.92 7.92 0 0 1 .704-1.217c.428-.61 1.176-.807 1.82-.63l1.102.302c.067.019.177.011.3-.071.214-.143.437-.272.668-.386.133-.066.194-.158.211-.224l.29-1.106C6.009.645 6.556.095 7.299.03 7.53.01 7.764 0 8 0Zm-.571 1.525c-.036.003-.108.036-.137.146l-.289 1.105c-.147.561-.549.967-.998 1.189-.173.086-.34.183-.5.29-.417.278-.97.423-1.529.27l-1.103-.303c-.109-.03-.175.016-.195.045-.22.312-.412.644-.573.99-.014.031-.021.11.059.19l.815.806c.411.406.562.957.53 1.456a4.709 4.709 0 0 0 0 .582c.032.499-.119 1.05-.53 1.456l-.815.806c-.081.08-.073.159-.059.19.162.346.353.677.573.989.02.03.085.076.195.046l1.102-.303c.56-.153 1.113-.008 1.53.27.161.107.328.204.501.29.447.222.85.629.997 1.189l.289 1.105c.029.109.101.143.137.146a6.6 6.6 0 0 0 1.142 0c.036-.003.108-.036.137-.146l.289-1.105c.147-.561.549-.967.998-1.189.173-.086.34-.183.5-.29.417-.278.97-.423 1.529-.27l1.103.303c.109.029.175-.016.195-.045.22-.313.411-.644.573-.99.014-.031.021-.11-.059-.19l-.815-.806c-.411-.406-.562-.957-.53-1.456a4.709 4.709 0 0 0 0-.582c-.032-.499.119-1.05.53-1.456l.815-.806c.081-.08.073-.159.059-.19a6.464 6.464 0 0 0-.573-.989c-.02-.03-.085-.076-.195-.046l-1.102.303c-.56.153-1.113.008-1.53-.27a4.44 4.44 0 0 0-.501-.29c-.447-.222-.85-.629-.997-1.189l-.289-1.105c-.029-.11-.101-.143-.137-.146a6.6 6.6 0 0 0-1.142 0ZM11 8a3 3 0 1 1-6 0 3 3 0 0 1 6 0ZM9.5 8a1.5 1.5 0 1 0-3.001.001A1.5 1.5 0 0 0 9.5 8Z"></path></svg>
            </div>
            <div data-targets="command-palette-page-stack.localOcticons" data-octicon-id="lock-color-fg-muted">
              <svg height="16" class="octicon octicon-lock color-fg-muted" viewBox="0 0 16 16" version="1.1" width="16" aria-hidden="true"><path d="M4 4a4 4 0 0 1 8 0v2h.25c.966 0 1.75.784 1.75 1.75v5.5A1.75 1.75 0 0 1 12.25 15h-8.5A1.75 1.75 0 0 1 2 13.25v-5.5C2 6.784 2.784 6 3.75 6H4Zm8.25 3.5h-8.5a.25.25 0 0 0-.25.25v5.5c0 .138.112.25.25.25h8.5a.25.25 0 0 0 .25-.25v-5.5a.25.25 0 0 0-.25-.25ZM10.5 6V4a2.5 2.5 0 1 0-5 0v2Z"></path></svg>
            </div>
            <div data-targets="command-palette-page-stack.localOcticons" data-octicon-id="moon-color-fg-muted">
              <svg height="16" class="octicon octicon-moon color-fg-muted" viewBox="0 0 16 16" version="1.1" width="16" aria-hidden="true"><path d="M9.598 1.591a.749.749 0 0 1 .785-.175 7.001 7.001 0 1 1-8.967 8.967.75.75 0 0 1 .961-.96 5.5 5.5 0 0 0 7.046-7.046.75.75 0 0 1 .175-.786Zm1.616 1.945a7 7 0 0 1-7.678 7.678 5.499 5.499 0 1 0 7.678-7.678Z"></path></svg>
            </div>
            <div data-targets="command-palette-page-stack.localOcticons" data-octicon-id="person-color-fg-muted">
              <svg height="16" class="octicon octicon-person color-fg-muted" viewBox="0 0 16 16" version="1.1" width="16" aria-hidden="true"><path d="M10.561 8.073a6.005 6.005 0 0 1 3.432 5.142.75.75 0 1 1-1.498.07 4.5 4.5 0 0 0-8.99 0 .75.75 0 0 1-1.498-.07 6.004 6.004 0 0 1 3.431-5.142 3.999 3.999 0 1 1 5.123 0ZM10.5 5a2.5 2.5 0 1 0-5 0 2.5 2.5 0 0 0 5 0Z"></path></svg>
            </div>
            <div data-targets="command-palette-page-stack.localOcticons" data-octicon-id="pencil-color-fg-muted">
              <svg height="16" class="octicon octicon-pencil color-fg-muted" viewBox="0 0 16 16" version="1.1" width="16" aria-hidden="true"><path d="M11.013 1.427a1.75 1.75 0 0 1 2.474 0l1.086 1.086a1.75 1.75 0 0 1 0 2.474l-8.61 8.61c-.21.21-.47.364-.756.445l-3.251.93a.75.75 0 0 1-.927-.928l.929-3.25c.081-.286.235-.547.445-.758l8.61-8.61Zm.176 4.823L9.75 4.81l-6.286 6.287a.253.253 0 0 0-.064.108l-.558 1.953 1.953-.558a.253.253 0 0 0 .108-.064Zm1.238-3.763a.25.25 0 0 0-.354 0L10.811 3.75l1.439 1.44 1.263-1.263a.25.25 0 0 0 0-.354Z"></path></svg>
            </div>
            <div data-targets="command-palette-page-stack.localOcticons" data-octicon-id="issue-opened-open">
              <svg height="16" class="octicon octicon-issue-opened open" viewBox="0 0 16 16" version="1.1" width="16" aria-hidden="true"><path d="M8 9.5a1.5 1.5 0 1 0 0-3 1.5 1.5 0 0 0 0 3Z"></path><path d="M8 0a8 8 0 1 1 0 16A8 8 0 0 1 8 0ZM1.5 8a6.5 6.5 0 1 0 13 0 6.5 6.5 0 0 0-13 0Z"></path></svg>
            </div>
            <div data-targets="command-palette-page-stack.localOcticons" data-octicon-id="git-pull-request-draft-color-fg-muted">
              <svg height="16" class="octicon octicon-git-pull-request-draft color-fg-muted" viewBox="0 0 16 16" version="1.1" width="16" aria-hidden="true"><path d="M3.25 1A2.25 2.25 0 0 1 4 5.372v5.256a2.251 2.251 0 1 1-1.5 0V5.372A2.251 2.251 0 0 1 3.25 1Zm9.5 14a2.25 2.25 0 1 1 0-4.5 2.25 2.25 0 0 1 0 4.5ZM2.5 3.25a.75.75 0 1 0 1.5 0 .75.75 0 0 0-1.5 0ZM3.25 12a.75.75 0 1 0 0 1.5.75.75 0 0 0 0-1.5Zm9.5 0a.75.75 0 1 0 0 1.5.75.75 0 0 0 0-1.5ZM14 7.5a1.25 1.25 0 1 1-2.5 0 1.25 1.25 0 0 1 2.5 0Zm0-4.25a1.25 1.25 0 1 1-2.5 0 1.25 1.25 0 0 1 2.5 0Z"></path></svg>
            </div>
            <div data-targets="command-palette-page-stack.localOcticons" data-octicon-id="search-color-fg-muted">
              <svg height="16" class="octicon octicon-search color-fg-muted" viewBox="0 0 16 16" version="1.1" width="16" aria-hidden="true"><path d="M10.68 11.74a6 6 0 0 1-7.922-8.982 6 6 0 0 1 8.982 7.922l3.04 3.04a.749.749 0 0 1-.326 1.275.749.749 0 0 1-.734-.215ZM11.5 7a4.499 4.499 0 1 0-8.997 0A4.499 4.499 0 0 0 11.5 7Z"></path></svg>
            </div>
            <div data-targets="command-palette-page-stack.localOcticons" data-octicon-id="sun-color-fg-muted">
              <svg height="16" class="octicon octicon-sun color-fg-muted" viewBox="0 0 16 16" version="1.1" width="16" aria-hidden="true"><path d="M8 12a4 4 0 1 1 0-8 4 4 0 0 1 0 8Zm0-1.5a2.5 2.5 0 1 0 0-5 2.5 2.5 0 0 0 0 5Zm5.657-8.157a.75.75 0 0 1 0 1.061l-1.061 1.06a.749.749 0 0 1-1.275-.326.749.749 0 0 1 .215-.734l1.06-1.06a.75.75 0 0 1 1.06 0Zm-9.193 9.193a.75.75 0 0 1 0 1.06l-1.06 1.061a.75.75 0 1 1-1.061-1.06l1.06-1.061a.75.75 0 0 1 1.061 0ZM8 0a.75.75 0 0 1 .75.75v1.5a.75.75 0 0 1-1.5 0V.75A.75.75 0 0 1 8 0ZM3 8a.75.75 0 0 1-.75.75H.75a.75.75 0 0 1 0-1.5h1.5A.75.75 0 0 1 3 8Zm13 0a.75.75 0 0 1-.75.75h-1.5a.75.75 0 0 1 0-1.5h1.5A.75.75 0 0 1 16 8Zm-8 5a.75.75 0 0 1 .75.75v1.5a.75.75 0 0 1-1.5 0v-1.5A.75.75 0 0 1 8 13Zm3.536-1.464a.75.75 0 0 1 1.06 0l1.061 1.06a.75.75 0 0 1-1.06 1.061l-1.061-1.06a.75.75 0 0 1 0-1.061ZM2.343 2.343a.75.75 0 0 1 1.061 0l1.06 1.061a.751.751 0 0 1-.018 1.042.751.751 0 0 1-1.042.018l-1.06-1.06a.75.75 0 0 1 0-1.06Z"></path></svg>
            </div>
            <div data-targets="command-palette-page-stack.localOcticons" data-octicon-id="sync-color-fg-muted">
              <svg height="16" class="octicon octicon-sync color-fg-muted" viewBox="0 0 16 16" version="1.1" width="16" aria-hidden="true"><path d="M1.705 8.005a.75.75 0 0 1 .834.656 5.5 5.5 0 0 0 9.592 2.97l-1.204-1.204a.25.25 0 0 1 .177-.427h3.646a.25.25 0 0 1 .25.25v3.646a.25.25 0 0 1-.427.177l-1.38-1.38A7.002 7.002 0 0 1 1.05 8.84a.75.75 0 0 1 .656-.834ZM8 2.5a5.487 5.487 0 0 0-4.131 1.869l1.204 1.204A.25.25 0 0 1 4.896 6H1.25A.25.25 0 0 1 1 5.75V2.104a.25.25 0 0 1 .427-.177l1.38 1.38A7.002 7.002 0 0 1 14.95 7.16a.75.75 0 0 1-1.49.178A5.5 5.5 0 0 0 8 2.5Z"></path></svg>
            </div>
            <div data-targets="command-palette-page-stack.localOcticons" data-octicon-id="trash-color-fg-muted">
              <svg height="16" class="octicon octicon-trash color-fg-muted" viewBox="0 0 16 16" version="1.1" width="16" aria-hidden="true"><path d="M11 1.75V3h2.25a.75.75 0 0 1 0 1.5H2.75a.75.75 0 0 1 0-1.5H5V1.75C5 .784 5.784 0 6.75 0h2.5C10.216 0 11 .784 11 1.75ZM4.496 6.675l.66 6.6a.25.25 0 0 0 .249.225h5.19a.25.25 0 0 0 .249-.225l.66-6.6a.75.75 0 0 1 1.492.149l-.66 6.6A1.748 1.748 0 0 1 10.595 15h-5.19a1.75 1.75 0 0 1-1.741-1.575l-.66-6.6a.75.75 0 1 1 1.492-.15ZM6.5 1.75V3h3V1.75a.25.25 0 0 0-.25-.25h-2.5a.25.25 0 0 0-.25.25Z"></path></svg>
            </div>
            <div data-targets="command-palette-page-stack.localOcticons" data-octicon-id="key-color-fg-muted">
              <svg height="16" class="octicon octicon-key color-fg-muted" viewBox="0 0 16 16" version="1.1" width="16" aria-hidden="true"><path d="M10.5 0a5.499 5.499 0 1 1-1.288 10.848l-.932.932a.749.749 0 0 1-.53.22H7v.75a.749.749 0 0 1-.22.53l-.5.5a.749.749 0 0 1-.53.22H5v.75a.749.749 0 0 1-.22.53l-.5.5a.749.749 0 0 1-.53.22h-2A1.75 1.75 0 0 1 0 14.25v-2c0-.199.079-.389.22-.53l4.932-4.932A5.5 5.5 0 0 1 10.5 0Zm-4 5.5c-.001.431.069.86.205 1.269a.75.75 0 0 1-.181.768L1.5 12.56v1.69c0 .138.112.25.25.25h1.69l.06-.06v-1.19a.75.75 0 0 1 .75-.75h1.19l.06-.06v-1.19a.75.75 0 0 1 .75-.75h1.19l1.023-1.025a.75.75 0 0 1 .768-.18A4 4 0 1 0 6.5 5.5ZM11 6a1 1 0 1 1 0-2 1 1 0 0 1 0 2Z"></path></svg>
            </div>
            <div data-targets="command-palette-page-stack.localOcticons" data-octicon-id="comment-discussion-color-fg-muted">
              <svg height="16" class="octicon octicon-comment-discussion color-fg-muted" viewBox="0 0 16 16" version="1.1" width="16" aria-hidden="true"><path d="M1.75 1h8.5c.966 0 1.75.784 1.75 1.75v5.5A1.75 1.75 0 0 1 10.25 10H7.061l-2.574 2.573A1.458 1.458 0 0 1 2 11.543V10h-.25A1.75 1.75 0 0 1 0 8.25v-5.5C0 1.784.784 1 1.75 1ZM1.5 2.75v5.5c0 .138.112.25.25.25h1a.75.75 0 0 1 .75.75v2.19l2.72-2.72a.749.749 0 0 1 .53-.22h3.5a.25.25 0 0 0 .25-.25v-5.5a.25.25 0 0 0-.25-.25h-8.5a.25.25 0 0 0-.25.25Zm13 2a.25.25 0 0 0-.25-.25h-.5a.75.75 0 0 1 0-1.5h.5c.966 0 1.75.784 1.75 1.75v5.5A1.75 1.75 0 0 1 14.25 12H14v1.543a1.458 1.458 0 0 1-2.487 1.03L9.22 12.28a.749.749 0 0 1 .326-1.275.749.749 0 0 1 .734.215l2.22 2.22v-2.19a.75.75 0 0 1 .75-.75h1a.25.25 0 0 0 .25-.25Z"></path></svg>
            </div>
            <div data-targets="command-palette-page-stack.localOcticons" data-octicon-id="bell-color-fg-muted">
              <svg height="16" class="octicon octicon-bell color-fg-muted" viewBox="0 0 16 16" version="1.1" width="16" aria-hidden="true"><path d="M8 16a2 2 0 0 0 1.985-1.75c.017-.137-.097-.25-.235-.25h-3.5c-.138 0-.252.113-.235.25A2 2 0 0 0 8 16ZM3 5a5 5 0 0 1 10 0v2.947c0 .05.015.098.042.139l1.703 2.555A1.519 1.519 0 0 1 13.482 13H2.518a1.516 1.516 0 0 1-1.263-2.36l1.703-2.554A.255.255 0 0 0 3 7.947Zm5-3.5A3.5 3.5 0 0 0 4.5 5v2.947c0 .346-.102.683-.294.97l-1.703 2.556a.017.017 0 0 0-.003.01l.001.006c0 .002.002.004.004.006l.006.004.007.001h10.964l.007-.001.006-.004.004-.006.001-.007a.017.017 0 0 0-.003-.01l-1.703-2.554a1.745 1.745 0 0 1-.294-.97V5A3.5 3.5 0 0 0 8 1.5Z"></path></svg>
            </div>
            <div data-targets="command-palette-page-stack.localOcticons" data-octicon-id="bell-slash-color-fg-muted">
              <svg height="16" class="octicon octicon-bell-slash color-fg-muted" viewBox="0 0 16 16" version="1.1" width="16" aria-hidden="true"><path d="m4.182 4.31.016.011 10.104 7.316.013.01 1.375.996a.75.75 0 1 1-.88 1.214L13.626 13H2.518a1.516 1.516 0 0 1-1.263-2.36l1.703-2.554A.255.255 0 0 0 3 7.947V5.305L.31 3.357a.75.75 0 1 1 .88-1.214Zm7.373 7.19L4.5 6.391v1.556c0 .346-.102.683-.294.97l-1.703 2.556a.017.017 0 0 0-.003.01c0 .005.002.009.005.012l.006.004.007.001ZM8 1.5c-.997 0-1.895.416-2.534 1.086A.75.75 0 1 1 4.38 1.55 5 5 0 0 1 13 5v2.373a.75.75 0 0 1-1.5 0V5A3.5 3.5 0 0 0 8 1.5ZM8 16a2 2 0 0 1-1.985-1.75c-.017-.137.097-.25.235-.25h3.5c.138 0 .252.113.235.25A2 2 0 0 1 8 16Z"></path></svg>
            </div>
            <div data-targets="command-palette-page-stack.localOcticons" data-octicon-id="paintbrush-color-fg-muted">
              <svg height="16" class="octicon octicon-paintbrush color-fg-muted" viewBox="0 0 16 16" version="1.1" width="16" aria-hidden="true"><path d="M11.134 1.535c.7-.509 1.416-.942 2.076-1.155.649-.21 1.463-.267 2.069.34.603.601.568 1.411.368 2.07-.202.668-.624 1.39-1.125 2.096-1.011 1.424-2.496 2.987-3.775 4.249-1.098 1.084-2.132 1.839-3.04 2.3a3.744 3.744 0 0 1-1.055 3.217c-.431.431-1.065.691-1.657.861-.614.177-1.294.287-1.914.357A21.151 21.151 0 0 1 .797 16H.743l.007-.75H.749L.742 16a.75.75 0 0 1-.743-.742l.743-.008-.742.007v-.054a21.25 21.25 0 0 1 .13-2.284c.067-.647.187-1.287.358-1.914.17-.591.43-1.226.86-1.657a3.746 3.746 0 0 1 3.227-1.054c.466-.893 1.225-1.907 2.314-2.982 1.271-1.255 2.833-2.75 4.245-3.777ZM1.62 13.089c-.051.464-.086.929-.104 1.395.466-.018.932-.053 1.396-.104a10.511 10.511 0 0 0 1.668-.309c.526-.151.856-.325 1.011-.48a2.25 2.25 0 1 0-3.182-3.182c-.155.155-.329.485-.48 1.01a10.515 10.515 0 0 0-.309 1.67Zm10.396-10.34c-1.224.89-2.605 2.189-3.822 3.384l1.718 1.718c1.21-1.205 2.51-2.597 3.387-3.833.47-.662.78-1.227.912-1.662.134-.444.032-.551.009-.575h-.001V1.78c-.014-.014-.113-.113-.548.027-.432.14-.995.462-1.655.942Zm-4.832 7.266-.001.001a9.859 9.859 0 0 0 1.63-1.142L7.155 7.216a9.7 9.7 0 0 0-1.161 1.607c.482.302.889.71 1.19 1.192Z"></path></svg>
            </div>

            <command-palette-item-group
              data-group-id="top"
              data-group-title="Top result"
              data-group-hint=""
              data-group-limits="{}"
              data-default-priority="0"
            >
            </command-palette-item-group>
            <command-palette-item-group
              data-group-id="commands"
              data-group-title="Commands"
              data-group-hint="Type &gt; to filter"
              data-group-limits="{&quot;static_items_page&quot;:50,&quot;issue&quot;:50,&quot;pull_request&quot;:50,&quot;discussion&quot;:50}"
              data-default-priority="1"
            >
            </command-palette-item-group>
            <command-palette-item-group
              data-group-id="global_commands"
              data-group-title="Global Commands"
              data-group-hint="Type &gt; to filter"
              data-group-limits="{&quot;issue&quot;:0,&quot;pull_request&quot;:0,&quot;discussion&quot;:0}"
              data-default-priority="2"
            >
            </command-palette-item-group>
            <command-palette-item-group
              data-group-id="this_page"
              data-group-title="This Page"
              data-group-hint=""
              data-group-limits="{}"
              data-default-priority="3"
            >
            </command-palette-item-group>
            <command-palette-item-group
              data-group-id="files"
              data-group-title="Files"
              data-group-hint=""
              data-group-limits="{}"
              data-default-priority="4"
            >
            </command-palette-item-group>
            <command-palette-item-group
              data-group-id="default"
              data-group-title="Default"
              data-group-hint=""
              data-group-limits="{&quot;static_items_page&quot;:50}"
              data-default-priority="5"
            >
            </command-palette-item-group>
            <command-palette-item-group
              data-group-id="pages"
              data-group-title="Pages"
              data-group-hint=""
              data-group-limits="{&quot;repository&quot;:10}"
              data-default-priority="6"
            >
            </command-palette-item-group>
            <command-palette-item-group
              data-group-id="access_policies"
              data-group-title="Access Policies"
              data-group-hint=""
              data-group-limits="{}"
              data-default-priority="7"
            >
            </command-palette-item-group>
            <command-palette-item-group
              data-group-id="organizations"
              data-group-title="Organizations"
              data-group-hint=""
              data-group-limits="{}"
              data-default-priority="8"
            >
            </command-palette-item-group>
            <command-palette-item-group
              data-group-id="repositories"
              data-group-title="Repositories"
              data-group-hint=""
              data-group-limits="{}"
              data-default-priority="9"
            >
            </command-palette-item-group>
            <command-palette-item-group
              data-group-id="references"
              data-group-title="Issues, pull requests, and discussions"
              data-group-hint="Type # to filter"
              data-group-limits="{}"
              data-default-priority="10"
            >
            </command-palette-item-group>
            <command-palette-item-group
              data-group-id="teams"
              data-group-title="Teams"
              data-group-hint=""
              data-group-limits="{}"
              data-default-priority="11"
            >
            </command-palette-item-group>
            <command-palette-item-group
              data-group-id="users"
              data-group-title="Users"
              data-group-hint=""
              data-group-limits="{}"
              data-default-priority="12"
            >
            </command-palette-item-group>
            <command-palette-item-group
              data-group-id="memex_projects"
              data-group-title="Projects"
              data-group-hint=""
              data-group-limits="{}"
              data-default-priority="13"
            >
            </command-palette-item-group>
            <command-palette-item-group
              data-group-id="projects"
              data-group-title="Projects (classic)"
              data-group-hint=""
              data-group-limits="{}"
              data-default-priority="14"
            >
            </command-palette-item-group>
            <command-palette-item-group
              data-group-id="footer"
              data-group-title="Footer"
              data-group-hint=""
              data-group-limits="{}"
              data-default-priority="15"
            >
            </command-palette-item-group>
            <command-palette-item-group
              data-group-id="modes_help"
              data-group-title="Modes"
              data-group-hint=""
              data-group-limits="{}"
              data-default-priority="16"
            >
            </command-palette-item-group>
            <command-palette-item-group
              data-group-id="filters_help"
              data-group-title="Use filters in issues, pull requests, discussions, and projects"
              data-group-hint=""
              data-group-limits="{}"
              data-default-priority="17"
            >
            </command-palette-item-group>

            <command-palette-page
              data-page-title="itzmohanmadhav"
              data-scope-id="U_kgDOCI1Ncw"
              data-scope-type="owner"
              data-targets="command-palette-page-stack.defaultPages"
              hidden
            >
            </command-palette-page>
            <command-palette-page
              data-page-title="datavisualization1"
              data-scope-id="R_kgDOKMyW2w"
              data-scope-type="repository"
              data-targets="command-palette-page-stack.defaultPages"
              hidden
            >
            </command-palette-page>
        </div>

        <command-palette-page data-is-root>
        </command-palette-page>
          <command-palette-page
            data-page-title="itzmohanmadhav"
            data-scope-id="U_kgDOCI1Ncw"
            data-scope-type="owner"
          >
          </command-palette-page>
          <command-palette-page
            data-page-title="datavisualization1"
            data-scope-id="R_kgDOKMyW2w"
            data-scope-type="repository"
          >
          </command-palette-page>
      </command-palette-page-stack>

      <server-defined-provider data-type="search-links" data-targets="command-palette.serverDefinedProviderElements"></server-defined-provider>
      <server-defined-provider data-type="help" data-targets="command-palette.serverDefinedProviderElements">
          <command-palette-help
            data-group="modes_help"
              data-prefix="#"
              data-scope-types="[&quot;&quot;]"
          >
            <span data-target="command-palette-help.titleElement">Search for <strong>issues</strong> and <strong>pull requests</strong></span>
              <span data-target="command-palette-help.hintElement">
                <kbd class="hx_kbd">#</kbd>
              </span>
          </command-palette-help>
          <command-palette-help
            data-group="modes_help"
              data-prefix="#"
              data-scope-types="[&quot;owner&quot;,&quot;repository&quot;]"
          >
            <span data-target="command-palette-help.titleElement">Search for <strong>issues, pull requests, discussions,</strong> and <strong>projects</strong></span>
              <span data-target="command-palette-help.hintElement">
                <kbd class="hx_kbd">#</kbd>
              </span>
          </command-palette-help>
          <command-palette-help
            data-group="modes_help"
              data-prefix="@"
              data-scope-types="[&quot;&quot;]"
          >
            <span data-target="command-palette-help.titleElement">Search for <strong>organizations, repositories,</strong> and <strong>users</strong></span>
              <span data-target="command-palette-help.hintElement">
                <kbd class="hx_kbd">@</kbd>
              </span>
          </command-palette-help>
          <command-palette-help
            data-group="modes_help"
              data-prefix="!"
              data-scope-types="[&quot;owner&quot;,&quot;repository&quot;]"
          >
            <span data-target="command-palette-help.titleElement">Search for <strong>projects</strong></span>
              <span data-target="command-palette-help.hintElement">
                <kbd class="hx_kbd">!</kbd>
              </span>
          </command-palette-help>
          <command-palette-help
            data-group="modes_help"
              data-prefix="/"
              data-scope-types="[&quot;repository&quot;]"
          >
            <span data-target="command-palette-help.titleElement">Search for <strong>files</strong></span>
              <span data-target="command-palette-help.hintElement">
                <kbd class="hx_kbd">/</kbd>
              </span>
          </command-palette-help>
          <command-palette-help
            data-group="modes_help"
              data-prefix="&gt;"
          >
            <span data-target="command-palette-help.titleElement">Activate <strong>command mode</strong></span>
              <span data-target="command-palette-help.hintElement">
                <kbd class="hx_kbd">&gt;</kbd>
              </span>
          </command-palette-help>
          <command-palette-help
            data-group="filters_help"
              data-prefix="# author:@me"
          >
            <span data-target="command-palette-help.titleElement">Search your issues, pull requests, and discussions</span>
              <span data-target="command-palette-help.hintElement">
                <kbd class="hx_kbd"># author:@me</kbd>
              </span>
          </command-palette-help>
          <command-palette-help
            data-group="filters_help"
              data-prefix="# author:@me"
          >
            <span data-target="command-palette-help.titleElement">Search your issues, pull requests, and discussions</span>
              <span data-target="command-palette-help.hintElement">
                <kbd class="hx_kbd"># author:@me</kbd>
              </span>
          </command-palette-help>
          <command-palette-help
            data-group="filters_help"
              data-prefix="# is:pr"
          >
            <span data-target="command-palette-help.titleElement">Filter to pull requests</span>
              <span data-target="command-palette-help.hintElement">
                <kbd class="hx_kbd"># is:pr</kbd>
              </span>
          </command-palette-help>
          <command-palette-help
            data-group="filters_help"
              data-prefix="# is:issue"
          >
            <span data-target="command-palette-help.titleElement">Filter to issues</span>
              <span data-target="command-palette-help.hintElement">
                <kbd class="hx_kbd"># is:issue</kbd>
              </span>
          </command-palette-help>
          <command-palette-help
            data-group="filters_help"
              data-prefix="# is:discussion"
              data-scope-types="[&quot;owner&quot;,&quot;repository&quot;]"
          >
            <span data-target="command-palette-help.titleElement">Filter to discussions</span>
              <span data-target="command-palette-help.hintElement">
                <kbd class="hx_kbd"># is:discussion</kbd>
              </span>
          </command-palette-help>
          <command-palette-help
            data-group="filters_help"
              data-prefix="# is:project"
              data-scope-types="[&quot;owner&quot;,&quot;repository&quot;]"
          >
            <span data-target="command-palette-help.titleElement">Filter to projects</span>
              <span data-target="command-palette-help.hintElement">
                <kbd class="hx_kbd"># is:project</kbd>
              </span>
          </command-palette-help>
          <command-palette-help
            data-group="filters_help"
              data-prefix="# is:open"
          >
            <span data-target="command-palette-help.titleElement">Filter to open issues, pull requests, and discussions</span>
              <span data-target="command-palette-help.hintElement">
                <kbd class="hx_kbd"># is:open</kbd>
              </span>
          </command-palette-help>
      </server-defined-provider>

        <server-defined-provider
          data-type="commands"
          data-fetch-debounce="0"
            data-src="/command_palette/commands"
          data-supported-modes="[]"
            data-supports-commands
          
          data-targets="command-palette.serverDefinedProviderElements"
          ></server-defined-provider>
        <server-defined-provider
          data-type="prefetched"
          data-fetch-debounce="0"
            data-src="/command_palette/jump_to_page_navigation"
          data-supported-modes="[&quot;&quot;]"
            data-supported-scope-types="[&quot;&quot;,&quot;owner&quot;,&quot;repository&quot;]"
          
          data-targets="command-palette.serverDefinedProviderElements"
          ></server-defined-provider>
        <server-defined-provider
          data-type="remote"
          data-fetch-debounce="200"
            data-src="/command_palette/issues"
          data-supported-modes="[&quot;#&quot;,&quot;#&quot;]"
            data-supported-scope-types="[&quot;owner&quot;,&quot;repository&quot;,&quot;&quot;]"
          
          data-targets="command-palette.serverDefinedProviderElements"
          ></server-defined-provider>
        <server-defined-provider
          data-type="remote"
          data-fetch-debounce="200"
            data-src="/command_palette/jump_to"
          data-supported-modes="[&quot;@&quot;,&quot;@&quot;]"
            data-supported-scope-types="[&quot;&quot;,&quot;owner&quot;]"
          
          data-targets="command-palette.serverDefinedProviderElements"
          ></server-defined-provider>
        <server-defined-provider
          data-type="remote"
          data-fetch-debounce="200"
            data-src="/command_palette/jump_to_members_only"
          data-supported-modes="[&quot;@&quot;,&quot;@&quot;,&quot;&quot;,&quot;&quot;]"
            data-supported-scope-types="[&quot;&quot;,&quot;owner&quot;]"
          
          data-targets="command-palette.serverDefinedProviderElements"
          ></server-defined-provider>
        <server-defined-provider
          data-type="prefetched"
          data-fetch-debounce="0"
            data-src="/command_palette/jump_to_members_only_prefetched"
          data-supported-modes="[&quot;@&quot;,&quot;@&quot;,&quot;&quot;,&quot;&quot;]"
            data-supported-scope-types="[&quot;&quot;,&quot;owner&quot;]"
          
          data-targets="command-palette.serverDefinedProviderElements"
          ></server-defined-provider>
        <server-defined-provider
          data-type="files"
          data-fetch-debounce="0"
            data-src="/command_palette/files"
          data-supported-modes="[&quot;/&quot;]"
            data-supported-scope-types="[&quot;repository&quot;]"
          
          data-targets="command-palette.serverDefinedProviderElements"
          ></server-defined-provider>
        <server-defined-provider
          data-type="remote"
          data-fetch-debounce="200"
            data-src="/command_palette/discussions"
          data-supported-modes="[&quot;#&quot;]"
            data-supported-scope-types="[&quot;owner&quot;,&quot;repository&quot;]"
          
          data-targets="command-palette.serverDefinedProviderElements"
          ></server-defined-provider>
        <server-defined-provider
          data-type="remote"
          data-fetch-debounce="200"
            data-src="/command_palette/projects"
          data-supported-modes="[&quot;#&quot;,&quot;!&quot;]"
            data-supported-scope-types="[&quot;owner&quot;,&quot;repository&quot;]"
          
          data-targets="command-palette.serverDefinedProviderElements"
          ></server-defined-provider>
        <server-defined-provider
          data-type="prefetched"
          data-fetch-debounce="0"
            data-src="/command_palette/recent_issues"
          data-supported-modes="[&quot;#&quot;,&quot;#&quot;]"
            data-supported-scope-types="[&quot;owner&quot;,&quot;repository&quot;,&quot;&quot;]"
          
          data-targets="command-palette.serverDefinedProviderElements"
          ></server-defined-provider>
        <server-defined-provider
          data-type="remote"
          data-fetch-debounce="200"
            data-src="/command_palette/teams"
          data-supported-modes="[&quot;@&quot;,&quot;&quot;]"
            data-supported-scope-types="[&quot;owner&quot;]"
          
          data-targets="command-palette.serverDefinedProviderElements"
          ></server-defined-provider>
        <server-defined-provider
          data-type="remote"
          data-fetch-debounce="200"
            data-src="/command_palette/name_with_owner_repository"
          data-supported-modes="[&quot;@&quot;,&quot;@&quot;,&quot;&quot;,&quot;&quot;]"
            data-supported-scope-types="[&quot;&quot;,&quot;owner&quot;]"
          
          data-targets="command-palette.serverDefinedProviderElements"
          ></server-defined-provider>
    </command-palette>
  </details-dialog>
</details>

<div class="position-fixed bottom-0 left-0 ml-5 mb-5 js-command-palette-toasts" style="z-index: 1000">
  <div hidden class="Toast Toast--loading">
    <span class="Toast-icon">
      <svg class="Toast--spinner" viewBox="0 0 32 32" width="18" height="18" aria-hidden="true">
        <path
          fill="#959da5"
          d="M16 0 A16 16 0 0 0 16 32 A16 16 0 0 0 16 0 M16 4 A12 12 0 0 1 16 28 A12 12 0 0 1 16 4"
        />
        <path fill="#ffffff" d="M16 0 A16 16 0 0 1 32 16 L28 16 A12 12 0 0 0 16 4z"></path>
      </svg>
    </span>
    <span class="Toast-content"></span>
  </div>

  <div hidden class="anim-fade-in fast Toast Toast--error">
    <span class="Toast-icon">
      <svg aria-hidden="true" height="16" viewBox="0 0 16 16" version="1.1" width="16" data-view-component="true" class="octicon octicon-stop">
    <path d="M4.47.22A.749.749 0 0 1 5 0h6c.199 0 .389.079.53.22l4.25 4.25c.141.14.22.331.22.53v6a.749.749 0 0 1-.22.53l-4.25 4.25A.749.749 0 0 1 11 16H5a.749.749 0 0 1-.53-.22L.22 11.53A.749.749 0 0 1 0 11V5c0-.199.079-.389.22-.53Zm.84 1.28L1.5 5.31v5.38l3.81 3.81h5.38l3.81-3.81V5.31L10.69 1.5ZM8 4a.75.75 0 0 1 .75.75v3.5a.75.75 0 0 1-1.5 0v-3.5A.75.75 0 0 1 8 4Zm0 8a1 1 0 1 1 0-2 1 1 0 0 1 0 2Z"></path>
</svg>
    </span>
    <span class="Toast-content"></span>
  </div>

  <div hidden class="anim-fade-in fast Toast Toast--warning">
    <span class="Toast-icon">
      <svg aria-hidden="true" height="16" viewBox="0 0 16 16" version="1.1" width="16" data-view-component="true" class="octicon octicon-alert">
    <path d="M6.457 1.047c.659-1.234 2.427-1.234 3.086 0l6.082 11.378A1.75 1.75 0 0 1 14.082 15H1.918a1.75 1.75 0 0 1-1.543-2.575Zm1.763.707a.25.25 0 0 0-.44 0L1.698 13.132a.25.25 0 0 0 .22.368h12.164a.25.25 0 0 0 .22-.368Zm.53 3.996v2.5a.75.75 0 0 1-1.5 0v-2.5a.75.75 0 0 1 1.5 0ZM9 11a1 1 0 1 1-2 0 1 1 0 0 1 2 0Z"></path>
</svg>
    </span>
    <span class="Toast-content"></span>
  </div>


  <div hidden class="anim-fade-in fast Toast Toast--success">
    <span class="Toast-icon">
      <svg aria-hidden="true" height="16" viewBox="0 0 16 16" version="1.1" width="16" data-view-component="true" class="octicon octicon-check">
    <path d="M13.78 4.22a.75.75 0 0 1 0 1.06l-7.25 7.25a.75.75 0 0 1-1.06 0L2.22 9.28a.751.751 0 0 1 .018-1.042.751.751 0 0 1 1.042-.018L6 10.94l6.72-6.72a.75.75 0 0 1 1.06 0Z"></path>
</svg>
    </span>
    <span class="Toast-content"></span>
  </div>

  <div hidden class="anim-fade-in fast Toast">
    <span class="Toast-icon">
      <svg aria-hidden="true" height="16" viewBox="0 0 16 16" version="1.1" width="16" data-view-component="true" class="octicon octicon-info">
    <path d="M0 8a8 8 0 1 1 16 0A8 8 0 0 1 0 8Zm8-6.5a6.5 6.5 0 1 0 0 13 6.5 6.5 0 0 0 0-13ZM6.5 7.75A.75.75 0 0 1 7.25 7h1a.75.75 0 0 1 .75.75v2.75h.25a.75.75 0 0 1 0 1.5h-2a.75.75 0 0 1 0-1.5h.25v-2h-.25a.75.75 0 0 1-.75-.75ZM8 6a1 1 0 1 1 0-2 1 1 0 0 1 0 2Z"></path>
</svg>
    </span>
    <span class="Toast-content"></span>
  </div>
</div>


  <div
    class="application-main "
    data-commit-hovercards-enabled
    data-discussion-hovercards-enabled
    data-issue-and-pr-hovercards-enabled
  >
        <div itemscope itemtype="http://schema.org/SoftwareSourceCode" class="">
    <main id="js-repo-pjax-container" >
      
      
      






    
  <div id="repository-container-header" data-turbo-replace hidden></div>




<turbo-frame id="repo-content-turbo-frame" target="_top" data-turbo-action="advance" class="">
    <div id="repo-content-pjax-container" class="repository-content " >
      <a href="https://github.dev/" class="d-none js-github-dev-shortcut" data-hotkey=".,Alt+Meta+≥,Control+Alt+.">Open in github.dev</a>
  <a href="https://github.dev/" class="d-none js-github-dev-new-tab-shortcut" data-hotkey="Shift+.,Shift+&gt;,&gt;" target="_blank" rel="noopener noreferrer">Open in a new github.dev tab</a>
    <a class="d-none" data-hotkey=",,Alt+Meta+≤,Control+Alt+," target="_blank" href="/codespaces/new/itzmohanmadhav/datavisualization1/tree/master?resume=1">Open in codespace</a>



    
      
    





<react-app
  app-name="react-code-view"
  initial-path="/itzmohanmadhav/datavisualization1/blob/master/test3.ipynb"
  style="min-height: calc(100vh - 62px)"
  data-ssr="false"
  data-lazy="false"
  data-alternate="false"
>
  
  <script type="application/json" data-target="react-app.embeddedData">{"payload":{"allShortcutsEnabled":true,"fileTree":{"":{"items":[{"name":".gitattributes","path":".gitattributes","contentType":"file"},{"name":".gitignore","path":".gitignore","contentType":"file"},{"name":"Assignment-2_DV.ipynb","path":"Assignment-2_DV.ipynb","contentType":"file"},{"name":"test.ipynb","path":"test.ipynb","contentType":"file"},{"name":"test2.ipynb","path":"test2.ipynb","contentType":"file"},{"name":"test3.ipynb","path":"test3.ipynb","contentType":"file"}],"totalCount":6}},"fileTreeProcessingTime":2.0119629999999997,"foldersToFetch":[],"reducedMotionEnabled":"system","repo":{"id":684496603,"defaultBranch":"master","name":"datavisualization1","ownerLogin":"itzmohanmadhav","currentUserCanPush":false,"isFork":false,"isEmpty":false,"createdAt":"2023-08-29T14:20:08.000+05:30","ownerAvatar":"https://avatars.githubusercontent.com/u/143478131?v=4","public":true,"private":false,"isOrgOwned":false},"symbolsExpanded":false,"treeExpanded":true,"refInfo":{"name":"master","listCacheKey":"v0:1695973490.0","canEdit":true,"refType":"branch","currentOid":"8395dbb03b1364ce13219cbe27b7445e721d5ec9"},"path":"test3.ipynb","currentUser":{"id":122473930,"login":"TeekamChaudhary","userEmail":"teekamchaudhary71@gmail.com"},"blob":{"rawLines":["{"," \"cells\": [","  {","   \"cell_type\": \"code\",","   \"execution_count\": 1,","   \"id\": \"aa49204f-18fc-451d-b400-7b3b60c1fbcd\",","   \"metadata\": {},","   \"outputs\": [],","   \"source\": [","    \"import pandas as pd\\n\",","    \"df = pd.read_csv(\\\"CardioGoodFitness.csv\\\")\\n\"","   ]","  },","  {","   \"cell_type\": \"code\",","   \"execution_count\": 2,","   \"id\": \"67b8fc96-cbfd-4898-93fd-a1bfb789a3e2\",","   \"metadata\": {},","   \"outputs\": [","    {","     \"data\": {","      \"text/html\": [","       \"\u003cdiv\u003e\\n\",","       \"\u003cstyle scoped\u003e\\n\",","       \"    .dataframe tbody tr th:only-of-type {\\n\",","       \"        vertical-align: middle;\\n\",","       \"    }\\n\",","       \"\\n\",","       \"    .dataframe tbody tr th {\\n\",","       \"        vertical-align: top;\\n\",","       \"    }\\n\",","       \"\\n\",","       \"    .dataframe thead th {\\n\",","       \"        text-align: right;\\n\",","       \"    }\\n\",","       \"\u003c/style\u003e\\n\",","       \"\u003ctable border=\\\"1\\\" class=\\\"dataframe\\\"\u003e\\n\",","       \"  \u003cthead\u003e\\n\",","       \"    \u003ctr style=\\\"text-align: right;\\\"\u003e\\n\",","       \"      \u003cth\u003e\u003c/th\u003e\\n\",","       \"      \u003cth\u003eProduct\u003c/th\u003e\\n\",","       \"      \u003cth\u003eAge\u003c/th\u003e\\n\",","       \"      \u003cth\u003eGender\u003c/th\u003e\\n\",","       \"      \u003cth\u003eEducation\u003c/th\u003e\\n\",","       \"      \u003cth\u003eMaritalStatus\u003c/th\u003e\\n\",","       \"      \u003cth\u003eUsage\u003c/th\u003e\\n\",","       \"      \u003cth\u003eFitness\u003c/th\u003e\\n\",","       \"      \u003cth\u003eIncome\u003c/th\u003e\\n\",","       \"      \u003cth\u003eMiles\u003c/th\u003e\\n\",","       \"    \u003c/tr\u003e\\n\",","       \"  \u003c/thead\u003e\\n\",","       \"  \u003ctbody\u003e\\n\",","       \"    \u003ctr\u003e\\n\",","       \"      \u003cth\u003e0\u003c/th\u003e\\n\",","       \"      \u003ctd\u003eTM195\u003c/td\u003e\\n\",","       \"      \u003ctd\u003e18\u003c/td\u003e\\n\",","       \"      \u003ctd\u003eMale\u003c/td\u003e\\n\",","       \"      \u003ctd\u003e14\u003c/td\u003e\\n\",","       \"      \u003ctd\u003eSingle\u003c/td\u003e\\n\",","       \"      \u003ctd\u003e3\u003c/td\u003e\\n\",","       \"      \u003ctd\u003e4\u003c/td\u003e\\n\",","       \"      \u003ctd\u003e29562\u003c/td\u003e\\n\",","       \"      \u003ctd\u003e112\u003c/td\u003e\\n\",","       \"    \u003c/tr\u003e\\n\",","       \"    \u003ctr\u003e\\n\",","       \"      \u003cth\u003e1\u003c/th\u003e\\n\",","       \"      \u003ctd\u003eTM195\u003c/td\u003e\\n\",","       \"      \u003ctd\u003e19\u003c/td\u003e\\n\",","       \"      \u003ctd\u003eMale\u003c/td\u003e\\n\",","       \"      \u003ctd\u003e15\u003c/td\u003e\\n\",","       \"      \u003ctd\u003eSingle\u003c/td\u003e\\n\",","       \"      \u003ctd\u003e2\u003c/td\u003e\\n\",","       \"      \u003ctd\u003e3\u003c/td\u003e\\n\",","       \"      \u003ctd\u003e31836\u003c/td\u003e\\n\",","       \"      \u003ctd\u003e75\u003c/td\u003e\\n\",","       \"    \u003c/tr\u003e\\n\",","       \"    \u003ctr\u003e\\n\",","       \"      \u003cth\u003e2\u003c/th\u003e\\n\",","       \"      \u003ctd\u003eTM195\u003c/td\u003e\\n\",","       \"      \u003ctd\u003e19\u003c/td\u003e\\n\",","       \"      \u003ctd\u003eFemale\u003c/td\u003e\\n\",","       \"      \u003ctd\u003e14\u003c/td\u003e\\n\",","       \"      \u003ctd\u003ePartnered\u003c/td\u003e\\n\",","       \"      \u003ctd\u003e4\u003c/td\u003e\\n\",","       \"      \u003ctd\u003e3\u003c/td\u003e\\n\",","       \"      \u003ctd\u003e30699\u003c/td\u003e\\n\",","       \"      \u003ctd\u003e66\u003c/td\u003e\\n\",","       \"    \u003c/tr\u003e\\n\",","       \"    \u003ctr\u003e\\n\",","       \"      \u003cth\u003e3\u003c/th\u003e\\n\",","       \"      \u003ctd\u003eTM195\u003c/td\u003e\\n\",","       \"      \u003ctd\u003e19\u003c/td\u003e\\n\",","       \"      \u003ctd\u003eMale\u003c/td\u003e\\n\",","       \"      \u003ctd\u003e12\u003c/td\u003e\\n\",","       \"      \u003ctd\u003eSingle\u003c/td\u003e\\n\",","       \"      \u003ctd\u003e3\u003c/td\u003e\\n\",","       \"      \u003ctd\u003e3\u003c/td\u003e\\n\",","       \"      \u003ctd\u003e32973\u003c/td\u003e\\n\",","       \"      \u003ctd\u003e85\u003c/td\u003e\\n\",","       \"    \u003c/tr\u003e\\n\",","       \"    \u003ctr\u003e\\n\",","       \"      \u003cth\u003e4\u003c/th\u003e\\n\",","       \"      \u003ctd\u003eTM195\u003c/td\u003e\\n\",","       \"      \u003ctd\u003e20\u003c/td\u003e\\n\",","       \"      \u003ctd\u003eMale\u003c/td\u003e\\n\",","       \"      \u003ctd\u003e13\u003c/td\u003e\\n\",","       \"      \u003ctd\u003ePartnered\u003c/td\u003e\\n\",","       \"      \u003ctd\u003e4\u003c/td\u003e\\n\",","       \"      \u003ctd\u003e2\u003c/td\u003e\\n\",","       \"      \u003ctd\u003e35247\u003c/td\u003e\\n\",","       \"      \u003ctd\u003e47\u003c/td\u003e\\n\",","       \"    \u003c/tr\u003e\\n\",","       \"  \u003c/tbody\u003e\\n\",","       \"\u003c/table\u003e\\n\",","       \"\u003c/div\u003e\"","      ],","      \"text/plain\": [","       \"  Product  Age  Gender  Education MaritalStatus  Usage  Fitness  Income  Miles\\n\",","       \"0   TM195   18    Male         14        Single      3        4   29562    112\\n\",","       \"1   TM195   19    Male         15        Single      2        3   31836     75\\n\",","       \"2   TM195   19  Female         14     Partnered      4        3   30699     66\\n\",","       \"3   TM195   19    Male         12        Single      3        3   32973     85\\n\",","       \"4   TM195   20    Male         13     Partnered      4        2   35247     47\"","      ]","     },","     \"execution_count\": 2,","     \"metadata\": {},","     \"output_type\": \"execute_result\"","    }","   ],","   \"source\": [","    \"df.head()\\n\"","   ]","  },","  {","   \"cell_type\": \"code\",","   \"execution_count\": 3,","   \"id\": \"b8940bee-5e18-4e3d-90c2-07c5b6ef4a37\",","   \"metadata\": {},","   \"outputs\": [","    {","     \"name\": \"stdout\",","     \"output_type\": \"stream\",","     \"text\": [","      \"\u003cclass 'pandas.core.frame.DataFrame'\u003e\\n\",","      \"RangeIndex: 180 entries, 0 to 179\\n\",","      \"Data columns (total 9 columns):\\n\",","      \" #   Column         Non-Null Count  Dtype \\n\",","      \"---  ------         --------------  ----- \\n\",","      \" 0   Product        180 non-null    object\\n\",","      \" 1   Age            180 non-null    int64 \\n\",","      \" 2   Gender         180 non-null    object\\n\",","      \" 3   Education      180 non-null    int64 \\n\",","      \" 4   MaritalStatus  180 non-null    object\\n\",","      \" 5   Usage          180 non-null    int64 \\n\",","      \" 6   Fitness        180 non-null    int64 \\n\",","      \" 7   Income         180 non-null    int64 \\n\",","      \" 8   Miles          180 non-null    int64 \\n\",","      \"dtypes: int64(6), object(3)\\n\",","      \"memory usage: 12.8+ KB\\n\"","     ]","    }","   ],","   \"source\": [","    \"df.info()\\n\"","   ]","  },","  {","   \"cell_type\": \"code\",","   \"execution_count\": 4,","   \"id\": \"0d70d5a9-1802-47e6-b86d-bb2350fe7b37\",","   \"metadata\": {},","   \"outputs\": [","    {","     \"name\": \"stderr\",","     \"output_type\": \"stream\",","     \"text\": [","      \"C:\\\\Users\\\\DELL\\\\AppData\\\\Local\\\\Temp\\\\ipykernel_292\\\\1876962195.py:1: FutureWarning: The default value of numeric_only in DataFrameGroupBy.mean is deprecated. In a future version, numeric_only will default to False. Either specify numeric_only or select only columns which should be valid for the function.\\n\",","      \"  df.groupby(\\\"Product\\\").mean()\\n\"","     ]","    },","    {","     \"data\": {","      \"text/html\": [","       \"\u003cdiv\u003e\\n\",","       \"\u003cstyle scoped\u003e\\n\",","       \"    .dataframe tbody tr th:only-of-type {\\n\",","       \"        vertical-align: middle;\\n\",","       \"    }\\n\",","       \"\\n\",","       \"    .dataframe tbody tr th {\\n\",","       \"        vertical-align: top;\\n\",","       \"    }\\n\",","       \"\\n\",","       \"    .dataframe thead th {\\n\",","       \"        text-align: right;\\n\",","       \"    }\\n\",","       \"\u003c/style\u003e\\n\",","       \"\u003ctable border=\\\"1\\\" class=\\\"dataframe\\\"\u003e\\n\",","       \"  \u003cthead\u003e\\n\",","       \"    \u003ctr style=\\\"text-align: right;\\\"\u003e\\n\",","       \"      \u003cth\u003e\u003c/th\u003e\\n\",","       \"      \u003cth\u003eAge\u003c/th\u003e\\n\",","       \"      \u003cth\u003eEducation\u003c/th\u003e\\n\",","       \"      \u003cth\u003eUsage\u003c/th\u003e\\n\",","       \"      \u003cth\u003eFitness\u003c/th\u003e\\n\",","       \"      \u003cth\u003eIncome\u003c/th\u003e\\n\",","       \"      \u003cth\u003eMiles\u003c/th\u003e\\n\",","       \"    \u003c/tr\u003e\\n\",","       \"    \u003ctr\u003e\\n\",","       \"      \u003cth\u003eProduct\u003c/th\u003e\\n\",","       \"      \u003cth\u003e\u003c/th\u003e\\n\",","       \"      \u003cth\u003e\u003c/th\u003e\\n\",","       \"      \u003cth\u003e\u003c/th\u003e\\n\",","       \"      \u003cth\u003e\u003c/th\u003e\\n\",","       \"      \u003cth\u003e\u003c/th\u003e\\n\",","       \"      \u003cth\u003e\u003c/th\u003e\\n\",","       \"    \u003c/tr\u003e\\n\",","       \"  \u003c/thead\u003e\\n\",","       \"  \u003ctbody\u003e\\n\",","       \"    \u003ctr\u003e\\n\",","       \"      \u003cth\u003eTM195\u003c/th\u003e\\n\",","       \"      \u003ctd\u003e28.55\u003c/td\u003e\\n\",","       \"      \u003ctd\u003e15.037500\u003c/td\u003e\\n\",","       \"      \u003ctd\u003e3.087500\u003c/td\u003e\\n\",","       \"      \u003ctd\u003e2.9625\u003c/td\u003e\\n\",","       \"      \u003ctd\u003e46418.025\u003c/td\u003e\\n\",","       \"      \u003ctd\u003e82.787500\u003c/td\u003e\\n\",","       \"    \u003c/tr\u003e\\n\",","       \"    \u003ctr\u003e\\n\",","       \"      \u003cth\u003eTM498\u003c/th\u003e\\n\",","       \"      \u003ctd\u003e28.90\u003c/td\u003e\\n\",","       \"      \u003ctd\u003e15.116667\u003c/td\u003e\\n\",","       \"      \u003ctd\u003e3.066667\u003c/td\u003e\\n\",","       \"      \u003ctd\u003e2.9000\u003c/td\u003e\\n\",","       \"      \u003ctd\u003e48973.650\u003c/td\u003e\\n\",","       \"      \u003ctd\u003e87.933333\u003c/td\u003e\\n\",","       \"    \u003c/tr\u003e\\n\",","       \"    \u003ctr\u003e\\n\",","       \"      \u003cth\u003eTM798\u003c/th\u003e\\n\",","       \"      \u003ctd\u003e29.10\u003c/td\u003e\\n\",","       \"      \u003ctd\u003e17.325000\u003c/td\u003e\\n\",","       \"      \u003ctd\u003e4.775000\u003c/td\u003e\\n\",","       \"      \u003ctd\u003e4.6250\u003c/td\u003e\\n\",","       \"      \u003ctd\u003e75441.575\u003c/td\u003e\\n\",","       \"      \u003ctd\u003e166.900000\u003c/td\u003e\\n\",","       \"    \u003c/tr\u003e\\n\",","       \"  \u003c/tbody\u003e\\n\",","       \"\u003c/table\u003e\\n\",","       \"\u003c/div\u003e\"","      ],","      \"text/plain\": [","       \"           Age  Education     Usage  Fitness     Income       Miles\\n\",","       \"Product                                                            \\n\",","       \"TM195    28.55  15.037500  3.087500   2.9625  46418.025   82.787500\\n\",","       \"TM498    28.90  15.116667  3.066667   2.9000  48973.650   87.933333\\n\",","       \"TM798    29.10  17.325000  4.775000   4.6250  75441.575  166.900000\"","      ]","     },","     \"execution_count\": 4,","     \"metadata\": {},","     \"output_type\": \"execute_result\"","    }","   ],","   \"source\": [","    \"df.groupby(\\\"Product\\\").mean()\\n\"","   ]","  },","  {","   \"cell_type\": \"code\",","   \"execution_count\": 5,","   \"id\": \"85cf37f7-d226-4c81-b656-48845ebe83a3\",","   \"metadata\": {},","   \"outputs\": [","    {","     \"data\": {","      \"text/html\": [","       \"\u003cdiv\u003e\\n\",","       \"\u003cstyle scoped\u003e\\n\",","       \"    .dataframe tbody tr th:only-of-type {\\n\",","       \"        vertical-align: middle;\\n\",","       \"    }\\n\",","       \"\\n\",","       \"    .dataframe tbody tr th {\\n\",","       \"        vertical-align: top;\\n\",","       \"    }\\n\",","       \"\\n\",","       \"    .dataframe thead th {\\n\",","       \"        text-align: right;\\n\",","       \"    }\\n\",","       \"\u003c/style\u003e\\n\",","       \"\u003ctable border=\\\"1\\\" class=\\\"dataframe\\\"\u003e\\n\",","       \"  \u003cthead\u003e\\n\",","       \"    \u003ctr style=\\\"text-align: right;\\\"\u003e\\n\",","       \"      \u003cth\u003eGender\u003c/th\u003e\\n\",","       \"      \u003cth\u003eFemale\u003c/th\u003e\\n\",","       \"      \u003cth\u003eMale\u003c/th\u003e\\n\",","       \"    \u003c/tr\u003e\\n\",","       \"    \u003ctr\u003e\\n\",","       \"      \u003cth\u003eProduct\u003c/th\u003e\\n\",","       \"      \u003cth\u003e\u003c/th\u003e\\n\",","       \"      \u003cth\u003e\u003c/th\u003e\\n\",","       \"    \u003c/tr\u003e\\n\",","       \"  \u003c/thead\u003e\\n\",","       \"  \u003ctbody\u003e\\n\",","       \"    \u003ctr\u003e\\n\",","       \"      \u003cth\u003eTM195\u003c/th\u003e\\n\",","       \"      \u003ctd\u003e40\u003c/td\u003e\\n\",","       \"      \u003ctd\u003e40\u003c/td\u003e\\n\",","       \"    \u003c/tr\u003e\\n\",","       \"    \u003ctr\u003e\\n\",","       \"      \u003cth\u003eTM498\u003c/th\u003e\\n\",","       \"      \u003ctd\u003e29\u003c/td\u003e\\n\",","       \"      \u003ctd\u003e31\u003c/td\u003e\\n\",","       \"    \u003c/tr\u003e\\n\",","       \"    \u003ctr\u003e\\n\",","       \"      \u003cth\u003eTM798\u003c/th\u003e\\n\",","       \"      \u003ctd\u003e7\u003c/td\u003e\\n\",","       \"      \u003ctd\u003e33\u003c/td\u003e\\n\",","       \"    \u003c/tr\u003e\\n\",","       \"  \u003c/tbody\u003e\\n\",","       \"\u003c/table\u003e\\n\",","       \"\u003c/div\u003e\"","      ],","      \"text/plain\": [","       \"Gender   Female  Male\\n\",","       \"Product              \\n\",","       \"TM195        40    40\\n\",","       \"TM498        29    31\\n\",","       \"TM798         7    33\"","      ]","     },","     \"execution_count\": 5,","     \"metadata\": {},","     \"output_type\": \"execute_result\"","    }","   ],","   \"source\": [","    \"pd.crosstab(df[\\\"Product\\\"], df[\\\"Gender\\\"])\\n\"","   ]","  },","  {","   \"cell_type\": \"code\",","   \"execution_count\": 7,","   \"id\": \"a108cf9f-8c9b-42f2-b8fb-f144a22603a1\",","   \"metadata\": {},","   \"outputs\": [","    {","     \"data\": {","      \"image/png\": \"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\",","      \"text/plain\": [","       \"\u003cFigure size 640x480 with 1 Axes\u003e\"","      ]","     },","     \"metadata\": {},","     \"output_type\": \"display_data\"","    }","   ],","   \"source\": [","    \"import matplotlib.pyplot as plt\\n\",","    \"import seaborn as sns\\n\",","    \"plt.hist(df[\\\"Age\\\"])\\n\",","    \"plt.xlabel(\\\"Age\\\")\\n\",","    \"plt.ylabel(\\\"Count\\\")\\n\",","    \"plt.title(\\\"Histogram of Age\\\")\\n\",","    \"plt.show()\\n\"","   ]","  },","  {","   \"cell_type\": \"code\",","   \"execution_count\": 8,","   \"id\": \"65c82832-9232-46d3-ab77-8b4dd838883f\",","   \"metadata\": {},","   \"outputs\": [","    {","     \"data\": {","      \"image/png\": \"iVBORw0KGgoAAAANSUhEUgAAAkIAAAHFCAYAAAAe+pb9AAAAOXRFWHRTb2Z0d2FyZQBNYXRwbG90bGliIHZlcnNpb24zLjcuMCwgaHR0cHM6Ly9tYXRwbG90bGliLm9yZy88F64QAAAACXBIWXMAAA9hAAAPYQGoP6dpAABFOUlEQVR4nO3dfVhVdb7//9fmboOEW4RgS97WmKOh3WDizczgpKIO6NR0jlMY6TfHZjJFTMaOp2+lTqGp0XRiyjrTZDcqnevr2DSZBNXkGS4QkYmTaHfz/ToiBmq22XjDnfD5/dHPddrgXR1wi+v5uK51Xe7Peu+13guC/eqz1mI5jDFGAAAANhTg7wYAAAD8hSAEAABsiyAEAABsiyAEAABsiyAEAABsiyAEAABsiyAEAABsiyAEAABsiyAEAABsiyAEXKbWr18vh8Phs1x55ZUaP3683nrrLX+3Zxk4cKBmz579rd938uRJLVu2TB988EGn9/SPf/xDKSkp6t27txwOhzIzM89aO3DgQKWmpnZ6DwAujiB/NwCga7300kv6/ve/L2OMamtrlZubq2nTpunNN9/UtGnT/N3ed3by5EktX75ckjR+/PhO3faiRYtUWlqqP/zhD3K73erTp0+nbh/ApYMgBFzm4uPjNXLkSOv1lClTFBkZqU2bNnXrINSVKisrNWrUKN16663+bgVAF+PUGGAzoaGhCgkJUXBwsM/4V199pXnz5umqq65SSEiIrr76aj300ENqamqSJDU2NurGG2/U9773PXm9Xut9tbW1crvdGj9+vFpbWyVJs2fP1hVXXKE9e/ZowoQJCg8P15VXXqn58+fr5MmT5+2xqqpKd911l2JiYuR0OjV06FA9+eSTamtrk/T1qasrr7xSkrR8+XLr1N/5TrGdb7sffPCBHA6H/v73v2vbtm3Wdv/xj39c0Nf2dG8Oh0Nr165VTk6OBg0apCuuuEJjxozRjh07OtSXlpZq2rRpioqKUmhoqK655poOp+KKioo0YcIERUREqEePHho7dqy2bt3qU3P6VOj777+vuXPnKioqSj179tTdd9+tEydOqLa2VjNmzFCvXr3Up08fZWVlqaWlxWcbzc3Neuyxx/T9739fTqdTV155pf7X//pfOnLkyAUfP9DtGACXpZdeeslIMjt27DAtLS2mubnZHDhwwGRkZJiAgACTn59v1TY0NJgRI0aY8PBws3btWlNQUGAefvhhExQUZH7yk59YdZ999pmJiIgwP/vZz4wxxrS2tppbbrnFxMTEmC+++MKqmzVrlgkJCTH9+/c3jz/+uCkoKDDLli0zQUFBJjU11afPAQMGmFmzZlmvDx8+bK666ipz5ZVXmnXr1pn8/Hwzf/58I8ncd999xhhjGhsbTX5+vpFk5syZY0pKSkxJSYn5+9//ftavx4Vs1+v1mpKSEuN2u824ceOs7TY2Np51uwMGDDApKSnW63379hlJZuDAgWbKlCnmjTfeMG+88YYZPny4iYyMNHV1dVZtfn6+CQ4ONiNGjDDr168377//vvnDH/5g7rjjDqvmgw8+MMHBwSYhIcG8/vrr5o033jDJycnG4XCYvLy8Dt/vQYMGmcWLF5uCggLzxBNPmMDAQHPnnXeam266yTz22GOmsLDQPPjgg0aSefLJJ633t7a2milTppjw8HCzfPlyU1hYaH7/+9+bq666ygwbNsycPHnyrF8DoDsjCAGXqdMfjO0Xp9Npnn32WZ/adevWGUnmP/7jP3zGn3jiCSPJFBQUWGOvv/66kWR++9vfmkceecQEBAT4rDfm6yAkyTz99NM+448//riRZIqKiqyx9kHoX/7lX4wkU1pa6vPe++67zzgcDvPpp58aY4w5cuSIkWQeffTRC/p6XOh2T/f0zXBzLmcLQsOHDzenTp2yxnfu3GkkmU2bNllj11xzjbnmmmtMQ0PDWbc/evRoExMTY44dO2aNnTp1ysTHx5u+ffuatrY2Y8x/f78XLFjg8/5bb73VSDI5OTk+4zfccIO56aabrNebNm0ykszmzZt96srKyoykDv/NAJcLTo0Bl7lXXnlFZWVlKisr07Zt2zRr1izdf//9ys3NtWref/99hYeH65/+6Z983nv6VNN7771njc2YMUP33Xeffv3rX+uxxx7Tv/7rv2rSpEln3PfMmTN9XqelpUmS/vKXv5y13/fff1/Dhg3TqFGjOvRijNH7779//oO+iNs9m5SUFAUGBlqvR4wYIUnav3+/JOmzzz7T//2//1dz5sxRaGjoGbdx4sQJlZaW6p/+6Z90xRVXWOOBgYFKT09XdXW1Pv30U5/3tL+DbejQoVY/7cdP9yJJb731lnr16qVp06bp1KlT1nLDDTfI7XZ3yd15wKWAi6WBy9zQoUM7XCy9f/9+LVmyRHfddZd69eqlo0ePyu12y+Fw+Lw3JiZGQUFBOnr0qM/4Pffco+eee04hISHKyMg4436DgoIUFRXlM+Z2uyWpw/a+6ejRoxo4cGCH8bi4uPO+91y6artn0/7YnU6nJKmhoUGSrOtu+vbte9ZteDweGWPOeNfa2fru3bu3z+uQkJCzjjc2NlqvDx06pLq6Oqu+vS+//PKsfQLdGUEIsKERI0bonXfe0WeffaZRo0YpKipKpaWlMsb4hKHDhw/r1KlTio6OtsZOnDih9PR0XXvttTp06JB+8Ytf6E9/+lOHfZw6dUpHjx71CQS1tbWSOoaEb4qKilJNTU2H8S+++EKSfHr5Nrpqu9/V6Yu9q6urz1oTGRmpgICAi9J3dHS0oqKilJ+ff8b1ERERnbIf4FLDqTHAhioqKiT994fxhAkTdPz4cb3xxhs+da+88oq1/rRf/epXqqqq0h//+Ee9+OKLevPNN/XUU0+dcT8bNmzweb1x40ZJ5/67PxMmTNDevXv1t7/9rUMvDodDP/7xjyV1nGE5nwvd7sVy7bXX6pprrtEf/vAH68689sLDw5WYmKg//vGPPsfZ1tam1157TX379tW1117bKf2kpqbq6NGjam1t1ciRIzssQ4YM6ZT9AJcaZoSAy1xlZaVOnTol6evTKH/84x9VWFio2267TYMGDZIk3X333frd736nWbNm6R//+IeGDx+uoqIiZWdn6yc/+YkmTpwoSfr973+v1157TS+99JKuu+46XXfddZo/f74efPBBjRs3zuf6m5CQED355JM6fvy4br75ZhUXF+uxxx7T1KlT9YMf/OCs/S5atEivvPKKUlJStGLFCg0YMEBbt27Vs88+q/vuu8/64I+IiNCAAQP0pz/9SRMmTFDv3r0VHR19xtNf32a7F9Pvfvc7TZs2TaNHj9aiRYvUv39/VVVV6Z133rFC5MqVKzVp0iT9+Mc/VlZWlkJCQvTss8+qsrJSmzZt6nA687u64447tGHDBv3kJz/RwoULNWrUKAUHB6u6ulp/+ctf9NOf/lS33XZbp+wLuKT491ptAF3lTHeNuVwuc8MNN5icnJwOt4QfPXrU/OpXvzJ9+vQxQUFBZsCAAWbp0qVW3UcffWTCwsJ87vAy5utb2RMSEszAgQONx+Mxxnx911h4eLj56KOPzPjx401YWJjp3bu3ue+++8zx48d93t/+rjFjjNm/f79JS0szUVFRJjg42AwZMsSsWbPGtLa2+tS9++675sYbbzROp9NI6rCd9i50u51x19iaNWs61OoMd7mVlJSYqVOnGpfLZZxOp7nmmmvMokWLfGr++te/mltuucWEh4ebsLAwM3r0aPPnP//Zp+b097usrMxn/NFHHzWSzJEjR3zGT3+PvqmlpcWsXbvWXH/99SY0NNRcccUV5vvf/7755S9/aT7//PML+noA3Y3DGGP8lsIAXJZmz56t//N//o+OHz/u71YA4Jy4RggAANgWQQgAANgWp8YAAIBtMSMEAABsiyAEAABsiyAEAABsiz+oeB5tbW364osvFBER0Wl/uAwAAHQtY4yOHTumuLg4BQScfd6HIHQeX3zxhfr16+fvNgAAwHdw4MCBcz7cmCB0HqcfNHjgwAH17NnTz90AAIALUV9fr379+p33gcEEofM4fTqsZ8+eBCEAALqZ813WwsXSAADAtghCAADAtghCAADAtghCAADAtghCAADAtghCAADAtghCAADAtghCAADAtghCAADAtghCAGzrxRdf1C233KIXX3zR360A8BOCEABbqqur04YNG9TW1qYNGzaorq7O3y0B8AOCEABbevjhh9XW1iZJamtr0yOPPOLnjgD4A0EIgO3s2rVLu3fv9hn76KOPtGvXLj91BMBfCEIAbKWtrU0rVqw447oVK1ZYs0QA7IEgBMBWSktLVV9ff8Z19fX1Ki0tvcgdAfAnghAAW0lMTFTPnj3PuM7lcikxMfEidwTAnwhCAGwlICDgrBdGP/roowoI4NciYCf8xAOwHbfbfcbxmJiYi9wJAH8jCAGwFWOMnn76aTkcDp9xh8Ohp59+WsYYP3UGwB8IQgBspaqqSmVlZR0CjzFGZWVlqqqq8lNnAPyBIATAVvr376+bb75ZgYGBPuOBgYEaNWqU+vfv76fOAPgDQQiArTgcDi1cuPCs4+1PmQG4vBGEANhO3759lZaWZoUeh8OhtLQ0XXXVVX7uDMDFRhACYEszZ85UVFSUJCk6OlppaWl+7giAPxCEANhSaGioHnjgAcXGxmrRokUKDQ31d0sA/CDI3w0AgL+MHTtWY8eO9XcbAPyIGSEAAGBbBCEAAGBbBCEAAGBbBCEAAGBb3zoI/ed//qemTZumuLg4ORwOvfHGGz7rjTFatmyZ4uLiFBYWpvHjx2vPnj0+NU1NTVqwYIGio6MVHh6u6dOnq7q62qfG4/EoPT1dLpdLLpdL6enpqqur86mpqqrStGnTFB4erujoaGVkZKi5udmnZvfu3UpKSlJYWJiuuuoqrVixgmcJAQAASd8hCJ04cULXX3+9cnNzz7h+9erVysnJUW5ursrKyuR2uzVp0iQdO3bMqsnMzNSWLVuUl5enoqIiHT9+XKmpqWptbbVq0tLSVFFRofz8fOXn56uiokLp6enW+tbWVqWkpOjEiRMqKipSXl6eNm/erMWLF1s19fX1mjRpkuLi4lRWVqZnnnlGa9euVU5Ozrc9bACXoeLiYv385z9XcXGxv1sB4C/mf0CS2bJli/W6ra3NuN1us2rVKmussbHRuFwus27dOmOMMXV1dSY4ONjk5eVZNQcPHjQBAQEmPz/fGGPM3r17jSSzY8cOq6akpMRIMp988okxxpi3337bBAQEmIMHD1o1mzZtMk6n03i9XmOMMc8++6xxuVymsbHRqlm5cqWJi4szbW1tF3SMXq/XSLK2CeDy0NDQYG6//XaTlJRkbr/9dtPQ0ODvlgB0ogv9/O7Ua4T27dun2tpaJScnW2NOp1NJSUnW/3GVl5erpaXFpyYuLk7x8fFWTUlJiVwulxITE62a0aNHy+Vy+dTEx8crLi7Oqpk8ebKamppUXl5u1SQlJcnpdPrUfPHFF/rHP/5xxmNoampSfX29zwLg8rNhwwYdPXpUknT06FFt3LjRzx0B8IdODUK1tbWSpNjYWJ/x2NhYa11tba1CQkIUGRl5zpqYmJgO24+JifGpab+fyMhIhYSEnLPm9OvTNe2tXLnSui7J5XKpX79+5z9wAN1KdXW1Nm7caF0vaIzRxo0bO1yrCODy1yV3jbV/erMx5rxPdG5fc6b6zqg5/YvvbP0sXbpUXq/XWg4cOHDOvgF0L8YYPf3002cdN9xMAdhKpwYht9stqeNsy+HDh62ZGLfbrebmZnk8nnPWHDp0qMP2jxw54lPTfj8ej0ctLS3nrDl8+LCkjrNWpzmdTvXs2dNnAXD5qKqqUllZmc/NGdLXN2CUlZWpqqrKT50B8IdODUKDBg2S2+1WYWGhNdbc3Kzt27dbz/NJSEhQcHCwT01NTY0qKyutmjFjxsjr9Wrnzp1WTWlpqbxer09NZWWlampqrJqCggI5nU4lJCRYNf/5n//pc0t9QUGB4uLiNHDgwM48dADdRP/+/XXzzTcrMDDQZzwwMFCjRo1S//79/dQZAH/41kHo+PHjqqioUEVFhaSvL5CuqKhQVVWVHA6HMjMzlZ2drS1btqiyslKzZ89Wjx49lJaWJklyuVyaM2eOFi9erPfee08ffvih7rrrLg0fPlwTJ06UJA0dOlRTpkzR3LlztWPHDu3YsUNz585VamqqhgwZIklKTk7WsGHDlJ6erg8//FDvvfeesrKyNHfuXGsWJy0tTU6nU7Nnz1ZlZaW2bNmi7OxsPfDAA+c9VQfg8uRwOLRw4cKzjvO7AbCZb3s72l/+8hcjqcMya9YsY8zXt9A/+uijxu12G6fTaX70ox+Z3bt3+2yjoaHBzJ8/3/Tu3duEhYWZ1NRUU1VV5VNz9OhRM3PmTBMREWEiIiLMzJkzjcfj8anZv3+/SUlJMWFhYaZ3795m/vz5PrfKG2PMRx99ZH74wx8ap9Np3G63WbZs2QXfOm8Mt88Dl6vf//73Zvz48SYpKcmMHz/evPjii/5uCUAnutDPb4cxXBl4LvX19XK5XPJ6vVwvBFxGGhsbddddd+nLL7/UlVdeqVdffVWhoaH+bgtAJ7nQz2+eNQbAlkJDQ/XAAw8oNjZWixYtIgQBNhXk7wYAwF/Gjh1r3YABwJ6YEQIAALZFEAIAALZFEAIAALZFEAIAALZFEAIAALZFEAJgW8XFxfr5z3+u4uJif7cCwE8IQgBsqbGxUTk5OTp06JBycnLU2Njo75YA+AFBCIAtbdiwQV9++aUk6csvv9TGjRv93BEAfyAIAbCd6upqbdiwwWdsw4YNqq6u9lNHAPyFIATAVowxevrpp9X+MYttbW1nHAdweSMIAbCVqqoqlZWVdQg8xhiVlZWpqqrKT50B8AeCEABb6dev31mfRN2zZ0/169fvIncEwJ8IQgBs5cCBA6qvrz/juvr6eh04cOAidwTAnwhCAGylf//+uvnmm+VwOHzGHQ6HRo0apf79+/upMwD+QBACYCsOh0MLFy5UQIDvr7/AwEAtXLiwQ0ACcHkjCAGwnb59+yotLc0KPQ6HQ2lpabrqqqv83BmAi40gBMCWZs6cqaioKElSdHS00tLS/NwRAH8gCAGwpdDQUD3wwAOKjY3VokWLFBoa6u+WAPhBkL8bAAB/GTt2rMaOHevvNgD4ETNCAADAtghCAADAtghCAADAtghCAGxr2bJlGj9+vJYtW+bvVgD4CUEIgC0dOnRIH3zwgSTpgw8+0KFDh/zbEAC/IAgBsKX58+f7vF6wYIGfOgHgTwQhALaTn5+vI0eO+IwdPnxY+fn5fuoIgL8QhADYSmtrq9asWXPGdWvWrFFra+tF7giAPxGEANjKW2+9ddaw09raqrfeeusidwTAnwhCAGwlNTVVgYGBZ1wXFBSk1NTUi9wRAH8iCAGwlcDAQP36178+47olS5acNSQBuDwRhADg/9fW1ubvFgBcZAQhALbCxdIAvqlLgtCxY8eUmZmpAQMGKCwsTGPHjlVZWZm13hijZcuWKS4uTmFhYRo/frz27Nnjs42mpiYtWLBA0dHRCg8P1/Tp01VdXe1T4/F4lJ6eLpfLJZfLpfT0dNXV1fnUVFVVadq0aQoPD1d0dLQyMjLU3NzcFYcNoBvgYmkA39QlQegXv/iFCgsL9eqrr2r37t1KTk7WxIkTdfDgQUnS6tWrlZOTo9zcXJWVlcntdmvSpEk6duyYtY3MzExt2bJFeXl5Kioq0vHjx5WamurzCywtLU0VFRXKz89Xfn6+KioqlJ6ebq1vbW1VSkqKTpw4oaKiIuXl5Wnz5s1avHhxVxw2gG6Ai6UB+DCd7OTJkyYwMNC89dZbPuPXX3+9eeihh0xbW5txu91m1apV1rrGxkbjcrnMunXrjDHG1NXVmeDgYJOXl2fVHDx40AQEBJj8/HxjjDF79+41ksyOHTusmpKSEiPJfPLJJ8YYY95++20TEBBgDh48aNVs2rTJOJ1O4/V6L+h4vF6vkXTB9QAufdu2bTNJSUkdlnfeecffrQHoJBf6+d3pM0KnTp1Sa2urQkNDfcbDwsJUVFSkffv2qba2VsnJydY6p9OppKQkFRcXS5LKy8vV0tLiUxMXF6f4+HirpqSkRC6XS4mJiVbN6NGj5XK5fGri4+MVFxdn1UyePFlNTU0qLy8/Y/9NTU2qr6/3WQBcXqZMmaKgoCCfsaCgIJ/fOQDsodODUEREhMaMGaPf/OY3+uKLL9Ta2qrXXntNpaWlqqmpUW1trSQpNjbW532xsbHWutraWoWEhCgyMvKcNTExMR32HxMT41PTfj+RkZEKCQmxatpbuXKldc2Ry+VSv379vsNXAcClbNeuXTp16pTP2KlTp7Rr1y4/dQTAX7rkGqFXX31VxhhdddVVcjqd+rd/+zelpaX5nJd3OBw+7zHGdBhrr33Nmeq/S803LV26VF6v11oOHDhwzp4AdC9tbW1asWLFGdetWLGCW+gBm+mSIHTNNddo+/btOn78uA4cOKCdO3eqpaVFgwYNktvtlqQOMzKHDx+2Zm/cbream5vl8XjOWXPo0KEO+z5y5IhPTfv9eDwetbS0dJgpOs3pdKpnz54+C4DLR2lp6VlPedfX16u0tPQidwTAn7r07wiFh4erT58+8ng8euedd/TTn/7UCkOFhYVWXXNzs7Zv366xY8dKkhISEhQcHOxTU1NTo8rKSqtmzJgx8nq92rlzp1VTWloqr9frU1NZWamamhqrpqCgQE6nUwkJCV156AAuUYmJiWf9H5z21x0CuPw5jDGmszf6zjvvyBijIUOG6O9//7t+/etfy+l0qqioSMHBwXriiSe0cuVKvfTSSxo8eLCys7P1wQcf6NNPP1VERIQk6b777tNbb72l9evXq3fv3srKytLRo0dVXl5unWKbOnWqvvjiCz3//POSpHvvvVcDBgzQn//8Z0lf3z5/ww03KDY2VmvWrNFXX32l2bNn69Zbb9UzzzxzQcdSX18vl8slr9fL7BBwmdi1a5eysrI6jOfk5Oimm27yQ0cAOtuFfn4HnXXN/4DX69XSpUtVXV2t3r176/bbb9fjjz+u4OBgSV8/z6ehoUHz5s2Tx+NRYmKiCgoKrBAkSU899ZSCgoI0Y8YMNTQ0aMKECVq/fr3PdUYbNmxQRkaGdafH9OnTlZuba60PDAzU1q1bNW/ePI0bN05hYWFKS0vT2rVru+KwAXRzXB8E2E+XzAhdTpgRAi4vbW1tuvXWW894nVDPnj31xhtvKCCApw8B3d2Ffn7z0w7AVrhYGsA3EYQA2AoXSwP4JoIQAFsJCAjQI488csZ1jz76KKfFAJvhJx6A7YwcOVLDhw/3GRsxYgR3jAE2RBACYEu/+c1vrNmfgICAs/61aQCXN4IQAFvq1auXZs6cqYCAAM2cOVO9evXyd0sA/IDb58+D2+cBAOh+uH0eAM6juLhYP//5z1VcXOzvVgD4CUEIgC01NjYqJydHhw4dUk5OjhobG/3dEgA/IAgBsKUNGzbo6NGjkqSjR49q48aNfu4IgD8QhADYTnV1tTZu3KjTl0gaY7Rx40ZVV1f7uTMAFxtBCICtGGP09NNPn3Wc+0cAeyEIAbCVqqoqlZWVqbW11We8tbVVZWVlqqqq8lNnAPyBIATAVvr376+bb75ZgYGBPuOBgYEaNWqU+vfv76fOAPgDQQiArTgcDi1cuPCs4w6Hww9dAfAXghAA2+nbt6/S0tKs0ONwOJSWlqarrrrKz50BuNgIQgBsaebMmYqKipIkRUdHKy0tzc8dAfAHghAAWwoNDdUDDzyg2NhYLVq0SKGhof5uCYAfEIQA2NbHH3+sI0eO6OOPP/Z3KwD8hCAEwJbq6uq0YcMGtbW1acOGDaqrq/N3SwD8gCAEwJYefvhhtbW1SZLa2tr0yCOP+LkjAP5AEAJgO7t27dLu3bt9xj766CPt2rXLTx0B8BeCEABbaWtr04oVK864bsWKFdYsEQB7IAgBsJXS0lLV19efcV19fb1KS0svckcA/IkgBMBWEhMT1bNnzzOuc7lcSkxMvMgdAfAnghAAWwkICDjrhdGPPvqoAgL4tQjYCT/xAGxn5MiRGj58uM/YiBEjdNNNN/mpIwD+QhACYEu/+c1vrNmfgICAs15ADeDyRhACYEu9evXSzJkzFRAQoJkzZ6pXr17+bgmAHziMMcbfTVzK6uvr5XK55PV6z3qBJQAAuLRc6Oc3M0IAAMC2CEIAAMC2CEIAAMC2CEIAAMC2Oj0InTp1Sv/7f/9vDRo0SGFhYbr66qs7PL/HGKNly5YpLi5OYWFhGj9+vPbs2eOznaamJi1YsEDR0dEKDw/X9OnTVV1d7VPj8XiUnp4ul8sll8ul9PR01dXV+dRUVVVp2rRpCg8PV3R0tDIyMtTc3NzZhw0AALqhTg9CTzzxhNatW6fc3Fx9/PHHWr16tdasWaNnnnnGqlm9erVycnKUm5ursrIyud1uTZo0SceOHbNqMjMztWXLFuXl5amoqEjHjx9XamqqWltbrZq0tDRVVFQoPz9f+fn5qqioUHp6urW+tbVVKSkpOnHihIqKipSXl6fNmzdr8eLFnX3YAACgOzKdLCUlxdxzzz0+Yz/72c/MXXfdZYwxpq2tzbjdbrNq1SprfWNjo3G5XGbdunXGGGPq6upMcHCwycvLs2oOHjxoAgICTH5+vjHGmL179xpJZseOHVZNSUmJkWQ++eQTY4wxb7/9tgkICDAHDx60ajZt2mScTqfxer0XdDxer9dIuuB6AADgfxf6+d3pM0I/+MEP9N577+mzzz6TJP3Xf/2XioqK9JOf/ESStG/fPtXW1io5Odl6j9PpVFJSkoqLiyVJ5eXlamlp8amJi4tTfHy8VVNSUtLhAYmjR4+Wy+XyqYmPj1dcXJxVM3nyZDU1Nam8vPyM/Tc1Nam+vt5nAQAAl6egzt7ggw8+KK/Xq+9///sKDAxUa2urHn/8cd15552SpNraWklSbGysz/tiY2O1f/9+qyYkJESRkZEdak6/v7a2VjExMR32HxMT41PTfj+RkZEKCQmxatpbuXKlli9f/m0PGwAAdEOdPiP0+uuv67XXXtPGjRv1t7/9TS+//LLWrl2rl19+2afO4XD4vDbGdBhrr33Nmeq/S803LV26VF6v11oOHDhwzp4AAED31ekzQr/+9a/1L//yL7rjjjskScOHD9f+/fu1cuVKzZo1S263W9LXszV9+vSx3nf48GFr9sbtdqu5uVkej8dnVujw4cMaO3asVXPo0KEO+z9y5IjPdkpLS33WezwetbS0dJgpOs3pdMrpdH7XwwcAAN1Ip88InTx50nqi82mBgYHW7fODBg2S2+1WYWGhtb65uVnbt2+3Qk5CQoKCg4N9ampqalRZWWnVjBkzRl6vVzt37rRqSktL5fV6fWoqKytVU1Nj1RQUFMjpdCohIaGTjxwAAHQ3nT4jNG3aND3++OPq37+/rrvuOn344YfKycnRPffcI+nrU1WZmZnKzs7W4MGDNXjwYGVnZ6tHjx5KS0uTJLlcLs2ZM0eLFy9WVFSUevfuraysLA0fPlwTJ06UJA0dOlRTpkzR3Llz9fzzz0uS7r33XqWmpmrIkCGSpOTkZA0bNkzp6elas2aNvvrqK2VlZWnu3Lk8QBUAAHT+7fP19fVm4cKFpn///iY0NNRcffXV5qGHHjJNTU1WTVtbm3n00UeN2+02TqfT/OhHPzK7d+/22U5DQ4OZP3++6d27twkLCzOpqammqqrKp+bo0aNm5syZJiIiwkRERJiZM2caj8fjU7N//36TkpJiwsLCTO/evc38+fNNY2PjBR8Pt88DAND9XOjnt8MYY/wdxi5l9fX1crlc8nq9zCIBANBNXOjnN88aAwAAtkUQAgAAtkUQAgAAtkUQAgAAttXpt88DODtjjBobG/3dBvT196KpqUnS139I9Xx/2R4XR2hoKN8LXFQEIeAiamxs1NSpU/3dBnDJ2rZtm8LCwvzdBmyEU2MAAMC2mBECLqLQ0FBt27bN321AX8/O3XbbbZKkLVu2KDQ01M8dQRLfB1x0BCHgInI4HEz7X4JCQ0P5vgA2xakxAABgWwQhAABgWwQhAABgWwQhAABgWwQhAABgWwQhAABgWwQhAABgWwQhAABgWwQhAABgWwQhAABgWwQhAABgWwQhAABgWwQhAABgWwQhAABgWwQhAABgWwQhAABgWwQhAABgWwQhAABgWwQhAABgWwQhAABgWwQhAABgWwQhAABgWwQhAABgWwQhAABgWwQhAABgW50ehAYOHCiHw9Fhuf/++yVJxhgtW7ZMcXFxCgsL0/jx47Vnzx6fbTQ1NWnBggWKjo5WeHi4pk+frurqap8aj8ej9PR0uVwuuVwupaenq66uzqemqqpK06ZNU3h4uKKjo5WRkaHm5ubOPmQAANBNdXoQKisrU01NjbUUFhZKkv75n/9ZkrR69Wrl5OQoNzdXZWVlcrvdmjRpko4dO2ZtIzMzU1u2bFFeXp6Kiop0/PhxpaamqrW11apJS0tTRUWF8vPzlZ+fr4qKCqWnp1vrW1tblZKSohMnTqioqEh5eXnavHmzFi9e3NmHDAAAuivTxRYuXGiuueYa09bWZtra2ozb7TarVq2y1jc2NhqXy2XWrVtnjDGmrq7OBAcHm7y8PKvm4MGDJiAgwOTn5xtjjNm7d6+RZHbs2GHVlJSUGEnmk08+McYY8/bbb5uAgABz8OBBq2bTpk3G6XQar9d7wf17vV4j6Vu9B8Cl7+TJkyYpKckkJSWZkydP+rsdAJ3sQj+/u/QaoebmZr322mu655575HA4tG/fPtXW1io5OdmqcTqdSkpKUnFxsSSpvLxcLS0tPjVxcXGKj4+3akpKSuRyuZSYmGjVjB49Wi6Xy6cmPj5ecXFxVs3kyZPV1NSk8vLys/bc1NSk+vp6nwUAAFyeujQIvfHGG6qrq9Ps2bMlSbW1tZKk2NhYn7rY2FhrXW1trUJCQhQZGXnOmpiYmA77i4mJ8alpv5/IyEiFhIRYNWeycuVK67ojl8ulfv36fYsjBgAA3UmXBqEXX3xRU6dO9ZmVkSSHw+Hz2hjTYay99jVnqv8uNe0tXbpUXq/XWg4cOHDOvgAAQPfVZUFo//79evfdd/WLX/zCGnO73ZLUYUbm8OHD1uyN2+1Wc3OzPB7POWsOHTrUYZ9HjhzxqWm/H4/Ho5aWlg4zRd/kdDrVs2dPnwUAAFyeuiwIvfTSS4qJiVFKSoo1NmjQILndbutOMunr64i2b9+usWPHSpISEhIUHBzsU1NTU6PKykqrZsyYMfJ6vdq5c6dVU1paKq/X61NTWVmpmpoaq6agoEBOp1MJCQldc9AAAKBbCeqKjba1temll17SrFmzFBT037twOBzKzMxUdna2Bg8erMGDBys7O1s9evRQWlqaJMnlcmnOnDlavHixoqKi1Lt3b2VlZWn48OGaOHGiJGno0KGaMmWK5s6dq+eff16SdO+99yo1NVVDhgyRJCUnJ2vYsGFKT0/XmjVr9NVXXykrK0tz585llgcAAEjqoiD07rvvqqqqSvfcc0+HdUuWLFFDQ4PmzZsnj8ejxMREFRQUKCIiwqp56qmnFBQUpBkzZqihoUETJkzQ+vXrFRgYaNVs2LBBGRkZ1t1l06dPV25urrU+MDBQW7du1bx58zRu3DiFhYUpLS1Na9eu7YpDBgAA3ZDDGGP83cSlrL6+Xi6XS16vl5kk4DLS0NCgqVOnSpK2bdumsLAwP3cEoDNd6Oc3zxoDAAC2RRACAAC2RRACAAC2RRACAAC2RRACAAC2RRACAAC2RRACAAC2RRACAAC2RRACAAC2RRACAAC2RRACAAC2RRACAAC2RRACAAC2RRACAAC2RRACAAC2RRACAAC2RRACAAC2RRACAAC2RRACAAC2RRACAAC2RRACAAC2RRACAAC2RRACAAC2RRACAAC2RRACAAC2RRACAAC2RRACAAC2RRACAAC2RRACAAC2RRACAAC2RRACAAC2RRACAAC2RRACAAC21SVB6ODBg7rrrrsUFRWlHj166IYbblB5ebm13hijZcuWKS4uTmFhYRo/frz27Nnjs42mpiYtWLBA0dHRCg8P1/Tp01VdXe1T4/F4lJ6eLpfLJZfLpfT0dNXV1fnUVFVVadq0aQoPD1d0dLQyMjLU3NzcFYcNAAC6mU4PQh6PR+PGjVNwcLC2bdumvXv36sknn1SvXr2smtWrVysnJ0e5ubkqKyuT2+3WpEmTdOzYMasmMzNTW7ZsUV5enoqKinT8+HGlpqaqtbXVqklLS1NFRYXy8/OVn5+viooKpaenW+tbW1uVkpKiEydOqKioSHl5edq8ebMWL17c2YcNAAC6I9PJHnzwQfODH/zgrOvb2tqM2+02q1atssYaGxuNy+Uy69atM8YYU1dXZ4KDg01eXp5Vc/DgQRMQEGDy8/ONMcbs3bvXSDI7duywakpKSowk88knnxhjjHn77bdNQECAOXjwoFWzadMm43Q6jdfrvaDj8Xq9RtIF1wPoHk6ePGmSkpJMUlKSOXnypL/bAdDJLvTzu9NnhN58802NHDlS//zP/6yYmBjdeOON+vd//3dr/b59+1RbW6vk5GRrzOl0KikpScXFxZKk8vJytbS0+NTExcUpPj7eqikpKZHL5VJiYqJVM3r0aLlcLp+a+Ph4xcXFWTWTJ09WU1OTz6k6AABgT50ehP7f//t/eu655zR48GC98847+tWvfqWMjAy98sorkqTa2lpJUmxsrM/7YmNjrXW1tbUKCQlRZGTkOWtiYmI67D8mJsanpv1+IiMjFRISYtW019TUpPr6ep8FAABcnoI6e4NtbW0aOXKksrOzJUk33nij9uzZo+eee0533323VedwOHzeZ4zpMNZe+5oz1X+Xmm9auXKlli9ffs4+AADA5aHTZ4T69OmjYcOG+YwNHTpUVVVVkiS32y1JHWZkDh8+bM3euN1uNTc3y+PxnLPm0KFDHfZ/5MgRn5r2+/F4PGppaekwU3Ta0qVL5fV6reXAgQMXdNwAAKD76fQgNG7cOH366ac+Y5999pkGDBggSRo0aJDcbrcKCwut9c3Nzdq+fbvGjh0rSUpISFBwcLBPTU1NjSorK62aMWPGyOv1aufOnVZNaWmpvF6vT01lZaVqamqsmoKCAjmdTiUkJJyxf6fTqZ49e/osAADg8tTpp8YWLVqksWPHKjs7WzNmzNDOnTv1wgsv6IUXXpD09amqzMxMZWdna/DgwRo8eLCys7PVo0cPpaWlSZJcLpfmzJmjxYsXKyoqSr1791ZWVpaGDx+uiRMnSvp6lmnKlCmaO3eunn/+eUnSvffeq9TUVA0ZMkSSlJycrGHDhik9PV1r1qzRV199paysLM2dO5eAAwAAOj8I3XzzzdqyZYuWLl2qFStWaNCgQfrtb3+rmTNnWjVLlixRQ0OD5s2bJ4/Ho8TERBUUFCgiIsKqeeqppxQUFKQZM2aooaFBEyZM0Pr16xUYGGjVbNiwQRkZGdbdZdOnT1dubq61PjAwUFu3btW8efM0btw4hYWFKS0tTWvXru3sw76kGWPU2Njo7zaAS8o3fyb4+QA6Cg0NPe+1u5cDhzHG+LuJS1l9fb1cLpe8Xm+3nUVqaGjQ1KlT/d0GAKAb2bZtm8LCwvzdxnd2oZ/fPGsMAADYVqefGsOl7fgNd8oE8G0HZIzUdurrfwcESTY4BQCcj6PtlK6o2OTvNi4qPhFtxgQESYHB/m4DuESE+LsB4JJix2tlODUGAABsiyAEAABsiyAEAABsiyAEAABsiyAEAABsiyAEAABsiyAEAABsiyAEAABsiyAEAABsiyAEAABsiyAEAABsiyAEAABsiyAEAABsiyAEAABsiyAEAABsiyAEAABsiyAEAABsiyAEAABsiyAEAABsiyAEAABsiyAEAABsiyAEAABsiyAEAABsiyAEAABsiyAEAABsiyAEAABsiyAEAABsiyAEAABsiyAEAABsiyAEAABsiyAEAABsK6izN7hs2TItX77cZyw2Nla1tbWSJGOMli9frhdeeEEej0eJiYn63e9+p+uuu86qb2pqUlZWljZt2qSGhgZNmDBBzz77rPr27WvVeDweZWRk6M0335QkTZ8+Xc8884x69epl1VRVVen+++/X+++/r7CwMKWlpWnt2rUKCQnp7MO+pBlj/vtFa4v/GgEAXNq+8Rnh89lxGev0ICRJ1113nd59913rdWBgoPXv1atXKycnR+vXr9e1116rxx57TJMmTdKnn36qiIgISVJmZqb+/Oc/Ky8vT1FRUVq8eLFSU1NVXl5ubSstLU3V1dXKz8+XJN17771KT0/Xn//8Z0lSa2urUlJSdOWVV6qoqEhHjx7VrFmzZIzRM8880xWHfclqamqy/h3xX3l+7AQA0F00NTWpR48e/m6jy3VJEAoKCpLb7e4wbozRb3/7Wz300EP62c9+Jkl6+eWXFRsbq40bN+qXv/ylvF6vXnzxRb366quaOHGiJOm1115Tv3799O6772ry5Mn6+OOPlZ+frx07digxMVGS9O///u8aM2aMPv30Uw0ZMkQFBQXau3evDhw4oLi4OEnSk08+qdmzZ+vxxx9Xz549u+LQAQBAN9IlQejzzz9XXFycnE6nEhMTlZ2drauvvlr79u1TbW2tkpOTrVqn06mkpCQVFxfrl7/8pcrLy9XS0uJTExcXp/j4eBUXF2vy5MkqKSmRy+WyQpAkjR49Wi6XS8XFxRoyZIhKSkoUHx9vhSBJmjx5spqamlReXq4f//jHZ+y9qanJZwalvr6+M780fuF0Oq1/H7v+Dikw2I/dAAAuWa0t1pmDb352XM46PQglJibqlVde0bXXXqtDhw7pscce09ixY7Vnzx7rOqHY2Fif98TGxmr//v2SpNraWoWEhCgyMrJDzen319bWKiYmpsO+Y2JifGra7ycyMlIhISFWzZmsXLmywzVO3Z3D4fjvF4HBBCEAwHn5fHZcxjr9rrGpU6fq9ttv1/DhwzVx4kRt3bpV0tenwE5r/8U1xpz3C96+5kz136WmvaVLl8rr9VrLgQMHztkXAADovrr89vnw8HANHz5cn3/+uXXdUPsZmcOHD1uzN263W83NzfJ4POesOXToUId9HTlyxKem/X48Ho9aWlo6zBR9k9PpVM+ePX0WAABweeryINTU1KSPP/5Yffr00aBBg+R2u1VYWGitb25u1vbt2zV27FhJUkJCgoKDg31qampqVFlZadWMGTNGXq9XO3futGpKS0vl9Xp9aiorK1VTU2PVFBQUyOl0KiEhoUuPGQAAdA+dfo1QVlaWpk2bpv79++vw4cN67LHHVF9fr1mzZsnhcCgzM1PZ2dkaPHiwBg8erOzsbPXo0UNpaWmSJJfLpTlz5mjx4sWKiopS7969lZWVZZ1qk6ShQ4dqypQpmjt3rp5//nlJX98+n5qaqiFDhkiSkpOTNWzYMKWnp2vNmjX66quvlJWVpblz5zLLAwAAJHVBEKqurtadd96pL7/8UldeeaVGjx6tHTt2aMCAAZKkJUuWqKGhQfPmzbP+oGJBQYH1N4Qk6amnnlJQUJBmzJhh/UHF9evX+/w9og0bNigjI8O6u2z69OnKzc211gcGBmrr1q2aN2+exo0b5/MHFQEAACTJYezypyO/o/r6erlcLnm93m47k9TQ0KCpU6dKko7dlM5dYwCAM2ttUcTfXpUkbdu2TWFhYX5u6Lu70M9vnjUGAABsiyAEAABsiyAEAABsiyAEAABsiyAEAABsiyAEAABsiyAEAABsiyAEAABsiyAEAABsiyAEAABsiyAEAABsiyAEAABsiyAEAABsiyAEAABsiyAEAABsiyAEAABsiyAEAABsiyAEAABsK8jfDeDicrSdkvF3E8ClwBip7dTX/w4IkhwO//YDXAIcp38mbIQgZDNXVGzydwsAAFwyODUGAABsixkhGwgNDdW2bdv83QZwSWlsbNRtt90mSdqyZYtCQ0P93BFwabHLzwRByAYcDofCwsL83QZwyQoNDeVnBLApTo0BAADbIggBAADbIggBAADbIggBAADbIggBAADbIggBAADbIggBAADbIggBAADbIggBAADbIggBAADbIggBAADb6vIgtHLlSjkcDmVmZlpjxhgtW7ZMcXFxCgsL0/jx47Vnzx6f9zU1NWnBggWKjo5WeHi4pk+frurqap8aj8ej9PR0uVwuuVwupaenq66uzqemqqpK06ZNU3h4uKKjo5WRkaHm5uauOlwAANCNdGkQKisr0wsvvKARI0b4jK9evVo5OTnKzc1VWVmZ3G63Jk2apGPHjlk1mZmZ2rJli/Ly8lRUVKTjx48rNTVVra2tVk1aWpoqKiqUn5+v/Px8VVRUKD093Vrf2tqqlJQUnThxQkVFRcrLy9PmzZu1ePHirjxsAADQXZgucuzYMTN48GBTWFhokpKSzMKFC40xxrS1tRm3221WrVpl1TY2NhqXy2XWrVtnjDGmrq7OBAcHm7y8PKvm4MGDJiAgwOTn5xtjjNm7d6+RZHbs2GHVlJSUGEnmk08+McYY8/bbb5uAgABz8OBBq2bTpk3G6XQar9d7Qcfh9XqNpAuuB9A9nDx50iQlJZmkpCRz8uRJf7cDoJNd6Od3l80I3X///UpJSdHEiRN9xvft26fa2lolJydbY06nU0lJSSouLpYklZeXq6WlxacmLi5O8fHxVk1JSYlcLpcSExOtmtGjR8vlcvnUxMfHKy4uzqqZPHmympqaVF5efsa+m5qaVF9f77MAAIDLU1BXbDQvL09/+9vfVFZW1mFdbW2tJCk2NtZnPDY2Vvv377dqQkJCFBkZ2aHm9Ptra2sVExPTYfsxMTE+Ne33ExkZqZCQEKumvZUrV2r58uUXcpgAAKCb6/QZoQMHDmjhwoV67bXXFBoaetY6h8Ph89oY02GsvfY1Z6r/LjXftHTpUnm9Xms5cODAOXsCAADdV6cHofLych0+fFgJCQkKCgpSUFCQtm/frn/7t39TUFCQNUPTfkbm8OHD1jq3263m5mZ5PJ5z1hw6dKjD/o8cOeJT034/Ho9HLS0tHWaKTnM6nerZs6fPAgAALk+dHoQmTJig3bt3q6KiwlpGjhypmTNnqqKiQldffbXcbrcKCwut9zQ3N2v79u0aO3asJCkhIUHBwcE+NTU1NaqsrLRqxowZI6/Xq507d1o1paWl8nq9PjWVlZWqqamxagoKCuR0OpWQkNDZhw4AALqZTr9GKCIiQvHx8T5j4eHhioqKssYzMzOVnZ2twYMHa/DgwcrOzlaPHj2UlpYmSXK5XJozZ44WL16sqKgo9e7dW1lZWRo+fLh18fXQoUM1ZcoUzZ07V88//7wk6d5771VqaqqGDBkiSUpOTtawYcOUnp6uNWvW6KuvvlJWVpbmzp3LTA8AAOiai6XPZ8mSJWpoaNC8efPk8XiUmJiogoICRUREWDVPPfWUgoKCNGPGDDU0NGjChAlav369AgMDrZoNGzYoIyPDurts+vTpys3NtdYHBgZq69atmjdvnsaNG6ewsDClpaVp7dq1F+9gAQDAJcthjDH+buJSVl9fL5fLJa/XyywScBlpaGjQ1KlTJUnbtm1TWFiYnzsC0Jku9PObZ40BAADbIggBAADbIggBAADbIggBAADbIggBAADbIggBAADbIggBAADbIggBAADbIggBAADbIggBAADbIggBAADbIggBAADbIggBAADbIggBAADbIggBAADbIggBAADbIggBAADbIggBAADbIggBAADbIggBAADbIggBAADbIggBAADbIggBAADbIggBAADbIggBAADbIggBAADbIggBAADbIggBAADbIggBAADbIggBAADbIggBAADbIggBAADbIggBAADbIggBAADb6vQg9Nxzz2nEiBHq2bOnevbsqTFjxmjbtm3WemOMli1bpri4OIWFhWn8+PHas2ePzzaampq0YMECRUdHKzw8XNOnT1d1dbVPjcfjUXp6ulwul1wul9LT01VXV+dTU1VVpWnTpik8PFzR0dHKyMhQc3NzZx8yAADopjo9CPXt21erVq3Srl27tGvXLt1yyy366U9/aoWd1atXKycnR7m5uSorK5Pb7dakSZN07NgxaxuZmZnasmWL8vLyVFRUpOPHjys1NVWtra1WTVpamioqKpSfn6/8/HxVVFQoPT3dWt/a2qqUlBSdOHFCRUVFysvL0+bNm7V48eLOPmQAANBdmYsgMjLS/P73vzdtbW3G7XabVatWWesaGxuNy+Uy69atM8YYU1dXZ4KDg01eXp5Vc/DgQRMQEGDy8/ONMcbs3bvXSDI7duywakpKSowk88knnxhjjHn77bdNQECAOXjwoFWzadMm43Q6jdfrveDevV6vkfSt3gPg0nfy5EmTlJRkkpKSzMmTJ/3dDoBOdqGf3116jVBra6vy8vJ04sQJjRkzRvv27VNtba2Sk5OtGqfTqaSkJBUXF0uSysvL1dLS4lMTFxen+Ph4q6akpEQul0uJiYlWzejRo+VyuXxq4uPjFRcXZ9VMnjxZTU1NKi8vP2vPTU1Nqq+v91kAAMDlKagrNrp7926NGTNGjY2NuuKKK7RlyxYNGzbMCimxsbE+9bGxsdq/f78kqba2ViEhIYqMjOxQU1tba9XExMR02G9MTIxPTfv9REZGKiQkxKo5k5UrV2r58uXf8oiBC2OMUWNjo7/bgOTzfeB7cukIDQ2Vw+HwdxuwkS4JQkOGDFFFRYXq6uq0efNmzZo1S9u3b7fWt/+P3Bhz3v/w29ecqf671LS3dOlSPfDAA9br+vp69evX75y9AReqsbFRU6dO9XcbaOe2227zdwv4/23btk1hYWH+bgM20iWnxkJCQvS9731PI0eO1MqVK3X99dfr6aefltvtlqQOMzKHDx+2Zm/cbream5vl8XjOWXPo0KEO+z1y5IhPTfv9eDwetbS0dJgp+ian02nd8XZ6AQAAl6cumRFqzxijpqYmDRo0SG63W4WFhbrxxhslSc3Nzdq+fbueeOIJSVJCQoKCg4NVWFioGTNmSJJqampUWVmp1atXS5LGjBkjr9ernTt3atSoUZKk0tJSeb1ejR071qp5/PHHVVNToz59+kiSCgoK5HQ6lZCQcDEOG+ggNDTU589JwH9O/16Svv4fIE7HXBpCQ0P93QJsptOD0L/+679q6tSp6tevn44dO6a8vDx98MEHys/Pl8PhUGZmprKzszV48GANHjxY2dnZ6tGjh9LS0iRJLpdLc+bM0eLFixUVFaXevXsrKytLw4cP18SJEyVJQ4cO1ZQpUzR37lw9//zzkqR7771XqampGjJkiCQpOTlZw4YNU3p6utasWaOvvvpKWVlZmjt3LrM88BuHw8G0/yWkR48e/m4BgJ91ehA6dOiQ0tPTVVNTI5fLpREjRig/P1+TJk2SJC1ZskQNDQ2aN2+ePB6PEhMTVVBQoIiICGsbTz31lIKCgjRjxgw1NDRowoQJWr9+vQIDA62aDRs2KCMjw7q7bPr06crNzbXWBwYGauvWrZo3b57GjRunsLAwpaWlae3atZ19yAAAoJtyGGOMv5u4lNXX18vlcsnr9TKTBABAN3Ghn988awwAANgWQQgAANgWQQgAANgWQQgAANgWQQgAANgWQQgAANgWQQgAANgWQQgAANgWQQgAANgWQQgAANgWQQgAANhWpz909XJz+lFs9fX1fu4EAABcqNOf2+d7pCpB6DyOHTsmSerXr5+fOwEAAN/WsWPH5HK5zrqep8+fR1tbm7744gtFRETI4XD4ux0Anai+vl79+vXTgQMHzvl0agDdjzFGx44dU1xcnAICzn4lEEEIgG3V19fL5XLJ6/UShACb4mJpAABgWwQhAABgWwQhALbldDr16KOPyul0+rsVAH7CNUIAAMC2mBECAAC2RRACAAC2RRACAAC2RRACAAC2RRACYEvPPvusBg0apNDQUCUkJOivf/2rv1sC4AcEIQC28/rrryszM1MPPfSQPvzwQ/3whz/U1KlTVVVV5e/WAFxk3D4PwHYSExN100036bnnnrPGhg4dqltvvVUrV670Y2cALjZmhADYSnNzs8rLy5WcnOwznpycrOLiYj91BcBfCEIAbOXLL79Ua2urYmNjfcZjY2NVW1vrp64A+AtBCIAtORwOn9fGmA5jAC5/BCEAthIdHa3AwMAOsz+HDx/uMEsE4PJHEAJgKyEhIUpISFBhYaHPeGFhocaOHeunrgD4S5C/GwCAi+2BBx5Qenq6Ro4cqTFjxuiFF15QVVWVfvWrX/m7NQAXGUEIgO38/Oc/19GjR7VixQrV1NQoPj5eb7/9tgYMGODv1gBcZPwdIQAAYFtcIwQAAGyLIAQAAGyLIAQAAGyLIAQAAGyLIAQAAGyLIAQAAGyLIAQAAGyLIAQAAGyLIATgkjZ79mzdeuut/m4DwGWKIAQAAGyLIASg2xg/frwyMjK0ZMkS9e7dW263W8uWLfOpqaur07333qvY2FiFhoYqPj5eb731lrV+8+bNuu666+R0OjVw4EA9+eSTPu8fOHCgHnvsMd1999264oorNGDAAP3pT3/SkSNH9NOf/lRXXHGFhg8frl27dvm8r7i4WD/60Y8UFhamfv36KSMjQydOnOiyrwWAzkEQAtCtvPzyywoPD1dpaalWr16tFStWqLCwUJLU1tamqVOnqri4WK+99pr27t2rVatWKTAwUJJUXl6uGTNm6I477tDu3bu1bNkyPfzww1q/fr3PPp566imNGzdOH374oVJSUpSenq67775bd911l/72t7/pe9/7nu6++26dflTj7t27NXnyZP3sZz/TRx99pNdff11FRUWaP3/+Rf3aAPj2eOgqgEva7NmzVVdXpzfeeEPjx49Xa2ur/vrXv1rrR40apVtuuUWrVq1SQUGBpk6dqo8//ljXXntth23NnDlTR44cUUFBgTW2ZMkSbd26VXv27JH09YzQD3/4Q7366quSpNraWvXp00cPP/ywVqxYIUnasWOHxowZo5qaGrndbt19990KCwvT888/b223qKhISUlJOnHihEJDQ7vkawPgf44ZIQDdyogRI3xe9+nTR4cPH5YkVVRUqG/fvmcMQZL08ccfa9y4cT5j48aN0+eff67W1tYz7iM2NlaSNHz48A5jp/dbXl6u9evX64orrrCWyZMnq62tTfv27fuuhwrgIgjydwMA8G0EBwf7vHY4HGpra5MkhYWFnfO9xhg5HI4OY+fax+n6M42d3m9bW5t++ctfKiMjo8O2+vfvf86eAPgXQQjAZWPEiBGqrq7WZ599dsZZoWHDhqmoqMhnrLi4WNdee611HdF3cdNNN2nPnj363ve+9523AcA/ODUG4LKRlJSkH/3oR7r99ttVWFioffv2adu2bcrPz5ckLV68WO+9955+85vf6LPPPtPLL7+s3NxcZWVl/Y/2++CDD6qkpET333+/Kioq9Pnnn+vNN9/UggULOuOwAHQhghCAy8rmzZt18803684779SwYcO0ZMkS6/qfm266Sf/xH/+hvLw8xcfH65FHHtGKFSs0e/bs/9E+R4wYoe3bt+vzzz/XD3/4Q9144416+OGH1adPn044IgBdibvGAACAbTEjBAAAbIsgBAAAbIsgBAAAbIsgBAAAbIsgBAAAbIsgBAAAbIsgBAAAbIsgBAAAbIsgBAAAbIsgBAAAbIsgBAAAbIsgBAAAbOv/A8rzyWxDJeBoAAAAAElFTkSuQmCC\",","      \"text/plain\": [","       \"\u003cFigure size 640x480 with 1 Axes\u003e\"","      ]","     },","     \"metadata\": {},","     \"output_type\": \"display_data\"","    }","   ],","   \"source\": [","    \"sns.boxplot(df[\\\"Income\\\"])\\n\",","    \"plt.xlabel(\\\"Income\\\")\\n\",","    \"plt.title(\\\"Boxplot of Income\\\")\\n\",","    \"plt.show()\\n\"","   ]","  },","  {","   \"cell_type\": \"code\",","   \"execution_count\": 9,","   \"id\": \"0d81fe41-de73-411c-b0b5-15aa8035d694\",","   \"metadata\": {},","   \"outputs\": [","    {","     \"data\": {","      \"image/png\": \"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\",","      \"text/plain\": [","       \"\u003cFigure size 640x480 with 1 Axes\u003e\"","      ]","     },","     \"metadata\": {},","     \"output_type\": \"display_data\"","    }","   ],","   \"source\": [","    \"sns.barplot(x=\\\"Product\\\", y=\\\"Miles\\\", data=df)\\n\",","    \"plt.xlabel(\\\"Product\\\")\\n\",","    \"plt.ylabel(\\\"Average Miles\\\")\\n\",","    \"plt.title(\\\"Bar Plot of Product and Miles\\\")\\n\",","    \"plt.show()\\n\"","   ]","  },","  {","   \"cell_type\": \"code\",","   \"execution_count\": null,","   \"id\": \"1155ed4c-4e7d-445a-a10c-92f07bbce53d\",","   \"metadata\": {},","   \"outputs\": [","    {","     \"data\": {","      \"image/png\": \"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\",","      \"text/plain\": [","       \"\u003cFigure size 640x480 with 1 Axes\u003e\"","      ]","     },","     \"metadata\": {},","     \"output_type\": \"display_data\"","    }","   ],","   \"source\": []","  }"," ],"," \"metadata\": {","  \"kernelspec\": {","   \"display_name\": \"Python 3 (ipykernel)\",","   \"language\": \"python\",","   \"name\": \"python3\"","  },","  \"language_info\": {","   \"codemirror_mode\": {","    \"name\": \"ipython\",","    \"version\": 3","   },","   \"file_extension\": \".py\",","   \"mimetype\": \"text/x-python\",","   \"name\": \"python\",","   \"nbconvert_exporter\": \"python\",","   \"pygments_lexer\": \"ipython3\",","   \"version\": \"3.10.9\"","  }"," },"," \"nbformat\": 4,"," \"nbformat_minor\": 5","}"],"stylingDirectives":null,"csv":null,"csvError":null,"dependabotInfo":{"showConfigurationBanner":false,"configFilePath":null,"networkDependabotPath":"/itzmohanmadhav/datavisualization1/network/updates","dismissConfigurationNoticePath":"/settings/dismiss-notice/dependabot_configuration_notice","configurationNoticeDismissed":false,"repoAlertsPath":"/itzmohanmadhav/datavisualization1/security/dependabot","repoSecurityAndAnalysisPath":"/itzmohanmadhav/datavisualization1/settings/security_analysis","repoOwnerIsOrg":false,"currentUserCanAdminRepo":false},"displayName":"test3.ipynb","displayUrl":"https://notebooks.githubusercontent.com/view/ipynb?browser=edge\u0026bypass_fastly=true\u0026color_mode=auto\u0026commit=8395dbb03b1364ce13219cbe27b7445e721d5ec9\u0026device=unknown_device\u0026docs_host=https%3A%2F%2Fdocs.github.com\u0026enc_url=68747470733a2f2f7261772e67697468756275736572636f6e74656e742e636f6d2f69747a6d6f68616e6d61646861762f6461746176697375616c697a6174696f6e312f383339356462623033623133363463653133323139636265323762373434356537323164356563392f74657374332e6970796e62\u0026logged_in=true\u0026nwo=itzmohanmadhav%2Fdatavisualization1\u0026path=test3.ipynb\u0026platform=windows\u0026repository_id=684496603\u0026repository_type=Repository\u0026version=117","headerInfo":{"blobSize":"88.3 KB","deleteInfo":{"deleteTooltip":"Fork this repository and delete the file"},"editInfo":{"editTooltip":"Fork this repository and edit the file"},"ghDesktopPath":"https://desktop.github.com","gitLfsPath":null,"onBranch":true,"shortPath":"bc2e66a","siteNavLoginPath":"/login?return_to=https%3A%2F%2Fgithub.com%2Fitzmohanmadhav%2Fdatavisualization1%2Fblob%2Fmaster%2Ftest3.ipynb","isCSV":false,"isRichtext":false,"toc":null,"lineInfo":{"truncatedLoc":"459","truncatedSloc":"459"},"mode":"file"},"image":false,"isCodeownersFile":null,"isPlain":false,"isValidLegacyIssueTemplate":false,"issueTemplateHelpUrl":"https://docs.github.com/articles/about-issue-and-pull-request-templates","issueTemplate":null,"discussionTemplate":null,"language":"Jupyter Notebook","languageID":185,"large":false,"loggedIn":true,"newDiscussionPath":"/itzmohanmadhav/datavisualization1/discussions/new","newIssuePath":"/itzmohanmadhav/datavisualization1/issues/new","planSupportInfo":{"repoIsFork":null,"repoOwnedByCurrentUser":null,"requestFullPath":"/itzmohanmadhav/datavisualization1/blob/master/test3.ipynb","showFreeOrgGatedFeatureMessage":null,"showPlanSupportBanner":null,"upgradeDataAttributes":null,"upgradePath":null},"publishBannersInfo":{"dismissActionNoticePath":"/settings/dismiss-notice/publish_action_from_dockerfile","dismissStackNoticePath":"/settings/dismiss-notice/publish_stack_from_file","releasePath":"/itzmohanmadhav/datavisualization1/releases/new?marketplace=true","showPublishActionBanner":false,"showPublishStackBanner":false},"renderImageOrRaw":false,"richText":null,"renderedFileInfo":{"identityUUID":"34a62fe0-fe28-439f-b5d8-e0b40f37ba16","renderFileType":"ipynb","size":90385},"shortPath":null,"tabSize":8,"topBannersInfo":{"overridingGlobalFundingFile":false,"globalPreferredFundingPath":null,"repoOwner":"itzmohanmadhav","repoName":"datavisualization1","showInvalidCitationWarning":false,"citationHelpUrl":"https://docs.github.com/en/github/creating-cloning-and-archiving-repositories/creating-a-repository-on-github/about-citation-files","showDependabotConfigurationBanner":false,"actionsOnboardingTip":null},"truncated":false,"viewable":true,"workflowRedirectUrl":null,"symbols":{"timedOut":false,"notAnalyzed":true,"symbols":[]}},"copilotInfo":{"documentationUrl":"https://docs.github.com/copilot/overview-of-github-copilot/about-github-copilot-for-individuals","notices":{"codeViewPopover":{"dismissed":false,"dismissPath":"/settings/dismiss-notice/code_view_copilot_popover"}},"userAccess":{"accessAllowed":false,"hasSubscriptionEnded":false,"orgHasCFBAccess":false,"userHasCFIAccess":false,"userHasOrgs":false,"userIsOrgAdmin":false,"userIsOrgMember":false,"business":null,"featureRequestInfo":null}},"csrf_tokens":{"/itzmohanmadhav/datavisualization1/branches":{"post":"r4aROUcOdWeW1oxl9IazjD6nI4xRGTQYxTmPSiMj5N5cY6nr3d8DsDw8AIYHfxziUgFTr8k5ELd7Fkvy7VG9YA"},"/repos/preferences":{"post":"pqkrpA-pbUnUD7vyfcPYTmTzociyEkrdjkxPBPpyrNl6F1NZUTb1D0a3nsGUo4Zr4k5I0T_p9Y3TOt5GDpXQNg"}}},"title":"datavisualization1/test3.ipynb at master · itzmohanmadhav/datavisualization1","appPayload":{"helpUrl":"https://docs.github.com","findFileWorkerPath":"/assets-cdn/worker/find-file-worker-83d4418b406d.js","findInFileWorkerPath":"/assets-cdn/worker/find-in-file-worker-2dd6b5095052.js","githubDevUrl":"https://github.dev/","enabled_features":{"code_nav_ui_events":false,"copilot_conversational_ux":false,"copilot_conversational_ux_symbols":false,"copilot_conversational_ux_direct_connection":true,"copilot_conversational_ux_streaming":false,"copilot_popover_file_editor_header":true,"copilot_smell_icebreaker_ux":false}}}</script>
  <div data-target="react-app.reactRoot"></div>
</react-app>
</turbo-frame>



  </div>

</turbo-frame>

    </main>
  </div>

  </div>

          <footer class="footer width-full container-xl p-responsive" role="contentinfo">
  <h2 class='sr-only'>Footer</h2>

  <div class="position-relative d-flex flex-items-center pb-2 f6 color-fg-muted border-top color-border-muted flex-column-reverse flex-lg-row flex-wrap flex-lg-nowrap mt-6 pt-6">
    <div class="list-style-none d-flex flex-wrap col-0 col-lg-2 flex-justify-start flex-lg-justify-between mb-2 mb-lg-0">
      <div class="mt-2 mt-lg-0 d-flex flex-items-center">
        <a aria-label="Homepage" title="GitHub" class="footer-octicon mr-2" href="https://github.com">
          <svg aria-hidden="true" height="24" viewBox="0 0 16 16" version="1.1" width="24" data-view-component="true" class="octicon octicon-mark-github">
    <path d="M8 0c4.42 0 8 3.58 8 8a8.013 8.013 0 0 1-5.45 7.59c-.4.08-.55-.17-.55-.38 0-.27.01-1.13.01-2.2 0-.75-.25-1.23-.54-1.48 1.78-.2 3.65-.88 3.65-3.95 0-.88-.31-1.59-.82-2.15.08-.2.36-1.02-.08-2.12 0 0-.67-.22-2.2.82-.64-.18-1.32-.27-2-.27-.68 0-1.36.09-2 .27-1.53-1.03-2.2-.82-2.2-.82-.44 1.1-.16 1.92-.08 2.12-.51.56-.82 1.28-.82 2.15 0 3.06 1.86 3.75 3.64 3.95-.23.2-.44.55-.51 1.07-.46.21-1.61.55-2.33-.66-.15-.24-.6-.83-1.23-.82-.67.01-.27.38.01.53.34.19.73.9.82 1.13.16.45.68 1.31 2.69.94 0 .67.01 1.3.01 1.49 0 .21-.15.45-.55.38A7.995 7.995 0 0 1 0 8c0-4.42 3.58-8 8-8Z"></path>
</svg>
</a>        <span>
        &copy; 2023 GitHub, Inc.
        </span>
      </div>
    </div>

    <nav aria-label='Footer' class="col-12 col-lg-8">
      <h3 class='sr-only' id='sr-footer-heading'>Footer navigation</h3>
      <ul class="list-style-none d-flex flex-wrap col-12 flex-justify-center flex-lg-justify-between mb-2 mb-lg-0" aria-labelledby='sr-footer-heading'>
          <li class="mr-3 mr-lg-0"><a href="https://docs.github.com/site-policy/github-terms/github-terms-of-service" data-analytics-event="{&quot;category&quot;:&quot;Footer&quot;,&quot;action&quot;:&quot;go to terms&quot;,&quot;label&quot;:&quot;text:terms&quot;}">Terms</a></li>
          <li class="mr-3 mr-lg-0"><a href="https://docs.github.com/site-policy/privacy-policies/github-privacy-statement" data-analytics-event="{&quot;category&quot;:&quot;Footer&quot;,&quot;action&quot;:&quot;go to privacy&quot;,&quot;label&quot;:&quot;text:privacy&quot;}">Privacy</a></li>
          <li class="mr-3 mr-lg-0"><a data-analytics-event="{&quot;category&quot;:&quot;Footer&quot;,&quot;action&quot;:&quot;go to security&quot;,&quot;label&quot;:&quot;text:security&quot;}" href="https://github.com/security">Security</a></li>
          <li class="mr-3 mr-lg-0"><a href="https://www.githubstatus.com/" data-analytics-event="{&quot;category&quot;:&quot;Footer&quot;,&quot;action&quot;:&quot;go to status&quot;,&quot;label&quot;:&quot;text:status&quot;}">Status</a></li>
          <li class="mr-3 mr-lg-0"><a data-ga-click="Footer, go to help, text:Docs" href="https://docs.github.com">Docs</a></li>
          <li class="mr-3 mr-lg-0"><a href="https://support.github.com?tags=dotcom-footer" data-analytics-event="{&quot;category&quot;:&quot;Footer&quot;,&quot;action&quot;:&quot;go to contact&quot;,&quot;label&quot;:&quot;text:contact&quot;}">Contact GitHub</a></li>
          <li class="mr-3 mr-lg-0"><a href="https://github.com/pricing" data-analytics-event="{&quot;category&quot;:&quot;Footer&quot;,&quot;action&quot;:&quot;go to Pricing&quot;,&quot;label&quot;:&quot;text:Pricing&quot;}">Pricing</a></li>
        <li class="mr-3 mr-lg-0"><a href="https://docs.github.com" data-analytics-event="{&quot;category&quot;:&quot;Footer&quot;,&quot;action&quot;:&quot;go to api&quot;,&quot;label&quot;:&quot;text:api&quot;}">API</a></li>
        <li class="mr-3 mr-lg-0"><a href="https://services.github.com" data-analytics-event="{&quot;category&quot;:&quot;Footer&quot;,&quot;action&quot;:&quot;go to training&quot;,&quot;label&quot;:&quot;text:training&quot;}">Training</a></li>
          <li class="mr-3 mr-lg-0"><a href="https://github.blog" data-analytics-event="{&quot;category&quot;:&quot;Footer&quot;,&quot;action&quot;:&quot;go to blog&quot;,&quot;label&quot;:&quot;text:blog&quot;}">Blog</a></li>
          <li><a data-ga-click="Footer, go to about, text:about" href="https://github.com/about">About</a></li>
      </ul>
    </nav>
  </div>

  <div class="d-flex flex-justify-center pb-6">
    <span class="f6 color-fg-muted"></span>
  </div>
</footer>




  <div id="ajax-error-message" class="ajax-error-message flash flash-error" hidden>
    <svg aria-hidden="true" height="16" viewBox="0 0 16 16" version="1.1" width="16" data-view-component="true" class="octicon octicon-alert">
    <path d="M6.457 1.047c.659-1.234 2.427-1.234 3.086 0l6.082 11.378A1.75 1.75 0 0 1 14.082 15H1.918a1.75 1.75 0 0 1-1.543-2.575Zm1.763.707a.25.25 0 0 0-.44 0L1.698 13.132a.25.25 0 0 0 .22.368h12.164a.25.25 0 0 0 .22-.368Zm.53 3.996v2.5a.75.75 0 0 1-1.5 0v-2.5a.75.75 0 0 1 1.5 0ZM9 11a1 1 0 1 1-2 0 1 1 0 0 1 2 0Z"></path>
</svg>
    <button type="button" class="flash-close js-ajax-error-dismiss" aria-label="Dismiss error">
      <svg aria-hidden="true" height="16" viewBox="0 0 16 16" version="1.1" width="16" data-view-component="true" class="octicon octicon-x">
    <path d="M3.72 3.72a.75.75 0 0 1 1.06 0L8 6.94l3.22-3.22a.749.749 0 0 1 1.275.326.749.749 0 0 1-.215.734L9.06 8l3.22 3.22a.749.749 0 0 1-.326 1.275.749.749 0 0 1-.734-.215L8 9.06l-3.22 3.22a.751.751 0 0 1-1.042-.018.751.751 0 0 1-.018-1.042L6.94 8 3.72 4.78a.75.75 0 0 1 0-1.06Z"></path>
</svg>
    </button>
    You can’t perform that action at this time.
  </div>

    <template id="site-details-dialog">
  <details class="details-reset details-overlay details-overlay-dark lh-default color-fg-default hx_rsm" open>
    <summary role="button" aria-label="Close dialog"></summary>
    <details-dialog class="Box Box--overlay d-flex flex-column anim-fade-in fast hx_rsm-dialog hx_rsm-modal">
      <button class="Box-btn-octicon m-0 btn-octicon position-absolute right-0 top-0" type="button" aria-label="Close dialog" data-close-dialog>
        <svg aria-hidden="true" height="16" viewBox="0 0 16 16" version="1.1" width="16" data-view-component="true" class="octicon octicon-x">
    <path d="M3.72 3.72a.75.75 0 0 1 1.06 0L8 6.94l3.22-3.22a.749.749 0 0 1 1.275.326.749.749 0 0 1-.215.734L9.06 8l3.22 3.22a.749.749 0 0 1-.326 1.275.749.749 0 0 1-.734-.215L8 9.06l-3.22 3.22a.751.751 0 0 1-1.042-.018.751.751 0 0 1-.018-1.042L6.94 8 3.72 4.78a.75.75 0 0 1 0-1.06Z"></path>
</svg>
      </button>
      <div class="octocat-spinner my-6 js-details-dialog-spinner"></div>
    </details-dialog>
  </details>
</template>

    <div class="Popover js-hovercard-content position-absolute" style="display: none; outline: none;" tabindex="0">
  <div class="Popover-message Popover-message--bottom-left Popover-message--large Box color-shadow-large" style="width:360px;">
  </div>
</div>

    <template id="snippet-clipboard-copy-button">
  <div class="zeroclipboard-container position-absolute right-0 top-0">
    <clipboard-copy aria-label="Copy" class="ClipboardButton btn js-clipboard-copy m-2 p-0 tooltipped-no-delay" data-copy-feedback="Copied!" data-tooltip-direction="w">
      <svg aria-hidden="true" height="16" viewBox="0 0 16 16" version="1.1" width="16" data-view-component="true" class="octicon octicon-copy js-clipboard-copy-icon m-2">
    <path d="M0 6.75C0 5.784.784 5 1.75 5h1.5a.75.75 0 0 1 0 1.5h-1.5a.25.25 0 0 0-.25.25v7.5c0 .138.112.25.25.25h7.5a.25.25 0 0 0 .25-.25v-1.5a.75.75 0 0 1 1.5 0v1.5A1.75 1.75 0 0 1 9.25 16h-7.5A1.75 1.75 0 0 1 0 14.25Z"></path><path d="M5 1.75C5 .784 5.784 0 6.75 0h7.5C15.216 0 16 .784 16 1.75v7.5A1.75 1.75 0 0 1 14.25 11h-7.5A1.75 1.75 0 0 1 5 9.25Zm1.75-.25a.25.25 0 0 0-.25.25v7.5c0 .138.112.25.25.25h7.5a.25.25 0 0 0 .25-.25v-7.5a.25.25 0 0 0-.25-.25Z"></path>
</svg>
      <svg aria-hidden="true" height="16" viewBox="0 0 16 16" version="1.1" width="16" data-view-component="true" class="octicon octicon-check js-clipboard-check-icon color-fg-success d-none m-2">
    <path d="M13.78 4.22a.75.75 0 0 1 0 1.06l-7.25 7.25a.75.75 0 0 1-1.06 0L2.22 9.28a.751.751 0 0 1 .018-1.042.751.751 0 0 1 1.042-.018L6 10.94l6.72-6.72a.75.75 0 0 1 1.06 0Z"></path>
</svg>
    </clipboard-copy>
  </div>
</template>
<template id="snippet-clipboard-copy-button-unpositioned">
  <div class="zeroclipboard-container">
    <clipboard-copy aria-label="Copy" class="ClipboardButton btn btn-invisible js-clipboard-copy m-2 p-0 tooltipped-no-delay d-flex flex-justify-center flex-items-center" data-copy-feedback="Copied!" data-tooltip-direction="w">
      <svg aria-hidden="true" height="16" viewBox="0 0 16 16" version="1.1" width="16" data-view-component="true" class="octicon octicon-copy js-clipboard-copy-icon">
    <path d="M0 6.75C0 5.784.784 5 1.75 5h1.5a.75.75 0 0 1 0 1.5h-1.5a.25.25 0 0 0-.25.25v7.5c0 .138.112.25.25.25h7.5a.25.25 0 0 0 .25-.25v-1.5a.75.75 0 0 1 1.5 0v1.5A1.75 1.75 0 0 1 9.25 16h-7.5A1.75 1.75 0 0 1 0 14.25Z"></path><path d="M5 1.75C5 .784 5.784 0 6.75 0h7.5C15.216 0 16 .784 16 1.75v7.5A1.75 1.75 0 0 1 14.25 11h-7.5A1.75 1.75 0 0 1 5 9.25Zm1.75-.25a.25.25 0 0 0-.25.25v7.5c0 .138.112.25.25.25h7.5a.25.25 0 0 0 .25-.25v-7.5a.25.25 0 0 0-.25-.25Z"></path>
</svg>
      <svg aria-hidden="true" height="16" viewBox="0 0 16 16" version="1.1" width="16" data-view-component="true" class="octicon octicon-check js-clipboard-check-icon color-fg-success d-none">
    <path d="M13.78 4.22a.75.75 0 0 1 0 1.06l-7.25 7.25a.75.75 0 0 1-1.06 0L2.22 9.28a.751.751 0 0 1 .018-1.042.751.751 0 0 1 1.042-.018L6 10.94l6.72-6.72a.75.75 0 0 1 1.06 0Z"></path>
</svg>
    </clipboard-copy>
  </div>
</template>


    <style>
      .user-mention[href$="/TeekamChaudhary"] {
        color: var(--color-user-mention-fg);
        background-color: var(--color-user-mention-bg);
        border-radius: 2px;
        margin-left: -2px;
        margin-right: -2px;
        padding: 0 2px;
      }
    </style>


    </div>

    <div id="js-global-screen-reader-notice" class="sr-only" aria-live="polite" ></div>
  </body>
</html>

